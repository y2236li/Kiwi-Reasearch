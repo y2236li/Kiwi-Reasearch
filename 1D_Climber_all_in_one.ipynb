{
  "nbformat": 4,
  "nbformat_minor": 0,
  "metadata": {
    "colab": {
      "name": "1D Climber all in one",
      "provenance": [],
      "collapsed_sections": [],
      "toc_visible": true,
      "authorship_tag": "ABX9TyMZHkDfG2EJQvE7I2egw+NX",
      "include_colab_link": true
    },
    "kernelspec": {
      "name": "python3",
      "display_name": "Python 3"
    }
  },
  "cells": [
    {
      "cell_type": "markdown",
      "metadata": {
        "id": "view-in-github",
        "colab_type": "text"
      },
      "source": [
        "<a href=\"https://colab.research.google.com/github/y2236li/Kiwi-Reasearch/blob/master/1D_Climber_all_in_one.ipynb\" target=\"_parent\"><img src=\"https://colab.research.google.com/assets/colab-badge.svg\" alt=\"Open In Colab\"/></a>"
      ]
    },
    {
      "cell_type": "code",
      "metadata": {
        "id": "4vbW8m1PnUMG",
        "colab_type": "code",
        "colab": {}
      },
      "source": [
        "%load_ext autoreload"
      ],
      "execution_count": 0,
      "outputs": []
    },
    {
      "cell_type": "code",
      "metadata": {
        "id": "kGMuaGdgnf9t",
        "colab_type": "code",
        "outputId": "1cfff6f2-3892-4292-c94e-87d10d93a8ac",
        "colab": {
          "base_uri": "https://localhost:8080/",
          "height": 34
        }
      },
      "source": [
        "from google.colab import drive\n",
        "drive.mount('/content/drive')"
      ],
      "execution_count": 2,
      "outputs": [
        {
          "output_type": "stream",
          "text": [
            "Drive already mounted at /content/drive; to attempt to forcibly remount, call drive.mount(\"/content/drive\", force_remount=True).\n"
          ],
          "name": "stdout"
        }
      ]
    },
    {
      "cell_type": "code",
      "metadata": {
        "id": "i9w59bHDnhKo",
        "colab_type": "code",
        "outputId": "6b4cbc0e-6528-46fd-eef9-22c2cdd037ca",
        "colab": {
          "base_uri": "https://localhost:8080/",
          "height": 34
        }
      },
      "source": [
        "cd drive/My\\ Drive/kiwi_research/kiwi_project"
      ],
      "execution_count": 3,
      "outputs": [
        {
          "output_type": "stream",
          "text": [
            "/content/drive/My Drive/kiwi_research/kiwi_project\n"
          ],
          "name": "stdout"
        }
      ]
    },
    {
      "cell_type": "code",
      "metadata": {
        "id": "FIbI4UbGsyc0",
        "colab_type": "code",
        "outputId": "b9b7d7a4-4a11-49eb-fb06-006f6fce1335",
        "colab": {
          "base_uri": "https://localhost:8080/",
          "height": 80
        }
      },
      "source": [
        "from sklearn.preprocessing import MinMaxScaler\n",
        "import collections\n",
        "import pickle\n",
        "import pandas as pd\n",
        "import numpy as np\n",
        "import matplotlib.pyplot as plt\n",
        "from tqdm import tqdm\n",
        "from sklearn.svm import SVR\n",
        "from sklearn.metrics import r2_score\n",
        "from sklearn.cross_decomposition import PLSRegression\n",
        "from keras.layers import Dense, Activation\n",
        "from keras.models import Sequential, load_model\n",
        "from keras.optimizers import Adam"
      ],
      "execution_count": 4,
      "outputs": [
        {
          "output_type": "stream",
          "text": [
            "Using TensorFlow backend.\n"
          ],
          "name": "stderr"
        },
        {
          "output_type": "display_data",
          "data": {
            "text/html": [
              "<p style=\"color: red;\">\n",
              "The default version of TensorFlow in Colab will soon switch to TensorFlow 2.x.<br>\n",
              "We recommend you <a href=\"https://www.tensorflow.org/guide/migrate\" target=\"_blank\">upgrade</a> now \n",
              "or ensure your notebook will continue to use TensorFlow 1.x via the <code>%tensorflow_version 1.x</code> magic:\n",
              "<a href=\"https://colab.research.google.com/notebooks/tensorflow_version.ipynb\" target=\"_blank\">more info</a>.</p>\n"
            ],
            "text/plain": [
              "<IPython.core.display.HTML object>"
            ]
          },
          "metadata": {
            "tags": []
          }
        }
      ]
    },
    {
      "cell_type": "code",
      "metadata": {
        "id": "BEnI92vvnwYj",
        "colab_type": "code",
        "colab": {}
      },
      "source": [
        "def calAccuracy(x):\n",
        "  \"\"\"\n",
        "  Calculate the accuracy\n",
        "  return: accuracy\n",
        "  \"\"\"\n",
        "  if x in historical_accuracy:\n",
        "    return historical_accuracy[x]\n",
        "  pls2 = PLSRegression(n_components=x)\n",
        "  pls2.fit(X_train, Y_train)\n",
        "  Y_pred = pls2.predict(X_test)\n",
        "  y = r2_score(Y_pred, Y_test)\n",
        "  historical_accuracy[x] = y\n",
        "  return y\n",
        "\n",
        "def stateNormalize(scaler, detection, param_val):\n",
        "  detection = np.append(detection, param_val)\n",
        "  assert scaler.data_range_.shape[0] == detection.shape[0]\n",
        "  return scaler.transform([detection])[0]\n",
        "\n",
        "def stateDenormalized(scaler, cur_state):\n",
        "  res = scaler.inverse_transform([cur_state])\n",
        "  return (res[0][:-1], int(round(res[0][-1])))\n",
        "\n",
        "def detect(detect_range, x):\n",
        "  \"\"\"\n",
        "  return the accuracy of detecting area around the x\n",
        "  \n",
        "  \"\"\"\n",
        "  x_detect_range = np.array(detect_range) + x\n",
        "  return [calAccuracy(pos) if pos in x_range else 0 for pos in x_detect_range]\n"
      ],
      "execution_count": 0,
      "outputs": []
    },
    {
      "cell_type": "code",
      "metadata": {
        "id": "In_3LfA3-8uA",
        "colab_type": "code",
        "colab": {}
      },
      "source": [
        ""
      ],
      "execution_count": 0,
      "outputs": []
    },
    {
      "cell_type": "markdown",
      "metadata": {
        "id": "oEJ3W4z59x0Y",
        "colab_type": "text"
      },
      "source": [
        "## Global Variables"
      ]
    },
    {
      "cell_type": "code",
      "metadata": {
        "id": "JbQ-1il59xHI",
        "colab_type": "code",
        "colab": {}
      },
      "source": [
        "f_xy = open(\"pickles/XYtraintest.pk1\", \"rb\")\n",
        "X_train, X_test, Y_train, Y_test = pickle.load(f_xy)\n",
        "f_xy.close()\n",
        "\n",
        "f_a = open(\"pickles/accuracy_list.pk1\", \"rb\")\n",
        "accuracy_list = pickle.load(f_a)\n",
        "f_a.close()\n",
        "\n",
        "idle_range = 0.001 # if the change of recent steps (idle steps) did not have a change of this range. Game will be over\n",
        "idle_steps = 5\n",
        "x_range = range(1, 201)\n",
        "detect_range = [-3, -1, 0, 1, 3] # also input dim\n",
        "step_options = [-8, -3, -1, 0, 1, 3, 8] # also action space\n",
        "\n",
        "lr = 0.01 # also alpha\n",
        "one_game_steps = 300\n",
        "\n",
        "batch_size = one_game_steps*3\n",
        "gamma = 0.8\n",
        "\n",
        "#memory variables\n",
        "mem_size = one_game_steps*6\n",
        "assert batch_size <= mem_size\n",
        "mem_ctr = 0\n",
        "state_mem = {}\n",
        "onehot_action_mem = {}\n",
        "reward_mem = {}\n",
        "next_state_mem = {}\n",
        "terminal_mem = {}"
      ],
      "execution_count": 0,
      "outputs": []
    },
    {
      "cell_type": "markdown",
      "metadata": {
        "id": "4PwbvDE9tdj4",
        "colab_type": "text"
      },
      "source": [
        "## Create a scaler for state"
      ]
    },
    {
      "cell_type": "code",
      "metadata": {
        "id": "GB9rm7SqtcqA",
        "colab_type": "code",
        "outputId": "0174b7b2-4f96-4fe2-8b79-aeea78081f36",
        "colab": {
          "base_uri": "https://localhost:8080/"
        }
      },
      "source": [
        "data = [[*([0]*len(detect_range)), 1], [*([1]*len(detect_range)), 200]]\n",
        "scaler = MinMaxScaler()\n",
        "scaler.fit(data)\n",
        "scaler.data_range_.shape\n"
      ],
      "execution_count": 7,
      "outputs": [
        {
          "output_type": "execute_result",
          "data": {
            "text/plain": [
              "(6,)"
            ]
          },
          "metadata": {
            "tags": []
          },
          "execution_count": 7
        }
      ]
    },
    {
      "cell_type": "markdown",
      "metadata": {
        "id": "pVR-9q05iFmw",
        "colab_type": "text"
      },
      "source": [
        "## Game Initialization"
      ]
    },
    {
      "cell_type": "code",
      "metadata": {
        "id": "F5zmkePc_b8R",
        "colab_type": "code",
        "colab": {}
      },
      "source": [
        "historical_accuracy = {}\n",
        "x = 150\n",
        "detection = detect(detect_range, x)\n",
        "init_state = stateNormalize(scaler, detection, x)\n",
        "\n",
        "\n",
        "done = False\n",
        "step_ctr = 0\n",
        "\n",
        "cur_state = init_state"
      ],
      "execution_count": 0,
      "outputs": []
    },
    {
      "cell_type": "markdown",
      "metadata": {
        "id": "uSCkM_vikaMp",
        "colab_type": "text"
      },
      "source": [
        "## Create a Fully Connected Neural Network for Q Learning"
      ]
    },
    {
      "cell_type": "code",
      "metadata": {
        "id": "JG7wO-y7kZqD",
        "colab_type": "code",
        "outputId": "d9795400-551f-4260-d78d-6bf14ec4b47b",
        "colab": {
          "base_uri": "https://localhost:8080/",
          "height": 173
        }
      },
      "source": [
        "fc2_dims = 200\n",
        "q_model = Sequential([\n",
        "        Dense(200, input_shape=(cur_state.shape[0],)),\n",
        "        Activation('relu'),\n",
        "        Dense(fc2_dims),\n",
        "        Activation('relu'),\n",
        "        Dense(len(step_options))\n",
        "    ])\n",
        "\n",
        "q_model.compile(optimizer=Adam(lr=lr), loss='mse')"
      ],
      "execution_count": 9,
      "outputs": [
        {
          "output_type": "stream",
          "text": [
            "WARNING:tensorflow:From /usr/local/lib/python3.6/dist-packages/keras/backend/tensorflow_backend.py:66: The name tf.get_default_graph is deprecated. Please use tf.compat.v1.get_default_graph instead.\n",
            "\n",
            "WARNING:tensorflow:From /usr/local/lib/python3.6/dist-packages/keras/backend/tensorflow_backend.py:541: The name tf.placeholder is deprecated. Please use tf.compat.v1.placeholder instead.\n",
            "\n",
            "WARNING:tensorflow:From /usr/local/lib/python3.6/dist-packages/keras/backend/tensorflow_backend.py:4432: The name tf.random_uniform is deprecated. Please use tf.random.uniform instead.\n",
            "\n",
            "WARNING:tensorflow:From /usr/local/lib/python3.6/dist-packages/keras/optimizers.py:793: The name tf.train.Optimizer is deprecated. Please use tf.compat.v1.train.Optimizer instead.\n",
            "\n"
          ],
          "name": "stdout"
        }
      ]
    },
    {
      "cell_type": "code",
      "metadata": {
        "id": "HkxTjQO0lYpA",
        "colab_type": "code",
        "outputId": "018e3681-5433-4eac-cb66-e1bc3d5f9aeb",
        "colab": {
          "base_uri": "https://localhost:8080/",
          "height": 275
        }
      },
      "source": [
        "q_model.predict(cur_state.reshape(1, 6))"
      ],
      "execution_count": 10,
      "outputs": [
        {
          "output_type": "stream",
          "text": [
            "WARNING:tensorflow:From /usr/local/lib/python3.6/dist-packages/keras/backend/tensorflow_backend.py:3005: The name tf.Session is deprecated. Please use tf.compat.v1.Session instead.\n",
            "\n",
            "WARNING:tensorflow:From /usr/local/lib/python3.6/dist-packages/keras/backend/tensorflow_backend.py:190: The name tf.get_default_session is deprecated. Please use tf.compat.v1.get_default_session instead.\n",
            "\n",
            "WARNING:tensorflow:From /usr/local/lib/python3.6/dist-packages/keras/backend/tensorflow_backend.py:197: The name tf.ConfigProto is deprecated. Please use tf.compat.v1.ConfigProto instead.\n",
            "\n",
            "WARNING:tensorflow:From /usr/local/lib/python3.6/dist-packages/keras/backend/tensorflow_backend.py:207: The name tf.global_variables is deprecated. Please use tf.compat.v1.global_variables instead.\n",
            "\n",
            "WARNING:tensorflow:From /usr/local/lib/python3.6/dist-packages/keras/backend/tensorflow_backend.py:216: The name tf.is_variable_initialized is deprecated. Please use tf.compat.v1.is_variable_initialized instead.\n",
            "\n",
            "WARNING:tensorflow:From /usr/local/lib/python3.6/dist-packages/keras/backend/tensorflow_backend.py:223: The name tf.variables_initializer is deprecated. Please use tf.compat.v1.variables_initializer instead.\n",
            "\n"
          ],
          "name": "stdout"
        },
        {
          "output_type": "execute_result",
          "data": {
            "text/plain": [
              "array([[ 0.04637441, -0.13272649,  0.10633672, -0.06502012,  0.11232945,\n",
              "        -0.05208415,  0.05450027]], dtype=float32)"
            ]
          },
          "metadata": {
            "tags": []
          },
          "execution_count": 10
        }
      ]
    },
    {
      "cell_type": "code",
      "metadata": {
        "id": "4WU7ItsNyPIT",
        "colab_type": "code",
        "colab": {}
      },
      "source": [
        "def step(cur_state, action):\n",
        "  next_x = max(min(200, int(round(stateDenormalized(scaler, cur_state)[-1])) + action), 1)\n",
        "  next_state = stateNormalize(scaler, detect(detect_range, next_x), next_x)\n",
        "  reward = calAccuracy(next_x)\n",
        "  return (next_state, reward)\n",
        "\n",
        "def writeMem(cur_state, next_state, action, reward, done):\n",
        "  index = mem_ctr % mem_size\n",
        "  state_mem[index] = cur_state\n",
        "  next_state_mem[index] = next_state\n",
        "  tmp_onehot = np.zeros(len(step_options), dtype=np.int64)\n",
        "  tmp_onehot[step_options.index(action)] = 1\n",
        "  onehot_action_mem[index] = tmp_onehot\n",
        "  reward_mem[index] = reward\n",
        "  terminal_mem[index] = done\n"
      ],
      "execution_count": 0,
      "outputs": []
    },
    {
      "cell_type": "markdown",
      "metadata": {
        "id": "_mGVQWVjt9kD",
        "colab_type": "text"
      },
      "source": [
        "## Main"
      ]
    },
    {
      "cell_type": "code",
      "metadata": {
        "id": "hyF21pJ1oIWr",
        "colab_type": "code",
        "outputId": "014b8af1-ee19-4a27-e397-436b5ea32a45",
        "colab": {
          "base_uri": "https://localhost:8080/",
          "height": 122
        }
      },
      "source": [
        "'''Prepare Data'''\n",
        "# data_path = \"data/clean raw data.xlsx\"\n",
        "# df = pd.read_excel(data_path)\n",
        "# X = df[df.columns[3:]]\n",
        "# Y = df[\"Brix\"].values\n",
        "# X_matrix = X.to_numpy()\n",
        "# nonzero_index = np.nonzero(X_matrix.sum(axis = 0))[0]\n",
        "# X_matrix_nonzero = X_matrix[:, nonzero_index]\n",
        "# X_nonzero_columns = X.columns[nonzero_index]\n",
        "\n",
        "\n",
        "# while(not done):\n",
        "\n",
        "# reset memory\n",
        "mem_ctr = 0\n",
        "state_mem = {}\n",
        "onehot_action_mem = {}\n",
        "reward_mem = {}\n",
        "next_state_mem = {}\n",
        "terminal_mem = {}\n",
        "\n",
        "batch_size = one_game_steps * 2\n",
        "n_games = 33\n",
        "\n",
        "reward_his = []\n",
        "\n",
        "\n",
        "scaler_state = MinMaxScaler()\n",
        "\n",
        "for i in tqdm(range(n_games)):\n",
        "  cur_state = init_state\n",
        "  for step_ctr in range(one_game_steps):\n",
        "    \n",
        "  # predict action\n",
        "    if mem_ctr < batch_size:\n",
        "      action = np.random.choice(step_options)\n",
        "    else:\n",
        "      # once random walk were done, the state in memory will be normalized\n",
        "      if mem_ctr == batch_size:\n",
        "        scaler_state.fit(np.array(list(state_mem.values())))\n",
        "        state_mem = dict(zip(*(range(mem_size), scaler_state.transform(np.array(list(state_mem.values()))))))\n",
        "        cur_nor_state = scaler_state.transform([cur_state])[0]\n",
        "\n",
        "      indices = np.random.choice(len(state_mem), batch_size)\n",
        "\n",
        "      batch_states = np.array(list(state_mem.values()))[indices]\n",
        "      batch_next_states = np.array(list(next_state_mem.values()))[indices]\n",
        "      batch_actions = np.array(list(onehot_action_mem.values()))[indices]\n",
        "      batch_rewards = np.array(list(reward_mem.values()))[indices]\n",
        "\n",
        "      q_matrix = q_model.predict(batch_states)\n",
        "      q_next = q_model.predict(batch_next_states)\n",
        "\n",
        "      actions_indices = np.dot(batch_actions, np.arange(len(step_options), dtype=np.int64))\n",
        "      batch_indices = np.arange(batch_size, dtype=np.int64)\n",
        "\n",
        "      q_matrix[batch_indices, actions_indices] = batch_rewards + gamma*np.max(q_next, axis=1) * done\n",
        "\n",
        "\n",
        "      q_model.fit(batch_states, q_matrix, verbose=0, epochs = 1)\n",
        "\n",
        "      action = step_options[np.argmax(q_model.predict(cur_nor_state.reshape(1, 6)))]\n",
        "    \n",
        "      \n",
        "    next_state, reward = step(cur_state, action)\n",
        "    if mem_ctr >= batch_size:\n",
        "      next_nor_state = scaler_state.transform([next_state])[0]\n",
        "      writeMem(cur_nor_state, next_nor_state, action, reward, done)\n",
        "    else:\n",
        "      writeMem(cur_state, next_state, action, reward, done)\n",
        "    reward_his.append(reward)\n",
        "\n",
        "\n",
        "    \n",
        "\n",
        "    \n",
        "\n",
        "    cur_state = next_state\n",
        "\n",
        "\n",
        "    mem_ctr += 1"
      ],
      "execution_count": 0,
      "outputs": [
        {
          "output_type": "stream",
          "text": [
            "  3%|▎         | 1/33 [00:09<04:49,  9.05s/it]"
          ],
          "name": "stderr"
        },
        {
          "output_type": "stream",
          "text": [
            "WARNING:tensorflow:From /usr/local/lib/python3.6/dist-packages/keras/backend/tensorflow_backend.py:1033: The name tf.assign_add is deprecated. Please use tf.compat.v1.assign_add instead.\n",
            "\n",
            "WARNING:tensorflow:From /usr/local/lib/python3.6/dist-packages/keras/backend/tensorflow_backend.py:1020: The name tf.assign is deprecated. Please use tf.compat.v1.assign instead.\n",
            "\n"
          ],
          "name": "stdout"
        },
        {
          "output_type": "stream",
          "text": [
            " 27%|██▋       | 9/33 [01:51<05:21, 13.40s/it]"
          ],
          "name": "stderr"
        }
      ]
    },
    {
      "cell_type": "code",
      "metadata": {
        "id": "xeKwGITotBr7",
        "colab_type": "code",
        "outputId": "c960b005-fe5a-44ba-eeea-abc443da78eb",
        "colab": {
          "base_uri": "https://localhost:8080/",
          "height": 282
        }
      },
      "source": [
        "plt.plot(reward_his) # epoch = 1 trial 1"
      ],
      "execution_count": 0,
      "outputs": [
        {
          "output_type": "execute_result",
          "data": {
            "text/plain": [
              "[<matplotlib.lines.Line2D at 0x7fc36f103780>]"
            ]
          },
          "metadata": {
            "tags": []
          },
          "execution_count": 20
        },
        {
          "output_type": "display_data",
          "data": {
            "image/png": "[encoded data removed]",
            "text/plain": [
              "<Figure size 432x288 with 1 Axes>"
            ]
          },
          "metadata": {
            "tags": []
          }
        }
      ]
    },
    {
      "cell_type": "code",
      "metadata": {
        "id": "MRpxYRB06JfN",
        "colab_type": "code",
        "colab": {
          "base_uri": "https://localhost:8080/",
          "height": 282
        },
        "outputId": "13e0b388-30aa-4435-b49f-c4f73f2d9f91"
      },
      "source": [
        "plt.plot(reward_his) # epoch = 1 trial 2"
      ],
      "execution_count": 87,
      "outputs": [
        {
          "output_type": "execute_result",
          "data": {
            "text/plain": [
              "[<matplotlib.lines.Line2D at 0x7fe4bc2714e0>]"
            ]
          },
          "metadata": {
            "tags": []
          },
          "execution_count": 87
        },
        {
          "output_type": "display_data",
          "data": {
            "image/png": "[encoded data removed]",
            "text/plain": [
              "<Figure size 432x288 with 1 Axes>"
            ]
          },
          "metadata": {
            "tags": []
          }
        }
      ]
    },
    {
      "cell_type": "code",
      "metadata": {
        "id": "xI8MRQpS5X17",
        "colab_type": "code",
        "outputId": "215a8d77-5472-4866-9435-99c76d190e5c",
        "colab": {
          "base_uri": "https://localhost:8080/",
          "height": 282
        }
      },
      "source": [
        "plt.plot(reward_his) # epoch = 20 trial 1"
      ],
      "execution_count": 0,
      "outputs": [
        {
          "output_type": "execute_result",
          "data": {
            "text/plain": [
              "[<matplotlib.lines.Line2D at 0x7fc36efefc88>]"
            ]
          },
          "metadata": {
            "tags": []
          },
          "execution_count": 22
        },
        {
          "output_type": "display_data",
          "data": {
            "image/png": "[encoded data removed]",
            "text/plain": [
              "<Figure size 432x288 with 1 Axes>"
            ]
          },
          "metadata": {
            "tags": []
          }
        }
      ]
    },
    {
      "cell_type": "code",
      "metadata": {
        "id": "7tA1Nm3e9EPu",
        "colab_type": "code",
        "outputId": "dee3ee8a-f49d-4cb0-8262-fa499e33c27f",
        "colab": {
          "base_uri": "https://localhost:8080/",
          "height": 34
        }
      },
      "source": [
        "accuracy_list[150]"
      ],
      "execution_count": 0,
      "outputs": [
        {
          "output_type": "execute_result",
          "data": {
            "text/plain": [
              "0.7645200307759966"
            ]
          },
          "metadata": {
            "tags": []
          },
          "execution_count": 28
        }
      ]
    },
    {
      "cell_type": "markdown",
      "metadata": {
        "id": "FC_blyfTEzqP",
        "colab_type": "text"
      },
      "source": [
        "## Visualize Optimization Process"
      ]
    },
    {
      "cell_type": "code",
      "metadata": {
        "id": "bVogCMbGE5rx",
        "colab_type": "code",
        "colab": {
          "base_uri": "https://localhost:8080/"
        },
        "outputId": "532bb665-502d-4c6c-88c7-092f3b6ab49f"
      },
      "source": [
        "prediction = []\n",
        "cur_state = init_state\n",
        "for step_ctr in range(one_game_steps):\n",
        "  action = step_options[np.argmax(q_model.predict(cur_state.reshape(1, 6)))]\n",
        "  print(stateDenormalized(scaler, cur_state))\n",
        "  next_state, reward = step(cur_state, action)\n",
        "  prediction.append(reward)\n",
        "  cur_state = next_state\n",
        "plt.plot(prediction)\n"
      ],
      "execution_count": 88,
      "outputs": [
        {
          "output_type": "stream",
          "text": [
            "(array([0.75783534, 0.75874093, 0.76252182, 0.76452003, 0.75913296]), 150)\n",
            "(array([0.75783534, 0.75874093, 0.76252182, 0.76452003, 0.75913296]), 150)\n",
            "(array([0.75783534, 0.75874093, 0.76252182, 0.76452003, 0.75913296]), 150)\n",
            "(array([0.75783534, 0.75874093, 0.76252182, 0.76452003, 0.75913296]), 150)\n",
            "(array([0.75783534, 0.75874093, 0.76252182, 0.76452003, 0.75913296]), 150)\n",
            "(array([0.75783534, 0.75874093, 0.76252182, 0.76452003, 0.75913296]), 150)\n",
            "(array([0.75783534, 0.75874093, 0.76252182, 0.76452003, 0.75913296]), 150)\n",
            "(array([0.75783534, 0.75874093, 0.76252182, 0.76452003, 0.75913296]), 150)\n",
            "(array([0.75783534, 0.75874093, 0.76252182, 0.76452003, 0.75913296]), 150)\n",
            "(array([0.75783534, 0.75874093, 0.76252182, 0.76452003, 0.75913296]), 150)\n",
            "(array([0.75783534, 0.75874093, 0.76252182, 0.76452003, 0.75913296]), 150)\n",
            "(array([0.75783534, 0.75874093, 0.76252182, 0.76452003, 0.75913296]), 150)\n",
            "(array([0.75783534, 0.75874093, 0.76252182, 0.76452003, 0.75913296]), 150)\n",
            "(array([0.75783534, 0.75874093, 0.76252182, 0.76452003, 0.75913296]), 150)\n",
            "(array([0.75783534, 0.75874093, 0.76252182, 0.76452003, 0.75913296]), 150)\n",
            "(array([0.75783534, 0.75874093, 0.76252182, 0.76452003, 0.75913296]), 150)\n",
            "(array([0.75783534, 0.75874093, 0.76252182, 0.76452003, 0.75913296]), 150)\n",
            "(array([0.75783534, 0.75874093, 0.76252182, 0.76452003, 0.75913296]), 150)\n",
            "(array([0.75783534, 0.75874093, 0.76252182, 0.76452003, 0.75913296]), 150)\n",
            "(array([0.75783534, 0.75874093, 0.76252182, 0.76452003, 0.75913296]), 150)\n",
            "(array([0.75783534, 0.75874093, 0.76252182, 0.76452003, 0.75913296]), 150)\n",
            "(array([0.75783534, 0.75874093, 0.76252182, 0.76452003, 0.75913296]), 150)\n",
            "(array([0.75783534, 0.75874093, 0.76252182, 0.76452003, 0.75913296]), 150)\n",
            "(array([0.75783534, 0.75874093, 0.76252182, 0.76452003, 0.75913296]), 150)\n",
            "(array([0.75783534, 0.75874093, 0.76252182, 0.76452003, 0.75913296]), 150)\n",
            "(array([0.75783534, 0.75874093, 0.76252182, 0.76452003, 0.75913296]), 150)\n",
            "(array([0.75783534, 0.75874093, 0.76252182, 0.76452003, 0.75913296]), 150)\n",
            "(array([0.75783534, 0.75874093, 0.76252182, 0.76452003, 0.75913296]), 150)\n",
            "(array([0.75783534, 0.75874093, 0.76252182, 0.76452003, 0.75913296]), 150)\n",
            "(array([0.75783534, 0.75874093, 0.76252182, 0.76452003, 0.75913296]), 150)\n",
            "(array([0.75783534, 0.75874093, 0.76252182, 0.76452003, 0.75913296]), 150)\n",
            "(array([0.75783534, 0.75874093, 0.76252182, 0.76452003, 0.75913296]), 150)\n",
            "(array([0.75783534, 0.75874093, 0.76252182, 0.76452003, 0.75913296]), 150)\n",
            "(array([0.75783534, 0.75874093, 0.76252182, 0.76452003, 0.75913296]), 150)\n",
            "(array([0.75783534, 0.75874093, 0.76252182, 0.76452003, 0.75913296]), 150)\n",
            "(array([0.75783534, 0.75874093, 0.76252182, 0.76452003, 0.75913296]), 150)\n",
            "(array([0.75783534, 0.75874093, 0.76252182, 0.76452003, 0.75913296]), 150)\n",
            "(array([0.75783534, 0.75874093, 0.76252182, 0.76452003, 0.75913296]), 150)\n",
            "(array([0.75783534, 0.75874093, 0.76252182, 0.76452003, 0.75913296]), 150)\n",
            "(array([0.75783534, 0.75874093, 0.76252182, 0.76452003, 0.75913296]), 150)\n",
            "(array([0.75783534, 0.75874093, 0.76252182, 0.76452003, 0.75913296]), 150)\n",
            "(array([0.75783534, 0.75874093, 0.76252182, 0.76452003, 0.75913296]), 150)\n",
            "(array([0.75783534, 0.75874093, 0.76252182, 0.76452003, 0.75913296]), 150)\n",
            "(array([0.75783534, 0.75874093, 0.76252182, 0.76452003, 0.75913296]), 150)\n",
            "(array([0.75783534, 0.75874093, 0.76252182, 0.76452003, 0.75913296]), 150)\n",
            "(array([0.75783534, 0.75874093, 0.76252182, 0.76452003, 0.75913296]), 150)\n",
            "(array([0.75783534, 0.75874093, 0.76252182, 0.76452003, 0.75913296]), 150)\n",
            "(array([0.75783534, 0.75874093, 0.76252182, 0.76452003, 0.75913296]), 150)\n",
            "(array([0.75783534, 0.75874093, 0.76252182, 0.76452003, 0.75913296]), 150)\n",
            "(array([0.75783534, 0.75874093, 0.76252182, 0.76452003, 0.75913296]), 150)\n",
            "(array([0.75783534, 0.75874093, 0.76252182, 0.76452003, 0.75913296]), 150)\n",
            "(array([0.75783534, 0.75874093, 0.76252182, 0.76452003, 0.75913296]), 150)\n",
            "(array([0.75783534, 0.75874093, 0.76252182, 0.76452003, 0.75913296]), 150)\n",
            "(array([0.75783534, 0.75874093, 0.76252182, 0.76452003, 0.75913296]), 150)\n",
            "(array([0.75783534, 0.75874093, 0.76252182, 0.76452003, 0.75913296]), 150)\n",
            "(array([0.75783534, 0.75874093, 0.76252182, 0.76452003, 0.75913296]), 150)\n",
            "(array([0.75783534, 0.75874093, 0.76252182, 0.76452003, 0.75913296]), 150)\n",
            "(array([0.75783534, 0.75874093, 0.76252182, 0.76452003, 0.75913296]), 150)\n",
            "(array([0.75783534, 0.75874093, 0.76252182, 0.76452003, 0.75913296]), 150)\n",
            "(array([0.75783534, 0.75874093, 0.76252182, 0.76452003, 0.75913296]), 150)\n",
            "(array([0.75783534, 0.75874093, 0.76252182, 0.76452003, 0.75913296]), 150)\n",
            "(array([0.75783534, 0.75874093, 0.76252182, 0.76452003, 0.75913296]), 150)\n",
            "(array([0.75783534, 0.75874093, 0.76252182, 0.76452003, 0.75913296]), 150)\n",
            "(array([0.75783534, 0.75874093, 0.76252182, 0.76452003, 0.75913296]), 150)\n",
            "(array([0.75783534, 0.75874093, 0.76252182, 0.76452003, 0.75913296]), 150)\n",
            "(array([0.75783534, 0.75874093, 0.76252182, 0.76452003, 0.75913296]), 150)\n",
            "(array([0.75783534, 0.75874093, 0.76252182, 0.76452003, 0.75913296]), 150)\n",
            "(array([0.75783534, 0.75874093, 0.76252182, 0.76452003, 0.75913296]), 150)\n",
            "(array([0.75783534, 0.75874093, 0.76252182, 0.76452003, 0.75913296]), 150)\n",
            "(array([0.75783534, 0.75874093, 0.76252182, 0.76452003, 0.75913296]), 150)\n",
            "(array([0.75783534, 0.75874093, 0.76252182, 0.76452003, 0.75913296]), 150)\n",
            "(array([0.75783534, 0.75874093, 0.76252182, 0.76452003, 0.75913296]), 150)\n",
            "(array([0.75783534, 0.75874093, 0.76252182, 0.76452003, 0.75913296]), 150)\n",
            "(array([0.75783534, 0.75874093, 0.76252182, 0.76452003, 0.75913296]), 150)\n",
            "(array([0.75783534, 0.75874093, 0.76252182, 0.76452003, 0.75913296]), 150)\n",
            "(array([0.75783534, 0.75874093, 0.76252182, 0.76452003, 0.75913296]), 150)\n",
            "(array([0.75783534, 0.75874093, 0.76252182, 0.76452003, 0.75913296]), 150)\n",
            "(array([0.75783534, 0.75874093, 0.76252182, 0.76452003, 0.75913296]), 150)\n",
            "(array([0.75783534, 0.75874093, 0.76252182, 0.76452003, 0.75913296]), 150)\n",
            "(array([0.75783534, 0.75874093, 0.76252182, 0.76452003, 0.75913296]), 150)\n",
            "(array([0.75783534, 0.75874093, 0.76252182, 0.76452003, 0.75913296]), 150)\n",
            "(array([0.75783534, 0.75874093, 0.76252182, 0.76452003, 0.75913296]), 150)\n",
            "(array([0.75783534, 0.75874093, 0.76252182, 0.76452003, 0.75913296]), 150)\n",
            "(array([0.75783534, 0.75874093, 0.76252182, 0.76452003, 0.75913296]), 150)\n",
            "(array([0.75783534, 0.75874093, 0.76252182, 0.76452003, 0.75913296]), 150)\n",
            "(array([0.75783534, 0.75874093, 0.76252182, 0.76452003, 0.75913296]), 150)\n",
            "(array([0.75783534, 0.75874093, 0.76252182, 0.76452003, 0.75913296]), 150)\n",
            "(array([0.75783534, 0.75874093, 0.76252182, 0.76452003, 0.75913296]), 150)\n",
            "(array([0.75783534, 0.75874093, 0.76252182, 0.76452003, 0.75913296]), 150)\n",
            "(array([0.75783534, 0.75874093, 0.76252182, 0.76452003, 0.75913296]), 150)\n",
            "(array([0.75783534, 0.75874093, 0.76252182, 0.76452003, 0.75913296]), 150)\n",
            "(array([0.75783534, 0.75874093, 0.76252182, 0.76452003, 0.75913296]), 150)\n",
            "(array([0.75783534, 0.75874093, 0.76252182, 0.76452003, 0.75913296]), 150)\n",
            "(array([0.75783534, 0.75874093, 0.76252182, 0.76452003, 0.75913296]), 150)\n",
            "(array([0.75783534, 0.75874093, 0.76252182, 0.76452003, 0.75913296]), 150)\n",
            "(array([0.75783534, 0.75874093, 0.76252182, 0.76452003, 0.75913296]), 150)\n",
            "(array([0.75783534, 0.75874093, 0.76252182, 0.76452003, 0.75913296]), 150)\n",
            "(array([0.75783534, 0.75874093, 0.76252182, 0.76452003, 0.75913296]), 150)\n",
            "(array([0.75783534, 0.75874093, 0.76252182, 0.76452003, 0.75913296]), 150)\n",
            "(array([0.75783534, 0.75874093, 0.76252182, 0.76452003, 0.75913296]), 150)\n",
            "(array([0.75783534, 0.75874093, 0.76252182, 0.76452003, 0.75913296]), 150)\n",
            "(array([0.75783534, 0.75874093, 0.76252182, 0.76452003, 0.75913296]), 150)\n",
            "(array([0.75783534, 0.75874093, 0.76252182, 0.76452003, 0.75913296]), 150)\n",
            "(array([0.75783534, 0.75874093, 0.76252182, 0.76452003, 0.75913296]), 150)\n",
            "(array([0.75783534, 0.75874093, 0.76252182, 0.76452003, 0.75913296]), 150)\n",
            "(array([0.75783534, 0.75874093, 0.76252182, 0.76452003, 0.75913296]), 150)\n",
            "(array([0.75783534, 0.75874093, 0.76252182, 0.76452003, 0.75913296]), 150)\n",
            "(array([0.75783534, 0.75874093, 0.76252182, 0.76452003, 0.75913296]), 150)\n",
            "(array([0.75783534, 0.75874093, 0.76252182, 0.76452003, 0.75913296]), 150)\n",
            "(array([0.75783534, 0.75874093, 0.76252182, 0.76452003, 0.75913296]), 150)\n",
            "(array([0.75783534, 0.75874093, 0.76252182, 0.76452003, 0.75913296]), 150)\n",
            "(array([0.75783534, 0.75874093, 0.76252182, 0.76452003, 0.75913296]), 150)\n",
            "(array([0.75783534, 0.75874093, 0.76252182, 0.76452003, 0.75913296]), 150)\n",
            "(array([0.75783534, 0.75874093, 0.76252182, 0.76452003, 0.75913296]), 150)\n",
            "(array([0.75783534, 0.75874093, 0.76252182, 0.76452003, 0.75913296]), 150)\n",
            "(array([0.75783534, 0.75874093, 0.76252182, 0.76452003, 0.75913296]), 150)\n",
            "(array([0.75783534, 0.75874093, 0.76252182, 0.76452003, 0.75913296]), 150)\n",
            "(array([0.75783534, 0.75874093, 0.76252182, 0.76452003, 0.75913296]), 150)\n",
            "(array([0.75783534, 0.75874093, 0.76252182, 0.76452003, 0.75913296]), 150)\n",
            "(array([0.75783534, 0.75874093, 0.76252182, 0.76452003, 0.75913296]), 150)\n",
            "(array([0.75783534, 0.75874093, 0.76252182, 0.76452003, 0.75913296]), 150)\n",
            "(array([0.75783534, 0.75874093, 0.76252182, 0.76452003, 0.75913296]), 150)\n",
            "(array([0.75783534, 0.75874093, 0.76252182, 0.76452003, 0.75913296]), 150)\n",
            "(array([0.75783534, 0.75874093, 0.76252182, 0.76452003, 0.75913296]), 150)\n",
            "(array([0.75783534, 0.75874093, 0.76252182, 0.76452003, 0.75913296]), 150)\n",
            "(array([0.75783534, 0.75874093, 0.76252182, 0.76452003, 0.75913296]), 150)\n",
            "(array([0.75783534, 0.75874093, 0.76252182, 0.76452003, 0.75913296]), 150)\n",
            "(array([0.75783534, 0.75874093, 0.76252182, 0.76452003, 0.75913296]), 150)\n",
            "(array([0.75783534, 0.75874093, 0.76252182, 0.76452003, 0.75913296]), 150)\n",
            "(array([0.75783534, 0.75874093, 0.76252182, 0.76452003, 0.75913296]), 150)\n",
            "(array([0.75783534, 0.75874093, 0.76252182, 0.76452003, 0.75913296]), 150)\n",
            "(array([0.75783534, 0.75874093, 0.76252182, 0.76452003, 0.75913296]), 150)\n",
            "(array([0.75783534, 0.75874093, 0.76252182, 0.76452003, 0.75913296]), 150)\n",
            "(array([0.75783534, 0.75874093, 0.76252182, 0.76452003, 0.75913296]), 150)\n",
            "(array([0.75783534, 0.75874093, 0.76252182, 0.76452003, 0.75913296]), 150)\n",
            "(array([0.75783534, 0.75874093, 0.76252182, 0.76452003, 0.75913296]), 150)\n",
            "(array([0.75783534, 0.75874093, 0.76252182, 0.76452003, 0.75913296]), 150)\n",
            "(array([0.75783534, 0.75874093, 0.76252182, 0.76452003, 0.75913296]), 150)\n",
            "(array([0.75783534, 0.75874093, 0.76252182, 0.76452003, 0.75913296]), 150)\n",
            "(array([0.75783534, 0.75874093, 0.76252182, 0.76452003, 0.75913296]), 150)\n",
            "(array([0.75783534, 0.75874093, 0.76252182, 0.76452003, 0.75913296]), 150)\n",
            "(array([0.75783534, 0.75874093, 0.76252182, 0.76452003, 0.75913296]), 150)\n",
            "(array([0.75783534, 0.75874093, 0.76252182, 0.76452003, 0.75913296]), 150)\n",
            "(array([0.75783534, 0.75874093, 0.76252182, 0.76452003, 0.75913296]), 150)\n",
            "(array([0.75783534, 0.75874093, 0.76252182, 0.76452003, 0.75913296]), 150)\n",
            "(array([0.75783534, 0.75874093, 0.76252182, 0.76452003, 0.75913296]), 150)\n",
            "(array([0.75783534, 0.75874093, 0.76252182, 0.76452003, 0.75913296]), 150)\n",
            "(array([0.75783534, 0.75874093, 0.76252182, 0.76452003, 0.75913296]), 150)\n",
            "(array([0.75783534, 0.75874093, 0.76252182, 0.76452003, 0.75913296]), 150)\n",
            "(array([0.75783534, 0.75874093, 0.76252182, 0.76452003, 0.75913296]), 150)\n",
            "(array([0.75783534, 0.75874093, 0.76252182, 0.76452003, 0.75913296]), 150)\n",
            "(array([0.75783534, 0.75874093, 0.76252182, 0.76452003, 0.75913296]), 150)\n",
            "(array([0.75783534, 0.75874093, 0.76252182, 0.76452003, 0.75913296]), 150)\n",
            "(array([0.75783534, 0.75874093, 0.76252182, 0.76452003, 0.75913296]), 150)\n",
            "(array([0.75783534, 0.75874093, 0.76252182, 0.76452003, 0.75913296]), 150)\n",
            "(array([0.75783534, 0.75874093, 0.76252182, 0.76452003, 0.75913296]), 150)\n",
            "(array([0.75783534, 0.75874093, 0.76252182, 0.76452003, 0.75913296]), 150)\n",
            "(array([0.75783534, 0.75874093, 0.76252182, 0.76452003, 0.75913296]), 150)\n",
            "(array([0.75783534, 0.75874093, 0.76252182, 0.76452003, 0.75913296]), 150)\n",
            "(array([0.75783534, 0.75874093, 0.76252182, 0.76452003, 0.75913296]), 150)\n",
            "(array([0.75783534, 0.75874093, 0.76252182, 0.76452003, 0.75913296]), 150)\n",
            "(array([0.75783534, 0.75874093, 0.76252182, 0.76452003, 0.75913296]), 150)\n",
            "(array([0.75783534, 0.75874093, 0.76252182, 0.76452003, 0.75913296]), 150)\n",
            "(array([0.75783534, 0.75874093, 0.76252182, 0.76452003, 0.75913296]), 150)\n",
            "(array([0.75783534, 0.75874093, 0.76252182, 0.76452003, 0.75913296]), 150)\n",
            "(array([0.75783534, 0.75874093, 0.76252182, 0.76452003, 0.75913296]), 150)\n",
            "(array([0.75783534, 0.75874093, 0.76252182, 0.76452003, 0.75913296]), 150)\n",
            "(array([0.75783534, 0.75874093, 0.76252182, 0.76452003, 0.75913296]), 150)\n",
            "(array([0.75783534, 0.75874093, 0.76252182, 0.76452003, 0.75913296]), 150)\n",
            "(array([0.75783534, 0.75874093, 0.76252182, 0.76452003, 0.75913296]), 150)\n",
            "(array([0.75783534, 0.75874093, 0.76252182, 0.76452003, 0.75913296]), 150)\n",
            "(array([0.75783534, 0.75874093, 0.76252182, 0.76452003, 0.75913296]), 150)\n",
            "(array([0.75783534, 0.75874093, 0.76252182, 0.76452003, 0.75913296]), 150)\n",
            "(array([0.75783534, 0.75874093, 0.76252182, 0.76452003, 0.75913296]), 150)\n",
            "(array([0.75783534, 0.75874093, 0.76252182, 0.76452003, 0.75913296]), 150)\n",
            "(array([0.75783534, 0.75874093, 0.76252182, 0.76452003, 0.75913296]), 150)\n",
            "(array([0.75783534, 0.75874093, 0.76252182, 0.76452003, 0.75913296]), 150)\n",
            "(array([0.75783534, 0.75874093, 0.76252182, 0.76452003, 0.75913296]), 150)\n",
            "(array([0.75783534, 0.75874093, 0.76252182, 0.76452003, 0.75913296]), 150)\n",
            "(array([0.75783534, 0.75874093, 0.76252182, 0.76452003, 0.75913296]), 150)\n",
            "(array([0.75783534, 0.75874093, 0.76252182, 0.76452003, 0.75913296]), 150)\n",
            "(array([0.75783534, 0.75874093, 0.76252182, 0.76452003, 0.75913296]), 150)\n",
            "(array([0.75783534, 0.75874093, 0.76252182, 0.76452003, 0.75913296]), 150)\n",
            "(array([0.75783534, 0.75874093, 0.76252182, 0.76452003, 0.75913296]), 150)\n",
            "(array([0.75783534, 0.75874093, 0.76252182, 0.76452003, 0.75913296]), 150)\n",
            "(array([0.75783534, 0.75874093, 0.76252182, 0.76452003, 0.75913296]), 150)\n",
            "(array([0.75783534, 0.75874093, 0.76252182, 0.76452003, 0.75913296]), 150)\n",
            "(array([0.75783534, 0.75874093, 0.76252182, 0.76452003, 0.75913296]), 150)\n",
            "(array([0.75783534, 0.75874093, 0.76252182, 0.76452003, 0.75913296]), 150)\n",
            "(array([0.75783534, 0.75874093, 0.76252182, 0.76452003, 0.75913296]), 150)\n",
            "(array([0.75783534, 0.75874093, 0.76252182, 0.76452003, 0.75913296]), 150)\n",
            "(array([0.75783534, 0.75874093, 0.76252182, 0.76452003, 0.75913296]), 150)\n",
            "(array([0.75783534, 0.75874093, 0.76252182, 0.76452003, 0.75913296]), 150)\n",
            "(array([0.75783534, 0.75874093, 0.76252182, 0.76452003, 0.75913296]), 150)\n",
            "(array([0.75783534, 0.75874093, 0.76252182, 0.76452003, 0.75913296]), 150)\n",
            "(array([0.75783534, 0.75874093, 0.76252182, 0.76452003, 0.75913296]), 150)\n",
            "(array([0.75783534, 0.75874093, 0.76252182, 0.76452003, 0.75913296]), 150)\n",
            "(array([0.75783534, 0.75874093, 0.76252182, 0.76452003, 0.75913296]), 150)\n",
            "(array([0.75783534, 0.75874093, 0.76252182, 0.76452003, 0.75913296]), 150)\n",
            "(array([0.75783534, 0.75874093, 0.76252182, 0.76452003, 0.75913296]), 150)\n",
            "(array([0.75783534, 0.75874093, 0.76252182, 0.76452003, 0.75913296]), 150)\n",
            "(array([0.75783534, 0.75874093, 0.76252182, 0.76452003, 0.75913296]), 150)\n",
            "(array([0.75783534, 0.75874093, 0.76252182, 0.76452003, 0.75913296]), 150)\n",
            "(array([0.75783534, 0.75874093, 0.76252182, 0.76452003, 0.75913296]), 150)\n",
            "(array([0.75783534, 0.75874093, 0.76252182, 0.76452003, 0.75913296]), 150)\n",
            "(array([0.75783534, 0.75874093, 0.76252182, 0.76452003, 0.75913296]), 150)\n",
            "(array([0.75783534, 0.75874093, 0.76252182, 0.76452003, 0.75913296]), 150)\n",
            "(array([0.75783534, 0.75874093, 0.76252182, 0.76452003, 0.75913296]), 150)\n",
            "(array([0.75783534, 0.75874093, 0.76252182, 0.76452003, 0.75913296]), 150)\n",
            "(array([0.75783534, 0.75874093, 0.76252182, 0.76452003, 0.75913296]), 150)\n",
            "(array([0.75783534, 0.75874093, 0.76252182, 0.76452003, 0.75913296]), 150)\n",
            "(array([0.75783534, 0.75874093, 0.76252182, 0.76452003, 0.75913296]), 150)\n",
            "(array([0.75783534, 0.75874093, 0.76252182, 0.76452003, 0.75913296]), 150)\n",
            "(array([0.75783534, 0.75874093, 0.76252182, 0.76452003, 0.75913296]), 150)\n",
            "(array([0.75783534, 0.75874093, 0.76252182, 0.76452003, 0.75913296]), 150)\n",
            "(array([0.75783534, 0.75874093, 0.76252182, 0.76452003, 0.75913296]), 150)\n",
            "(array([0.75783534, 0.75874093, 0.76252182, 0.76452003, 0.75913296]), 150)\n",
            "(array([0.75783534, 0.75874093, 0.76252182, 0.76452003, 0.75913296]), 150)\n",
            "(array([0.75783534, 0.75874093, 0.76252182, 0.76452003, 0.75913296]), 150)\n",
            "(array([0.75783534, 0.75874093, 0.76252182, 0.76452003, 0.75913296]), 150)\n",
            "(array([0.75783534, 0.75874093, 0.76252182, 0.76452003, 0.75913296]), 150)\n",
            "(array([0.75783534, 0.75874093, 0.76252182, 0.76452003, 0.75913296]), 150)\n",
            "(array([0.75783534, 0.75874093, 0.76252182, 0.76452003, 0.75913296]), 150)\n",
            "(array([0.75783534, 0.75874093, 0.76252182, 0.76452003, 0.75913296]), 150)\n",
            "(array([0.75783534, 0.75874093, 0.76252182, 0.76452003, 0.75913296]), 150)\n",
            "(array([0.75783534, 0.75874093, 0.76252182, 0.76452003, 0.75913296]), 150)\n",
            "(array([0.75783534, 0.75874093, 0.76252182, 0.76452003, 0.75913296]), 150)\n",
            "(array([0.75783534, 0.75874093, 0.76252182, 0.76452003, 0.75913296]), 150)\n",
            "(array([0.75783534, 0.75874093, 0.76252182, 0.76452003, 0.75913296]), 150)\n",
            "(array([0.75783534, 0.75874093, 0.76252182, 0.76452003, 0.75913296]), 150)\n",
            "(array([0.75783534, 0.75874093, 0.76252182, 0.76452003, 0.75913296]), 150)\n",
            "(array([0.75783534, 0.75874093, 0.76252182, 0.76452003, 0.75913296]), 150)\n",
            "(array([0.75783534, 0.75874093, 0.76252182, 0.76452003, 0.75913296]), 150)\n",
            "(array([0.75783534, 0.75874093, 0.76252182, 0.76452003, 0.75913296]), 150)\n",
            "(array([0.75783534, 0.75874093, 0.76252182, 0.76452003, 0.75913296]), 150)\n",
            "(array([0.75783534, 0.75874093, 0.76252182, 0.76452003, 0.75913296]), 150)\n",
            "(array([0.75783534, 0.75874093, 0.76252182, 0.76452003, 0.75913296]), 150)\n",
            "(array([0.75783534, 0.75874093, 0.76252182, 0.76452003, 0.75913296]), 150)\n",
            "(array([0.75783534, 0.75874093, 0.76252182, 0.76452003, 0.75913296]), 150)\n",
            "(array([0.75783534, 0.75874093, 0.76252182, 0.76452003, 0.75913296]), 150)\n",
            "(array([0.75783534, 0.75874093, 0.76252182, 0.76452003, 0.75913296]), 150)\n",
            "(array([0.75783534, 0.75874093, 0.76252182, 0.76452003, 0.75913296]), 150)\n",
            "(array([0.75783534, 0.75874093, 0.76252182, 0.76452003, 0.75913296]), 150)\n",
            "(array([0.75783534, 0.75874093, 0.76252182, 0.76452003, 0.75913296]), 150)\n",
            "(array([0.75783534, 0.75874093, 0.76252182, 0.76452003, 0.75913296]), 150)\n",
            "(array([0.75783534, 0.75874093, 0.76252182, 0.76452003, 0.75913296]), 150)\n",
            "(array([0.75783534, 0.75874093, 0.76252182, 0.76452003, 0.75913296]), 150)\n",
            "(array([0.75783534, 0.75874093, 0.76252182, 0.76452003, 0.75913296]), 150)\n",
            "(array([0.75783534, 0.75874093, 0.76252182, 0.76452003, 0.75913296]), 150)\n",
            "(array([0.75783534, 0.75874093, 0.76252182, 0.76452003, 0.75913296]), 150)\n",
            "(array([0.75783534, 0.75874093, 0.76252182, 0.76452003, 0.75913296]), 150)\n",
            "(array([0.75783534, 0.75874093, 0.76252182, 0.76452003, 0.75913296]), 150)\n",
            "(array([0.75783534, 0.75874093, 0.76252182, 0.76452003, 0.75913296]), 150)\n",
            "(array([0.75783534, 0.75874093, 0.76252182, 0.76452003, 0.75913296]), 150)\n",
            "(array([0.75783534, 0.75874093, 0.76252182, 0.76452003, 0.75913296]), 150)\n",
            "(array([0.75783534, 0.75874093, 0.76252182, 0.76452003, 0.75913296]), 150)\n",
            "(array([0.75783534, 0.75874093, 0.76252182, 0.76452003, 0.75913296]), 150)\n",
            "(array([0.75783534, 0.75874093, 0.76252182, 0.76452003, 0.75913296]), 150)\n",
            "(array([0.75783534, 0.75874093, 0.76252182, 0.76452003, 0.75913296]), 150)\n",
            "(array([0.75783534, 0.75874093, 0.76252182, 0.76452003, 0.75913296]), 150)\n",
            "(array([0.75783534, 0.75874093, 0.76252182, 0.76452003, 0.75913296]), 150)\n",
            "(array([0.75783534, 0.75874093, 0.76252182, 0.76452003, 0.75913296]), 150)\n",
            "(array([0.75783534, 0.75874093, 0.76252182, 0.76452003, 0.75913296]), 150)\n",
            "(array([0.75783534, 0.75874093, 0.76252182, 0.76452003, 0.75913296]), 150)\n",
            "(array([0.75783534, 0.75874093, 0.76252182, 0.76452003, 0.75913296]), 150)\n",
            "(array([0.75783534, 0.75874093, 0.76252182, 0.76452003, 0.75913296]), 150)\n",
            "(array([0.75783534, 0.75874093, 0.76252182, 0.76452003, 0.75913296]), 150)\n",
            "(array([0.75783534, 0.75874093, 0.76252182, 0.76452003, 0.75913296]), 150)\n",
            "(array([0.75783534, 0.75874093, 0.76252182, 0.76452003, 0.75913296]), 150)\n",
            "(array([0.75783534, 0.75874093, 0.76252182, 0.76452003, 0.75913296]), 150)\n",
            "(array([0.75783534, 0.75874093, 0.76252182, 0.76452003, 0.75913296]), 150)\n",
            "(array([0.75783534, 0.75874093, 0.76252182, 0.76452003, 0.75913296]), 150)\n",
            "(array([0.75783534, 0.75874093, 0.76252182, 0.76452003, 0.75913296]), 150)\n",
            "(array([0.75783534, 0.75874093, 0.76252182, 0.76452003, 0.75913296]), 150)\n",
            "(array([0.75783534, 0.75874093, 0.76252182, 0.76452003, 0.75913296]), 150)\n",
            "(array([0.75783534, 0.75874093, 0.76252182, 0.76452003, 0.75913296]), 150)\n",
            "(array([0.75783534, 0.75874093, 0.76252182, 0.76452003, 0.75913296]), 150)\n",
            "(array([0.75783534, 0.75874093, 0.76252182, 0.76452003, 0.75913296]), 150)\n",
            "(array([0.75783534, 0.75874093, 0.76252182, 0.76452003, 0.75913296]), 150)\n",
            "(array([0.75783534, 0.75874093, 0.76252182, 0.76452003, 0.75913296]), 150)\n",
            "(array([0.75783534, 0.75874093, 0.76252182, 0.76452003, 0.75913296]), 150)\n",
            "(array([0.75783534, 0.75874093, 0.76252182, 0.76452003, 0.75913296]), 150)\n",
            "(array([0.75783534, 0.75874093, 0.76252182, 0.76452003, 0.75913296]), 150)\n",
            "(array([0.75783534, 0.75874093, 0.76252182, 0.76452003, 0.75913296]), 150)\n",
            "(array([0.75783534, 0.75874093, 0.76252182, 0.76452003, 0.75913296]), 150)\n",
            "(array([0.75783534, 0.75874093, 0.76252182, 0.76452003, 0.75913296]), 150)\n",
            "(array([0.75783534, 0.75874093, 0.76252182, 0.76452003, 0.75913296]), 150)\n",
            "(array([0.75783534, 0.75874093, 0.76252182, 0.76452003, 0.75913296]), 150)\n",
            "(array([0.75783534, 0.75874093, 0.76252182, 0.76452003, 0.75913296]), 150)\n",
            "(array([0.75783534, 0.75874093, 0.76252182, 0.76452003, 0.75913296]), 150)\n",
            "(array([0.75783534, 0.75874093, 0.76252182, 0.76452003, 0.75913296]), 150)\n",
            "(array([0.75783534, 0.75874093, 0.76252182, 0.76452003, 0.75913296]), 150)\n",
            "(array([0.75783534, 0.75874093, 0.76252182, 0.76452003, 0.75913296]), 150)\n",
            "(array([0.75783534, 0.75874093, 0.76252182, 0.76452003, 0.75913296]), 150)\n",
            "(array([0.75783534, 0.75874093, 0.76252182, 0.76452003, 0.75913296]), 150)\n",
            "(array([0.75783534, 0.75874093, 0.76252182, 0.76452003, 0.75913296]), 150)\n",
            "(array([0.75783534, 0.75874093, 0.76252182, 0.76452003, 0.75913296]), 150)\n",
            "(array([0.75783534, 0.75874093, 0.76252182, 0.76452003, 0.75913296]), 150)\n",
            "(array([0.75783534, 0.75874093, 0.76252182, 0.76452003, 0.75913296]), 150)\n",
            "(array([0.75783534, 0.75874093, 0.76252182, 0.76452003, 0.75913296]), 150)\n"
          ],
          "name": "stdout"
        },
        {
          "output_type": "execute_result",
          "data": {
            "text/plain": [
              "[<matplotlib.lines.Line2D at 0x7fe4bc246cf8>]"
            ]
          },
          "metadata": {
            "tags": []
          },
          "execution_count": 88
        },
        {
          "output_type": "display_data",
          "data": {
            "image/png": "[encoded data removed]",
            "text/plain": [
              "<Figure size 432x288 with 1 Axes>"
            ]
          },
          "metadata": {
            "tags": []
          }
        }
      ]
    },
    {
      "cell_type": "code",
      "metadata": {
        "id": "MWgptLHouQHU",
        "colab_type": "code",
        "colab": {
          "base_uri": "https://localhost:8080/",
          "height": 282
        },
        "outputId": "55637430-4953-4375-accb-5371568260a5"
      },
      "source": [
        "plt.plot(reward_his) # epoch = 20 trial 2"
      ],
      "execution_count": 26,
      "outputs": [
        {
          "output_type": "execute_result",
          "data": {
            "text/plain": [
              "[<matplotlib.lines.Line2D at 0x7fe4be922f98>]"
            ]
          },
          "metadata": {
            "tags": []
          },
          "execution_count": 26
        },
        {
          "output_type": "display_data",
          "data": {
            "image/png": "[encoded data removed]",
            "text/plain": [
              "<Figure size 432x288 with 1 Axes>"
            ]
          },
          "metadata": {
            "tags": []
          }
        }
      ]
    },
    {
      "cell_type": "code",
      "metadata": {
        "id": "IMpKz8dBvcsN",
        "colab_type": "code",
        "colab": {
          "base_uri": "https://localhost:8080/",
          "height": 282
        },
        "outputId": "56963583-e103-4e4c-815a-bbc47c826770"
      },
      "source": [
        "plt.plot(reward_his) # epoch = 20 trial 4"
      ],
      "execution_count": 46,
      "outputs": [
        {
          "output_type": "execute_result",
          "data": {
            "text/plain": [
              "[<matplotlib.lines.Line2D at 0x7fe4be39e898>]"
            ]
          },
          "metadata": {
            "tags": []
          },
          "execution_count": 46
        },
        {
          "output_type": "display_data",
          "data": {
            "image/png": "[encoded data removed]",
            "text/plain": [
              "<Figure size 432x288 with 1 Axes>"
            ]
          },
          "metadata": {
            "tags": []
          }
        }
      ]
    },
    {
      "cell_type": "code",
      "metadata": {
        "id": "ri0fjCgyC38l",
        "colab_type": "code",
        "colab": {
          "base_uri": "https://localhost:8080/",
          "height": 34
        },
        "outputId": "4382ca5b-18bc-4b3d-c8fb-889d3a97a9a5"
      },
      "source": [
        "scaler_state = MinMaxScaler()\n",
        "scaler_state.fit(np.array(list(state_mem.values())))\n",
        "scaler_state.transform(np.array(list(state_mem.values())))"
      ],
      "execution_count": 64,
      "outputs": [
        {
          "output_type": "execute_result",
          "data": {
            "text/plain": [
              "array([0., 0., 0., 0., 0., 0.])"
            ]
          },
          "metadata": {
            "tags": []
          },
          "execution_count": 64
        }
      ]
    },
    {
      "cell_type": "code",
      "metadata": {
        "id": "7TKNZIf8xBk8",
        "colab_type": "code",
        "colab": {
          "base_uri": "https://localhost:8080/",
          "height": 51
        },
        "outputId": "47d3efeb-0507-44b6-bd43-9004a8bf80fc"
      },
      "source": [
        "scaler_state.transform([cur_state])"
      ],
      "execution_count": 66,
      "outputs": [
        {
          "output_type": "execute_result",
          "data": {
            "text/plain": [
              "array([[0.        , 0.58475177, 0.47644262, 0.92923334, 0.95220097,\n",
              "        0.00505051]])"
            ]
          },
          "metadata": {
            "tags": []
          },
          "execution_count": 66
        }
      ]
    },
    {
      "cell_type": "code",
      "metadata": {
        "id": "dr-55Jr1xBbs",
        "colab_type": "code",
        "colab": {
          "base_uri": "https://localhost:8080/",
          "height": 316
        },
        "outputId": "6a7af86a-c192-4054-de62-4c7c93b2ced2"
      },
      "source": [
        "plt.hist(np.sort(np.array(list(state_mem.values()))[:, 0]))"
      ],
      "execution_count": 84,
      "outputs": [
        {
          "output_type": "execute_result",
          "data": {
            "text/plain": [
              "(array([176.,  33.,  18.,  10., 740.,  52., 109.,  53.,  11.,  12.]),\n",
              " array([0. , 0.1, 0.2, 0.3, 0.4, 0.5, 0.6, 0.7, 0.8, 0.9, 1. ]),\n",
              " <a list of 10 Patch objects>)"
            ]
          },
          "metadata": {
            "tags": []
          },
          "execution_count": 84
        },
        {
          "output_type": "display_data",
          "data": {
            "image/png": "[encoded data removed]",
            "text/plain": [
              "<Figure size 432x288 with 1 Axes>"
            ]
          },
          "metadata": {
            "tags": []
          }
        }
      ]
    }
  ]
}