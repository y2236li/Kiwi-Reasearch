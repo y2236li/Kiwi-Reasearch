{
  "nbformat": 4,
  "nbformat_minor": 0,
  "metadata": {
    "colab": {
      "name": "1D Climber all in one",
      "provenance": [],
      "collapsed_sections": [],
      "toc_visible": true,
      "authorship_tag": "ABX9TyMFpXFjQpL2lEBesOHAv+gZ",
      "include_colab_link": true
    },
    "kernelspec": {
      "name": "python3",
      "display_name": "Python 3"
    }
  },
  "cells": [
    {
      "cell_type": "markdown",
      "metadata": {
        "id": "view-in-github",
        "colab_type": "text"
      },
      "source": [
        "<a href=\"https://colab.research.google.com/github/y2236li/Kiwi-Reasearch/blob/master/1D_Climber_all_in_one.ipynb\" target=\"_parent\"><img src=\"https://colab.research.google.com/assets/colab-badge.svg\" alt=\"Open In Colab\"/></a>"
      ]
    },
    {
      "cell_type": "code",
      "metadata": {
        "id": "4vbW8m1PnUMG",
        "colab_type": "code",
        "colab": {}
      },
      "source": [
        "%load_ext autoreload"
      ],
      "execution_count": 0,
      "outputs": []
    },
    {
      "cell_type": "code",
      "metadata": {
        "id": "kGMuaGdgnf9t",
        "colab_type": "code",
        "outputId": "1cfff6f2-3892-4292-c94e-87d10d93a8ac",
        "colab": {
          "base_uri": "https://localhost:8080/",
          "height": 34
        }
      },
      "source": [
        "from google.colab import drive\n",
        "drive.mount('/content/drive')"
      ],
      "execution_count": 2,
      "outputs": [
        {
          "output_type": "stream",
          "text": [
            "Drive already mounted at /content/drive; to attempt to forcibly remount, call drive.mount(\"/content/drive\", force_remount=True).\n"
          ],
          "name": "stdout"
        }
      ]
    },
    {
      "cell_type": "code",
      "metadata": {
        "id": "i9w59bHDnhKo",
        "colab_type": "code",
        "outputId": "6b4cbc0e-6528-46fd-eef9-22c2cdd037ca",
        "colab": {
          "base_uri": "https://localhost:8080/",
          "height": 34
        }
      },
      "source": [
        "cd drive/My\\ Drive/kiwi_research/kiwi_project"
      ],
      "execution_count": 3,
      "outputs": [
        {
          "output_type": "stream",
          "text": [
            "/content/drive/My Drive/kiwi_research/kiwi_project\n"
          ],
          "name": "stdout"
        }
      ]
    },
    {
      "cell_type": "code",
      "metadata": {
        "id": "FIbI4UbGsyc0",
        "colab_type": "code",
        "outputId": "b9b7d7a4-4a11-49eb-fb06-006f6fce1335",
        "colab": {
          "base_uri": "https://localhost:8080/",
          "height": 80
        }
      },
      "source": [
        "from sklearn.preprocessing import MinMaxScaler\n",
        "import collections\n",
        "import pickle\n",
        "import pandas as pd\n",
        "import numpy as np\n",
        "import matplotlib.pyplot as plt\n",
        "from tqdm import tqdm\n",
        "from sklearn.svm import SVR\n",
        "from sklearn.metrics import r2_score\n",
        "from sklearn.cross_decomposition import PLSRegression\n",
        "from keras.layers import Dense, Activation\n",
        "from keras.models import Sequential, load_model\n",
        "from keras.optimizers import Adam"
      ],
      "execution_count": 4,
      "outputs": [
        {
          "output_type": "stream",
          "text": [
            "Using TensorFlow backend.\n"
          ],
          "name": "stderr"
        },
        {
          "output_type": "display_data",
          "data": {
            "text/html": [
              "<p style=\"color: red;\">\n",
              "The default version of TensorFlow in Colab will soon switch to TensorFlow 2.x.<br>\n",
              "We recommend you <a href=\"https://www.tensorflow.org/guide/migrate\" target=\"_blank\">upgrade</a> now \n",
              "or ensure your notebook will continue to use TensorFlow 1.x via the <code>%tensorflow_version 1.x</code> magic:\n",
              "<a href=\"https://colab.research.google.com/notebooks/tensorflow_version.ipynb\" target=\"_blank\">more info</a>.</p>\n"
            ],
            "text/plain": [
              "<IPython.core.display.HTML object>"
            ]
          },
          "metadata": {
            "tags": []
          }
        }
      ]
    },
    {
      "cell_type": "code",
      "metadata": {
        "id": "BEnI92vvnwYj",
        "colab_type": "code",
        "colab": {}
      },
      "source": [
        "def calAccuracy(x):\n",
        "  \"\"\"\n",
        "  Calculate the accuracy\n",
        "  return: accuracy\n",
        "  \"\"\"\n",
        "  if x in historical_accuracy:\n",
        "    return historical_accuracy[x]\n",
        "  pls2 = PLSRegression(n_components=x)\n",
        "  pls2.fit(X_train, Y_train)\n",
        "  Y_pred = pls2.predict(X_test)\n",
        "  y = r2_score(Y_pred, Y_test)\n",
        "  historical_accuracy[x] = y\n",
        "  return y\n",
        "\n",
        "def stateNormalize(scaler, detection, param_val):\n",
        "  detection = np.append(detection, param_val)\n",
        "  assert scaler.data_range_.shape[0] == detection.shape[0]\n",
        "  return scaler.transform([detection])[0]\n",
        "\n",
        "def stateDenormalized(scaler, cur_state):\n",
        "  res = scaler.inverse_transform([cur_state])\n",
        "  return (res[0][:-1], int(round(res[0][-1])))\n",
        "\n",
        "def detect(detect_range, x):\n",
        "  \"\"\"\n",
        "  return the accuracy of detecting area around the x\n",
        "  \n",
        "  \"\"\"\n",
        "  x_detect_range = np.array(detect_range) + x\n",
        "  return [calAccuracy(pos) if pos in x_range else 0 for pos in x_detect_range]\n"
      ],
      "execution_count": 0,
      "outputs": []
    },
    {
      "cell_type": "code",
      "metadata": {
        "id": "In_3LfA3-8uA",
        "colab_type": "code",
        "colab": {}
      },
      "source": [
        ""
      ],
      "execution_count": 0,
      "outputs": []
    },
    {
      "cell_type": "markdown",
      "metadata": {
        "id": "oEJ3W4z59x0Y",
        "colab_type": "text"
      },
      "source": [
        "## Global Variables"
      ]
    },
    {
      "cell_type": "code",
      "metadata": {
        "id": "JbQ-1il59xHI",
        "colab_type": "code",
        "colab": {}
      },
      "source": [
        "f_xy = open(\"pickles/XYtraintest.pk1\", \"rb\")\n",
        "X_train, X_test, Y_train, Y_test = pickle.load(f_xy)\n",
        "f_xy.close()\n",
        "\n",
        "f_a = open(\"pickles/accuracy_list.pk1\", \"rb\")\n",
        "accuracy_list = pickle.load(f_a)\n",
        "f_a.close()\n",
        "\n",
        "idle_range = 0.001 # if the change of recent steps (idle steps) did not have a change of this range. Game will be over\n",
        "idle_steps = 5\n",
        "x_range = range(1, 201)\n",
        "detect_range = [-3, -1, 0, 1, 3] # also input dim\n",
        "step_options = [-8, -3, -1, 0, 1, 3, 8] # also action space\n",
        "\n",
        "lr = 0.01 # also alpha\n",
        "one_game_steps = 300\n",
        "\n",
        "batch_size = one_game_steps*3\n",
        "gamma = 0.8\n",
        "\n",
        "#memory variables\n",
        "mem_size = one_game_steps*6\n",
        "assert batch_size <= mem_size\n",
        "mem_ctr = 0\n",
        "state_mem = {}\n",
        "onehot_action_mem = {}\n",
        "reward_mem = {}\n",
        "next_state_mem = {}\n",
        "terminal_mem = {}"
      ],
      "execution_count": 0,
      "outputs": []
    },
    {
      "cell_type": "markdown",
      "metadata": {
        "id": "4PwbvDE9tdj4",
        "colab_type": "text"
      },
      "source": [
        "## Create a scaler for state"
      ]
    },
    {
      "cell_type": "code",
      "metadata": {
        "id": "GB9rm7SqtcqA",
        "colab_type": "code",
        "outputId": "0174b7b2-4f96-4fe2-8b79-aeea78081f36",
        "colab": {
          "base_uri": "https://localhost:8080/"
        }
      },
      "source": [
        "data = [[*([0]*len(detect_range)), 1], [*([1]*len(detect_range)), 200]]\n",
        "scaler = MinMaxScaler()\n",
        "scaler.fit(data)\n",
        "scaler.data_range_.shape\n"
      ],
      "execution_count": 7,
      "outputs": [
        {
          "output_type": "execute_result",
          "data": {
            "text/plain": [
              "(6,)"
            ]
          },
          "metadata": {
            "tags": []
          },
          "execution_count": 7
        }
      ]
    },
    {
      "cell_type": "markdown",
      "metadata": {
        "id": "pVR-9q05iFmw",
        "colab_type": "text"
      },
      "source": [
        "## Game Initialization"
      ]
    },
    {
      "cell_type": "code",
      "metadata": {
        "id": "F5zmkePc_b8R",
        "colab_type": "code",
        "colab": {}
      },
      "source": [
        "historical_accuracy = {}\n",
        "x = 150\n",
        "detection = detect(detect_range, x)\n",
        "init_state = stateNormalize(scaler, detection, x)\n",
        "\n",
        "\n",
        "done = False\n",
        "step_ctr = 0\n",
        "\n",
        "cur_state = init_state"
      ],
      "execution_count": 0,
      "outputs": []
    },
    {
      "cell_type": "markdown",
      "metadata": {
        "id": "uSCkM_vikaMp",
        "colab_type": "text"
      },
      "source": [
        "## Create a Fully Connected Neural Network for Q Learning"
      ]
    },
    {
      "cell_type": "code",
      "metadata": {
        "id": "JG7wO-y7kZqD",
        "colab_type": "code",
        "outputId": "d9795400-551f-4260-d78d-6bf14ec4b47b",
        "colab": {
          "base_uri": "https://localhost:8080/",
          "height": 173
        }
      },
      "source": [
        "fc2_dims = 200\n",
        "q_model = Sequential([\n",
        "        Dense(200, input_shape=(cur_state.shape[0],)),\n",
        "        Activation('relu'),\n",
        "        Dense(fc2_dims),\n",
        "        Activation('relu'),\n",
        "        Dense(len(step_options))\n",
        "    ])\n",
        "\n",
        "q_model.compile(optimizer=Adam(lr=lr), loss='mse')"
      ],
      "execution_count": 9,
      "outputs": [
        {
          "output_type": "stream",
          "text": [
            "WARNING:tensorflow:From /usr/local/lib/python3.6/dist-packages/keras/backend/tensorflow_backend.py:66: The name tf.get_default_graph is deprecated. Please use tf.compat.v1.get_default_graph instead.\n",
            "\n",
            "WARNING:tensorflow:From /usr/local/lib/python3.6/dist-packages/keras/backend/tensorflow_backend.py:541: The name tf.placeholder is deprecated. Please use tf.compat.v1.placeholder instead.\n",
            "\n",
            "WARNING:tensorflow:From /usr/local/lib/python3.6/dist-packages/keras/backend/tensorflow_backend.py:4432: The name tf.random_uniform is deprecated. Please use tf.random.uniform instead.\n",
            "\n",
            "WARNING:tensorflow:From /usr/local/lib/python3.6/dist-packages/keras/optimizers.py:793: The name tf.train.Optimizer is deprecated. Please use tf.compat.v1.train.Optimizer instead.\n",
            "\n"
          ],
          "name": "stdout"
        }
      ]
    },
    {
      "cell_type": "code",
      "metadata": {
        "id": "HkxTjQO0lYpA",
        "colab_type": "code",
        "outputId": "018e3681-5433-4eac-cb66-e1bc3d5f9aeb",
        "colab": {
          "base_uri": "https://localhost:8080/",
          "height": 275
        }
      },
      "source": [
        "q_model.predict(cur_state.reshape(1, 6))"
      ],
      "execution_count": 10,
      "outputs": [
        {
          "output_type": "stream",
          "text": [
            "WARNING:tensorflow:From /usr/local/lib/python3.6/dist-packages/keras/backend/tensorflow_backend.py:3005: The name tf.Session is deprecated. Please use tf.compat.v1.Session instead.\n",
            "\n",
            "WARNING:tensorflow:From /usr/local/lib/python3.6/dist-packages/keras/backend/tensorflow_backend.py:190: The name tf.get_default_session is deprecated. Please use tf.compat.v1.get_default_session instead.\n",
            "\n",
            "WARNING:tensorflow:From /usr/local/lib/python3.6/dist-packages/keras/backend/tensorflow_backend.py:197: The name tf.ConfigProto is deprecated. Please use tf.compat.v1.ConfigProto instead.\n",
            "\n",
            "WARNING:tensorflow:From /usr/local/lib/python3.6/dist-packages/keras/backend/tensorflow_backend.py:207: The name tf.global_variables is deprecated. Please use tf.compat.v1.global_variables instead.\n",
            "\n",
            "WARNING:tensorflow:From /usr/local/lib/python3.6/dist-packages/keras/backend/tensorflow_backend.py:216: The name tf.is_variable_initialized is deprecated. Please use tf.compat.v1.is_variable_initialized instead.\n",
            "\n",
            "WARNING:tensorflow:From /usr/local/lib/python3.6/dist-packages/keras/backend/tensorflow_backend.py:223: The name tf.variables_initializer is deprecated. Please use tf.compat.v1.variables_initializer instead.\n",
            "\n"
          ],
          "name": "stdout"
        },
        {
          "output_type": "execute_result",
          "data": {
            "text/plain": [
              "array([[ 0.04637441, -0.13272649,  0.10633672, -0.06502012,  0.11232945,\n",
              "        -0.05208415,  0.05450027]], dtype=float32)"
            ]
          },
          "metadata": {
            "tags": []
          },
          "execution_count": 10
        }
      ]
    },
    {
      "cell_type": "code",
      "metadata": {
        "id": "4WU7ItsNyPIT",
        "colab_type": "code",
        "colab": {}
      },
      "source": [
        "def step(cur_state, action):\n",
        "  next_x = max(min(200, int(round(stateDenormalized(scaler, cur_state)[-1])) + action), 1)\n",
        "  next_state = stateNormalize(scaler, detect(detect_range, next_x), next_x)\n",
        "  reward = calAccuracy(next_x)\n",
        "  return (next_state, reward)\n",
        "\n",
        "def writeMem(cur_state, next_state, action, reward, done):\n",
        "  index = mem_ctr % mem_size\n",
        "  state_mem[index] = cur_state\n",
        "  next_state_mem[index] = next_state\n",
        "  tmp_onehot = np.zeros(len(step_options), dtype=np.int64)\n",
        "  tmp_onehot[step_options.index(action)] = 1\n",
        "  onehot_action_mem[index] = tmp_onehot\n",
        "  reward_mem[index] = reward\n",
        "  terminal_mem[index] = done\n"
      ],
      "execution_count": 0,
      "outputs": []
    },
    {
      "cell_type": "markdown",
      "metadata": {
        "id": "_mGVQWVjt9kD",
        "colab_type": "text"
      },
      "source": [
        "## Main"
      ]
    },
    {
      "cell_type": "code",
      "metadata": {
        "id": "hyF21pJ1oIWr",
        "colab_type": "code",
        "outputId": "3401aa8c-68e1-4fde-fb1a-f7fd07cf991a",
        "colab": {
          "base_uri": "https://localhost:8080/",
          "height": 221
        }
      },
      "source": [
        "'''Prepare Data'''\n",
        "# data_path = \"data/clean raw data.xlsx\"\n",
        "# df = pd.read_excel(data_path)\n",
        "# X = df[df.columns[3:]]\n",
        "# Y = df[\"Brix\"].values\n",
        "# X_matrix = X.to_numpy()\n",
        "# nonzero_index = np.nonzero(X_matrix.sum(axis = 0))[0]\n",
        "# X_matrix_nonzero = X_matrix[:, nonzero_index]\n",
        "# X_nonzero_columns = X.columns[nonzero_index]\n",
        "\n",
        "\n",
        "# while(not done):\n",
        "\n",
        "# reset memory\n",
        "mem_ctr = 0\n",
        "state_mem = {}\n",
        "onehot_action_mem = {}\n",
        "reward_mem = {}\n",
        "next_state_mem = {}\n",
        "terminal_mem = {}\n",
        "\n",
        "batch_size = one_game_steps * 2\n",
        "random_walk_period = one_game_steps * 10\n",
        "n_games = 40\n",
        "\n",
        "reward_his = []\n",
        "\n",
        "\n",
        "scaler_state = MinMaxScaler()\n",
        "\n",
        "for i in tqdm(range(n_games)):\n",
        "  cur_state = init_state\n",
        "  for step_ctr in range(one_game_steps):\n",
        "    \n",
        "  # predict action\n",
        "    if mem_ctr < random_walk_period:\n",
        "      action = np.random.choice(step_options)\n",
        "    else:\n",
        "      # once random walk were done, the state in memory will be normalized\n",
        "      if mem_ctr == random_walk_period:\n",
        "        scaler_state.fit(np.array(list(state_mem.values())))\n",
        "        state_mem = dict(zip(*(range(mem_size), scaler_state.transform(np.array(list(state_mem.values()))))))\n",
        "        cur_nor_state = scaler_state.transform([cur_state])[0]\n",
        "\n",
        "      indices = np.random.choice(len(state_mem), batch_size)\n",
        "\n",
        "      batch_states = np.array(list(state_mem.values()))[indices]\n",
        "      batch_next_states = np.array(list(next_state_mem.values()))[indices]\n",
        "      batch_actions = np.array(list(onehot_action_mem.values()))[indices]\n",
        "      batch_rewards = np.array(list(reward_mem.values()))[indices]\n",
        "\n",
        "      q_matrix = q_model.predict(batch_states)\n",
        "      q_next = q_model.predict(batch_next_states)\n",
        "\n",
        "      actions_indices = np.dot(batch_actions, np.arange(len(step_options), dtype=np.int64))\n",
        "      batch_indices = np.arange(batch_size, dtype=np.int64)\n",
        "\n",
        "      q_matrix[batch_indices, actions_indices] = batch_rewards + gamma*np.max(q_next, axis=1) * done\n",
        "\n",
        "\n",
        "      q_model.fit(batch_states, q_matrix, verbose=0, epochs = 1)\n",
        "\n",
        "      action = step_options[np.argmax(q_model.predict(cur_nor_state.reshape(1, 6)))]\n",
        "    \n",
        "      \n",
        "    next_state, reward = step(cur_state, action)\n",
        "    if mem_ctr >= random_walk_period:\n",
        "      next_nor_state = scaler_state.transform([next_state])[0]\n",
        "      writeMem(cur_nor_state, next_nor_state, action, reward, done)\n",
        "    else:\n",
        "      writeMem(cur_state, next_state, action, reward, done)\n",
        "    reward_his.append(reward)\n",
        "\n",
        "\n",
        "    \n",
        "\n",
        "    \n",
        "\n",
        "    cur_state = next_state\n",
        "\n",
        "\n",
        "    mem_ctr += 1"
      ],
      "execution_count": 0,
      "outputs": [
        {
          "output_type": "stream",
          "text": [
            "\n",
            "  0%|          | 0/40 [00:00<?, ?it/s]\u001b[A\n",
            "  2%|▎         | 1/40 [00:00<00:05,  7.67it/s]\u001b[A\n",
            "  5%|▌         | 2/40 [00:00<00:04,  8.23it/s]\u001b[A\n",
            " 10%|█         | 4/40 [00:00<00:04,  8.72it/s]\u001b[A\n",
            " 15%|█▌        | 6/40 [00:00<00:03,  9.36it/s]\u001b[A\n",
            " 20%|██        | 8/40 [00:00<00:03, 10.04it/s]\u001b[A\n",
            " 22%|██▎       | 9/40 [00:00<00:03,  9.45it/s]\u001b[A\n",
            " 25%|██▌       | 10/40 [00:01<00:03,  8.77it/s]\u001b[A\n",
            " 28%|██▊       | 11/40 [00:15<02:04,  4.29s/it]\u001b[A\n",
            " 30%|███       | 12/40 [00:29<03:22,  7.24s/it]\u001b[A\n",
            " 32%|███▎      | 13/40 [00:43<04:10,  9.27s/it]\u001b[A"
          ],
          "name": "stderr"
        }
      ]
    },
    {
      "cell_type": "code",
      "metadata": {
        "id": "xeKwGITotBr7",
        "colab_type": "code",
        "outputId": "c960b005-fe5a-44ba-eeea-abc443da78eb",
        "colab": {
          "base_uri": "https://localhost:8080/",
          "height": 282
        }
      },
      "source": [
        "plt.plot(reward_his) # epoch = 1 trial 1"
      ],
      "execution_count": 0,
      "outputs": [
        {
          "output_type": "execute_result",
          "data": {
            "text/plain": [
              "[<matplotlib.lines.Line2D at 0x7fc36f103780>]"
            ]
          },
          "metadata": {
            "tags": []
          },
          "execution_count": 20
        },
        {
          "output_type": "display_data",
          "data": {
            "image/png": "[encoded data removed]",
            "text/plain": [
              "<Figure size 432x288 with 1 Axes>"
            ]
          },
          "metadata": {
            "tags": []
          }
        }
      ]
    },
    {
      "cell_type": "code",
      "metadata": {
        "id": "MRpxYRB06JfN",
        "colab_type": "code",
        "colab": {
          "base_uri": "https://localhost:8080/",
          "height": 282
        },
        "outputId": "13e0b388-30aa-4435-b49f-c4f73f2d9f91"
      },
      "source": [
        "plt.plot(reward_his) # normalized state epoch = 1 trial 1"
      ],
      "execution_count": 87,
      "outputs": [
        {
          "output_type": "execute_result",
          "data": {
            "text/plain": [
              "[<matplotlib.lines.Line2D at 0x7fe4bc2714e0>]"
            ]
          },
          "metadata": {
            "tags": []
          },
          "execution_count": 87
        },
        {
          "output_type": "display_data",
          "data": {
            "image/png": "[encoded data removed]",
            "text/plain": [
              "<Figure size 432x288 with 1 Axes>"
            ]
          },
          "metadata": {
            "tags": []
          }
        }
      ]
    },
    {
      "cell_type": "code",
      "metadata": {
        "id": "KPsQwh8J84bW",
        "colab_type": "code",
        "colab": {
          "base_uri": "https://localhost:8080/",
          "height": 282
        },
        "outputId": "d5d3867f-63cf-457e-fe28-40ea167a9c21"
      },
      "source": [
        "plt.plot(reward_his) # normalized state epoch = 1 trial 2"
      ],
      "execution_count": 13,
      "outputs": [
        {
          "output_type": "execute_result",
          "data": {
            "text/plain": [
              "[<matplotlib.lines.Line2D at 0x7fe41adb9d30>]"
            ]
          },
          "metadata": {
            "tags": []
          },
          "execution_count": 13
        },
        {
          "output_type": "display_data",
          "data": {
            "image/png": "[encoded data removed]",
            "text/plain": [
              "<Figure size 432x288 with 1 Axes>"
            ]
          },
          "metadata": {
            "tags": []
          }
        }
      ]
    },
    {
      "cell_type": "code",
      "metadata": {
        "id": "xI8MRQpS5X17",
        "colab_type": "code",
        "outputId": "215a8d77-5472-4866-9435-99c76d190e5c",
        "colab": {
          "base_uri": "https://localhost:8080/",
          "height": 282
        }
      },
      "source": [
        "plt.plot(reward_his) # epoch = 20 trial 1"
      ],
      "execution_count": 0,
      "outputs": [
        {
          "output_type": "execute_result",
          "data": {
            "text/plain": [
              "[<matplotlib.lines.Line2D at 0x7fc36efefc88>]"
            ]
          },
          "metadata": {
            "tags": []
          },
          "execution_count": 22
        },
        {
          "output_type": "display_data",
          "data": {
            "image/png": "[encoded data removed]",
            "text/plain": [
              "<Figure size 432x288 with 1 Axes>"
            ]
          },
          "metadata": {
            "tags": []
          }
        }
      ]
    },
    {
      "cell_type": "code",
      "metadata": {
        "id": "7tA1Nm3e9EPu",
        "colab_type": "code",
        "outputId": "dee3ee8a-f49d-4cb0-8262-fa499e33c27f",
        "colab": {
          "base_uri": "https://localhost:8080/",
          "height": 34
        }
      },
      "source": [
        "accuracy_list[150]"
      ],
      "execution_count": 0,
      "outputs": [
        {
          "output_type": "execute_result",
          "data": {
            "text/plain": [
              "0.7645200307759966"
            ]
          },
          "metadata": {
            "tags": []
          },
          "execution_count": 28
        }
      ]
    },
    {
      "cell_type": "markdown",
      "metadata": {
        "id": "FC_blyfTEzqP",
        "colab_type": "text"
      },
      "source": [
        "## Visualize Optimization Process"
      ]
    },
    {
      "cell_type": "code",
      "metadata": {
        "id": "bVogCMbGE5rx",
        "colab_type": "code",
        "colab": {
          "base_uri": "https://localhost:8080/",
          "height": 1000
        },
        "outputId": "a758d112-5d1f-4e07-b877-670d14d82a14"
      },
      "source": [
        "prediction = []\n",
        "cur_state = init_state\n",
        "for step_ctr in range(one_game_steps):\n",
        "  action = step_options[np.argmax(q_model.predict(scaler_state.transform(cur_state.reshape(1, 6))))]\n",
        "  print(scaler_state.transform(cur_state.reshape(1, 6)))\n",
        "  # print(stateDenormalized(scaler, cur_state))\n",
        "  next_state, reward = step(cur_state, action)\n",
        "  prediction.append(reward)\n",
        "  cur_state = next_state\n",
        "plt.plot(prediction)\n",
        "# prediction"
      ],
      "execution_count": 20,
      "outputs": [
        {
          "output_type": "stream",
          "text": [
            "[[0.70339325 0.73238515 0.77228981 0.97942405 0.97252373 0.45652174]]\n",
            "[[0.69049589 0.71854882 0.73238515 0.97686414 0.975566   0.44565217]]\n",
            "[[0.68494777 0.72282729 0.71854882 0.97202046 0.97942509 0.43478261]]\n",
            "[[0.66171663 0.70957359 0.72282729 0.97034098 0.97686519 0.42391304]]\n",
            "[[0.69960419 0.70387218 0.70957359 0.97086031 0.97202149 0.41304348]]\n",
            "[[0.71195569 0.67999919 0.70387218 0.96925156 0.97034202 0.40217391]]\n",
            "[[0.74120431 0.71893354 0.67999919 0.96855951 0.97086135 0.39130435]]\n",
            "[[0.76104822 0.7316263  0.71893354 0.96566177 0.96925259 0.38043478]]\n",
            "[[0.70718247 0.76168303 0.7316263  0.97038768 0.96856054 0.36956522]]\n",
            "[[0.67210275 0.7820752  0.76168303 0.97192835 0.9656628  0.35869565]]\n",
            "[[0.67836206 0.7267212  0.7820752  0.97557668 0.97038872 0.34782609]]\n",
            "[[0.67961796 0.69067226 0.7267212  0.97805191 0.97192938 0.33695652]]\n",
            "[[0.6889463  0.69710452 0.69067226 0.97133296 0.97557772 0.32608696]]\n",
            "[[0.68147588 0.69839512 0.69710452 0.96695729 0.97805295 0.31521739]]\n",
            "[[0.66421638 0.70798119 0.69839512 0.96773804 0.971334   0.30434783]]\n",
            "[[0.66452834 0.70030436 0.70798119 0.9678947  0.96695832 0.29347826]]\n",
            "[[0.65962318 0.68256801 0.70030436 0.96905827 0.96773907 0.2826087 ]]\n",
            "[[0.63363254 0.68288858 0.68256801 0.96812644 0.96789573 0.27173913]]\n",
            "[[0.60950846 0.6778479  0.68288858 0.96597358 0.9690593  0.26086957]]\n",
            "[[0.65205985 0.65113916 0.6778479  0.96601249 0.96812748 0.25      ]]\n",
            "[[0.72291098 0.62634856 0.65113916 0.96540064 0.96597461 0.23913043]]\n",
            "[[0.72053857 0.67007561 0.62634856 0.9621587  0.96601352 0.22826087]]\n",
            "[[0.82598742 0.74288428 0.67007561 0.95914958 0.96540167 0.2173913 ]]\n",
            "[[0.8480407  0.74044632 0.74288428 0.96445723 0.96215973 0.20652174]]\n",
            "[[0.84447947 0.84880861 0.74044632 0.97329486 0.9591506  0.19565217]]\n",
            "[[0.86654764 0.8714712  0.84880861 0.97299893 0.96445826 0.18478261]]\n",
            "[[0.86407971 0.86781158 0.8714712  0.98615211 0.9732959  0.17391304]]\n",
            "[[0.89030728 0.89048947 0.86781158 0.98890293 0.97299997 0.16304348]]\n",
            "[[0.89727197 0.88795336 0.89048947 0.98845872 0.98615316 0.15217391]]\n",
            "[[0.93699723 0.91490556 0.88795336 0.9912114  0.98890398 0.14130435]]\n",
            "[[0.92606924 0.92206268 0.91490556 0.99090356 0.98845977 0.13043478]]\n",
            "[[0.88088953 0.96288551 0.92206268 0.99417506 0.99121245 0.11956522]]\n",
            "[[0.86627404 0.95165559 0.96288551 0.9950438  0.99090461 0.10869565]]\n",
            "[[0.85496237 0.90522762 0.95165559 0.99999893 0.99417612 0.09782609]]\n",
            "[[0.83720412 0.89020831 0.90522762 0.99863583 0.99504486 0.08695652]]\n",
            "[[0.85006421 0.87858411 0.89020831 0.99300033 1.         0.07608696]]\n",
            "[[0.86287699 0.86033522 0.87858411 0.99117727 0.99863689 0.06521739]]\n",
            "[[0.85561999 0.87355062 0.86033522 0.9897663  0.99300139 0.05434783]]\n",
            "[[0.93700578 0.8867174  0.87355062 0.98755123 0.99117832 0.04347826]]\n",
            "[[0.97311385 0.8792599  0.8867174  0.98915533 0.98976736 0.0326087 ]]\n",
            "[[0.97222954 0.96289429 0.8792599  0.99075354 0.98755228 0.02173913]]\n",
            "[[1.         1.         0.96289429 0.98984833 0.98915639 0.01086957]]\n",
            "[[0.98870182 0.99909125 1.         1.         0.99075459 0.        ]]\n",
            "[[ 0.98329434  1.02762898  0.99909125  1.00450395  0.98984939 -0.01086957]]\n",
            "[[ 0.99477372  1.01601865  1.02762898  1.00439364  1.00000107 -0.02173913]]\n",
            "[[ 0.99182288  1.01046177  1.01601865  1.00785759  1.00450502 -0.0326087 ]]\n",
            "[[ 1.00040284  1.0222583   1.01046177  1.00644831  1.00439471 -0.04347826]]\n",
            "[[ 0.98938399  1.01922594  1.0222583   1.00577381  1.00785867 -0.05434783]]\n",
            "[[ 0.97703212  1.02804295  1.01922594  1.00720569  1.00644939 -0.06521739]]\n",
            "[[ 0.96237997  1.01671967  1.02804295  1.00683762  1.00577488 -0.07608696]]\n",
            "[[ 0.99682368  1.00402653  1.01671967  1.00790784  1.00720677 -0.08695652]]\n",
            "[[ 0.97585142  0.98896955  1.00402653  1.0065334   1.00683869 -0.09782609]]\n",
            "[[ 1.01955482  1.02436491  0.98896955  1.00499269  1.00790892 -0.10869565]]\n",
            "[[ 0.99077434  1.0028132   1.02436491  1.00316505  1.00653448 -0.11956522]]\n",
            "[[ 1.02881121  1.04772408  1.0028132   1.00746139  1.00499376 -0.13043478]]\n",
            "[[ 1.04511821  1.01814843  1.04772408  1.00484542  1.00316612 -0.14130435]]\n",
            "[[ 1.03716871  1.05723622  1.01814843  1.01029677  1.00746247 -0.15217391]]\n",
            "[[ 1.00204412  1.07399376  1.05723622  1.00670683  1.00484649 -0.16304348]]\n",
            "[[ 1.04522727  1.06582462  1.07399376  1.01145136  1.01029784 -0.17391304]]\n",
            "[[ 1.05684098  1.02972958  1.06582462  1.01348542  1.0067079  -0.18478261]]\n",
            "[[ 1.0401984   1.07410584  1.02972958  1.01249384  1.01145244 -0.19565217]]\n",
            "[[ 1.03952275  1.08604042  1.07410584  1.00811257  1.0134865  -0.20652174]]\n",
            "[[ 1.05832196  1.06893803  1.08604042  1.01349902  1.01249492 -0.2173913 ]]\n",
            "[[ 1.03043587  1.0682437   1.06893803  1.01494766  1.00811364 -0.22826087]]\n",
            "[[ 1.01521167  1.08756232  1.0682437   1.01287175  1.0135001  -0.23913043]]\n",
            "[[ 0.93747603  1.05890576  1.08756232  1.01278747  1.01494874 -0.25      ]]\n",
            "[[ 0.93747603  1.05890576  1.08756232  1.01278747  1.01494874 -0.25      ]]\n",
            "[[ 0.93747603  1.05890576  1.08756232  1.01278747  1.01494874 -0.25      ]]\n",
            "[[ 0.93747603  1.05890576  1.08756232  1.01278747  1.01494874 -0.25      ]]\n",
            "[[ 0.93747603  1.05890576  1.08756232  1.01278747  1.01494874 -0.25      ]]\n",
            "[[ 0.93747603  1.05890576  1.08756232  1.01278747  1.01494874 -0.25      ]]\n",
            "[[ 0.93747603  1.05890576  1.08756232  1.01278747  1.01494874 -0.25      ]]\n",
            "[[ 0.93747603  1.05890576  1.08756232  1.01278747  1.01494874 -0.25      ]]\n",
            "[[ 0.93747603  1.05890576  1.08756232  1.01278747  1.01494874 -0.25      ]]\n",
            "[[ 0.93747603  1.05890576  1.08756232  1.01278747  1.01494874 -0.25      ]]\n",
            "[[ 0.93747603  1.05890576  1.08756232  1.01278747  1.01494874 -0.25      ]]\n",
            "[[ 0.93747603  1.05890576  1.08756232  1.01278747  1.01494874 -0.25      ]]\n",
            "[[ 0.93747603  1.05890576  1.08756232  1.01278747  1.01494874 -0.25      ]]\n",
            "[[ 0.93747603  1.05890576  1.08756232  1.01278747  1.01494874 -0.25      ]]\n",
            "[[ 0.93747603  1.05890576  1.08756232  1.01278747  1.01494874 -0.25      ]]\n",
            "[[ 0.93747603  1.05890576  1.08756232  1.01278747  1.01494874 -0.25      ]]\n",
            "[[ 0.93747603  1.05890576  1.08756232  1.01278747  1.01494874 -0.25      ]]\n",
            "[[ 0.93747603  1.05890576  1.08756232  1.01278747  1.01494874 -0.25      ]]\n",
            "[[ 0.93747603  1.05890576  1.08756232  1.01278747  1.01494874 -0.25      ]]\n",
            "[[ 0.93747603  1.05890576  1.08756232  1.01278747  1.01494874 -0.25      ]]\n",
            "[[ 0.93747603  1.05890576  1.08756232  1.01278747  1.01494874 -0.25      ]]\n",
            "[[ 0.93747603  1.05890576  1.08756232  1.01278747  1.01494874 -0.25      ]]\n",
            "[[ 0.93747603  1.05890576  1.08756232  1.01278747  1.01494874 -0.25      ]]\n",
            "[[ 0.93747603  1.05890576  1.08756232  1.01278747  1.01494874 -0.25      ]]\n",
            "[[ 0.93747603  1.05890576  1.08756232  1.01278747  1.01494874 -0.25      ]]\n",
            "[[ 0.93747603  1.05890576  1.08756232  1.01278747  1.01494874 -0.25      ]]\n",
            "[[ 0.93747603  1.05890576  1.08756232  1.01278747  1.01494874 -0.25      ]]\n",
            "[[ 0.93747603  1.05890576  1.08756232  1.01278747  1.01494874 -0.25      ]]\n",
            "[[ 0.93747603  1.05890576  1.08756232  1.01278747  1.01494874 -0.25      ]]\n",
            "[[ 0.93747603  1.05890576  1.08756232  1.01278747  1.01494874 -0.25      ]]\n",
            "[[ 0.93747603  1.05890576  1.08756232  1.01278747  1.01494874 -0.25      ]]\n",
            "[[ 0.93747603  1.05890576  1.08756232  1.01278747  1.01494874 -0.25      ]]\n",
            "[[ 0.93747603  1.05890576  1.08756232  1.01278747  1.01494874 -0.25      ]]\n",
            "[[ 0.93747603  1.05890576  1.08756232  1.01278747  1.01494874 -0.25      ]]\n",
            "[[ 0.93747603  1.05890576  1.08756232  1.01278747  1.01494874 -0.25      ]]\n",
            "[[ 0.93747603  1.05890576  1.08756232  1.01278747  1.01494874 -0.25      ]]\n",
            "[[ 0.93747603  1.05890576  1.08756232  1.01278747  1.01494874 -0.25      ]]\n",
            "[[ 0.93747603  1.05890576  1.08756232  1.01278747  1.01494874 -0.25      ]]\n",
            "[[ 0.93747603  1.05890576  1.08756232  1.01278747  1.01494874 -0.25      ]]\n",
            "[[ 0.93747603  1.05890576  1.08756232  1.01278747  1.01494874 -0.25      ]]\n",
            "[[ 0.93747603  1.05890576  1.08756232  1.01278747  1.01494874 -0.25      ]]\n",
            "[[ 0.93747603  1.05890576  1.08756232  1.01278747  1.01494874 -0.25      ]]\n",
            "[[ 0.93747603  1.05890576  1.08756232  1.01278747  1.01494874 -0.25      ]]\n",
            "[[ 0.93747603  1.05890576  1.08756232  1.01278747  1.01494874 -0.25      ]]\n",
            "[[ 0.93747603  1.05890576  1.08756232  1.01278747  1.01494874 -0.25      ]]\n",
            "[[ 0.93747603  1.05890576  1.08756232  1.01278747  1.01494874 -0.25      ]]\n",
            "[[ 0.93747603  1.05890576  1.08756232  1.01278747  1.01494874 -0.25      ]]\n",
            "[[ 0.93747603  1.05890576  1.08756232  1.01278747  1.01494874 -0.25      ]]\n",
            "[[ 0.93747603  1.05890576  1.08756232  1.01278747  1.01494874 -0.25      ]]\n",
            "[[ 0.93747603  1.05890576  1.08756232  1.01278747  1.01494874 -0.25      ]]\n",
            "[[ 0.93747603  1.05890576  1.08756232  1.01278747  1.01494874 -0.25      ]]\n",
            "[[ 0.93747603  1.05890576  1.08756232  1.01278747  1.01494874 -0.25      ]]\n",
            "[[ 0.93747603  1.05890576  1.08756232  1.01278747  1.01494874 -0.25      ]]\n",
            "[[ 0.93747603  1.05890576  1.08756232  1.01278747  1.01494874 -0.25      ]]\n",
            "[[ 0.93747603  1.05890576  1.08756232  1.01278747  1.01494874 -0.25      ]]\n",
            "[[ 0.93747603  1.05890576  1.08756232  1.01278747  1.01494874 -0.25      ]]\n",
            "[[ 0.93747603  1.05890576  1.08756232  1.01278747  1.01494874 -0.25      ]]\n",
            "[[ 0.93747603  1.05890576  1.08756232  1.01278747  1.01494874 -0.25      ]]\n",
            "[[ 0.93747603  1.05890576  1.08756232  1.01278747  1.01494874 -0.25      ]]\n",
            "[[ 0.93747603  1.05890576  1.08756232  1.01278747  1.01494874 -0.25      ]]\n",
            "[[ 0.93747603  1.05890576  1.08756232  1.01278747  1.01494874 -0.25      ]]\n",
            "[[ 0.93747603  1.05890576  1.08756232  1.01278747  1.01494874 -0.25      ]]\n",
            "[[ 0.93747603  1.05890576  1.08756232  1.01278747  1.01494874 -0.25      ]]\n",
            "[[ 0.93747603  1.05890576  1.08756232  1.01278747  1.01494874 -0.25      ]]\n",
            "[[ 0.93747603  1.05890576  1.08756232  1.01278747  1.01494874 -0.25      ]]\n",
            "[[ 0.93747603  1.05890576  1.08756232  1.01278747  1.01494874 -0.25      ]]\n",
            "[[ 0.93747603  1.05890576  1.08756232  1.01278747  1.01494874 -0.25      ]]\n",
            "[[ 0.93747603  1.05890576  1.08756232  1.01278747  1.01494874 -0.25      ]]\n",
            "[[ 0.93747603  1.05890576  1.08756232  1.01278747  1.01494874 -0.25      ]]\n",
            "[[ 0.93747603  1.05890576  1.08756232  1.01278747  1.01494874 -0.25      ]]\n",
            "[[ 0.93747603  1.05890576  1.08756232  1.01278747  1.01494874 -0.25      ]]\n",
            "[[ 0.93747603  1.05890576  1.08756232  1.01278747  1.01494874 -0.25      ]]\n",
            "[[ 0.93747603  1.05890576  1.08756232  1.01278747  1.01494874 -0.25      ]]\n",
            "[[ 0.93747603  1.05890576  1.08756232  1.01278747  1.01494874 -0.25      ]]\n",
            "[[ 0.93747603  1.05890576  1.08756232  1.01278747  1.01494874 -0.25      ]]\n",
            "[[ 0.93747603  1.05890576  1.08756232  1.01278747  1.01494874 -0.25      ]]\n",
            "[[ 0.93747603  1.05890576  1.08756232  1.01278747  1.01494874 -0.25      ]]\n",
            "[[ 0.93747603  1.05890576  1.08756232  1.01278747  1.01494874 -0.25      ]]\n",
            "[[ 0.93747603  1.05890576  1.08756232  1.01278747  1.01494874 -0.25      ]]\n",
            "[[ 0.93747603  1.05890576  1.08756232  1.01278747  1.01494874 -0.25      ]]\n",
            "[[ 0.93747603  1.05890576  1.08756232  1.01278747  1.01494874 -0.25      ]]\n",
            "[[ 0.93747603  1.05890576  1.08756232  1.01278747  1.01494874 -0.25      ]]\n",
            "[[ 0.93747603  1.05890576  1.08756232  1.01278747  1.01494874 -0.25      ]]\n",
            "[[ 0.93747603  1.05890576  1.08756232  1.01278747  1.01494874 -0.25      ]]\n",
            "[[ 0.93747603  1.05890576  1.08756232  1.01278747  1.01494874 -0.25      ]]\n",
            "[[ 0.93747603  1.05890576  1.08756232  1.01278747  1.01494874 -0.25      ]]\n",
            "[[ 0.93747603  1.05890576  1.08756232  1.01278747  1.01494874 -0.25      ]]\n",
            "[[ 0.93747603  1.05890576  1.08756232  1.01278747  1.01494874 -0.25      ]]\n",
            "[[ 0.93747603  1.05890576  1.08756232  1.01278747  1.01494874 -0.25      ]]\n",
            "[[ 0.93747603  1.05890576  1.08756232  1.01278747  1.01494874 -0.25      ]]\n",
            "[[ 0.93747603  1.05890576  1.08756232  1.01278747  1.01494874 -0.25      ]]\n",
            "[[ 0.93747603  1.05890576  1.08756232  1.01278747  1.01494874 -0.25      ]]\n",
            "[[ 0.93747603  1.05890576  1.08756232  1.01278747  1.01494874 -0.25      ]]\n",
            "[[ 0.93747603  1.05890576  1.08756232  1.01278747  1.01494874 -0.25      ]]\n",
            "[[ 0.93747603  1.05890576  1.08756232  1.01278747  1.01494874 -0.25      ]]\n",
            "[[ 0.93747603  1.05890576  1.08756232  1.01278747  1.01494874 -0.25      ]]\n",
            "[[ 0.93747603  1.05890576  1.08756232  1.01278747  1.01494874 -0.25      ]]\n",
            "[[ 0.93747603  1.05890576  1.08756232  1.01278747  1.01494874 -0.25      ]]\n",
            "[[ 0.93747603  1.05890576  1.08756232  1.01278747  1.01494874 -0.25      ]]\n",
            "[[ 0.93747603  1.05890576  1.08756232  1.01278747  1.01494874 -0.25      ]]\n",
            "[[ 0.93747603  1.05890576  1.08756232  1.01278747  1.01494874 -0.25      ]]\n",
            "[[ 0.93747603  1.05890576  1.08756232  1.01278747  1.01494874 -0.25      ]]\n",
            "[[ 0.93747603  1.05890576  1.08756232  1.01278747  1.01494874 -0.25      ]]\n",
            "[[ 0.93747603  1.05890576  1.08756232  1.01278747  1.01494874 -0.25      ]]\n",
            "[[ 0.93747603  1.05890576  1.08756232  1.01278747  1.01494874 -0.25      ]]\n",
            "[[ 0.93747603  1.05890576  1.08756232  1.01278747  1.01494874 -0.25      ]]\n",
            "[[ 0.93747603  1.05890576  1.08756232  1.01278747  1.01494874 -0.25      ]]\n",
            "[[ 0.93747603  1.05890576  1.08756232  1.01278747  1.01494874 -0.25      ]]\n",
            "[[ 0.93747603  1.05890576  1.08756232  1.01278747  1.01494874 -0.25      ]]\n",
            "[[ 0.93747603  1.05890576  1.08756232  1.01278747  1.01494874 -0.25      ]]\n",
            "[[ 0.93747603  1.05890576  1.08756232  1.01278747  1.01494874 -0.25      ]]\n",
            "[[ 0.93747603  1.05890576  1.08756232  1.01278747  1.01494874 -0.25      ]]\n",
            "[[ 0.93747603  1.05890576  1.08756232  1.01278747  1.01494874 -0.25      ]]\n",
            "[[ 0.93747603  1.05890576  1.08756232  1.01278747  1.01494874 -0.25      ]]\n",
            "[[ 0.93747603  1.05890576  1.08756232  1.01278747  1.01494874 -0.25      ]]\n",
            "[[ 0.93747603  1.05890576  1.08756232  1.01278747  1.01494874 -0.25      ]]\n",
            "[[ 0.93747603  1.05890576  1.08756232  1.01278747  1.01494874 -0.25      ]]\n",
            "[[ 0.93747603  1.05890576  1.08756232  1.01278747  1.01494874 -0.25      ]]\n",
            "[[ 0.93747603  1.05890576  1.08756232  1.01278747  1.01494874 -0.25      ]]\n",
            "[[ 0.93747603  1.05890576  1.08756232  1.01278747  1.01494874 -0.25      ]]\n",
            "[[ 0.93747603  1.05890576  1.08756232  1.01278747  1.01494874 -0.25      ]]\n",
            "[[ 0.93747603  1.05890576  1.08756232  1.01278747  1.01494874 -0.25      ]]\n",
            "[[ 0.93747603  1.05890576  1.08756232  1.01278747  1.01494874 -0.25      ]]\n",
            "[[ 0.93747603  1.05890576  1.08756232  1.01278747  1.01494874 -0.25      ]]\n",
            "[[ 0.93747603  1.05890576  1.08756232  1.01278747  1.01494874 -0.25      ]]\n",
            "[[ 0.93747603  1.05890576  1.08756232  1.01278747  1.01494874 -0.25      ]]\n",
            "[[ 0.93747603  1.05890576  1.08756232  1.01278747  1.01494874 -0.25      ]]\n",
            "[[ 0.93747603  1.05890576  1.08756232  1.01278747  1.01494874 -0.25      ]]\n",
            "[[ 0.93747603  1.05890576  1.08756232  1.01278747  1.01494874 -0.25      ]]\n",
            "[[ 0.93747603  1.05890576  1.08756232  1.01278747  1.01494874 -0.25      ]]\n",
            "[[ 0.93747603  1.05890576  1.08756232  1.01278747  1.01494874 -0.25      ]]\n",
            "[[ 0.93747603  1.05890576  1.08756232  1.01278747  1.01494874 -0.25      ]]\n",
            "[[ 0.93747603  1.05890576  1.08756232  1.01278747  1.01494874 -0.25      ]]\n",
            "[[ 0.93747603  1.05890576  1.08756232  1.01278747  1.01494874 -0.25      ]]\n",
            "[[ 0.93747603  1.05890576  1.08756232  1.01278747  1.01494874 -0.25      ]]\n",
            "[[ 0.93747603  1.05890576  1.08756232  1.01278747  1.01494874 -0.25      ]]\n",
            "[[ 0.93747603  1.05890576  1.08756232  1.01278747  1.01494874 -0.25      ]]\n",
            "[[ 0.93747603  1.05890576  1.08756232  1.01278747  1.01494874 -0.25      ]]\n",
            "[[ 0.93747603  1.05890576  1.08756232  1.01278747  1.01494874 -0.25      ]]\n",
            "[[ 0.93747603  1.05890576  1.08756232  1.01278747  1.01494874 -0.25      ]]\n",
            "[[ 0.93747603  1.05890576  1.08756232  1.01278747  1.01494874 -0.25      ]]\n",
            "[[ 0.93747603  1.05890576  1.08756232  1.01278747  1.01494874 -0.25      ]]\n",
            "[[ 0.93747603  1.05890576  1.08756232  1.01278747  1.01494874 -0.25      ]]\n",
            "[[ 0.93747603  1.05890576  1.08756232  1.01278747  1.01494874 -0.25      ]]\n",
            "[[ 0.93747603  1.05890576  1.08756232  1.01278747  1.01494874 -0.25      ]]\n",
            "[[ 0.93747603  1.05890576  1.08756232  1.01278747  1.01494874 -0.25      ]]\n",
            "[[ 0.93747603  1.05890576  1.08756232  1.01278747  1.01494874 -0.25      ]]\n",
            "[[ 0.93747603  1.05890576  1.08756232  1.01278747  1.01494874 -0.25      ]]\n",
            "[[ 0.93747603  1.05890576  1.08756232  1.01278747  1.01494874 -0.25      ]]\n",
            "[[ 0.93747603  1.05890576  1.08756232  1.01278747  1.01494874 -0.25      ]]\n",
            "[[ 0.93747603  1.05890576  1.08756232  1.01278747  1.01494874 -0.25      ]]\n",
            "[[ 0.93747603  1.05890576  1.08756232  1.01278747  1.01494874 -0.25      ]]\n",
            "[[ 0.93747603  1.05890576  1.08756232  1.01278747  1.01494874 -0.25      ]]\n",
            "[[ 0.93747603  1.05890576  1.08756232  1.01278747  1.01494874 -0.25      ]]\n",
            "[[ 0.93747603  1.05890576  1.08756232  1.01278747  1.01494874 -0.25      ]]\n",
            "[[ 0.93747603  1.05890576  1.08756232  1.01278747  1.01494874 -0.25      ]]\n",
            "[[ 0.93747603  1.05890576  1.08756232  1.01278747  1.01494874 -0.25      ]]\n",
            "[[ 0.93747603  1.05890576  1.08756232  1.01278747  1.01494874 -0.25      ]]\n",
            "[[ 0.93747603  1.05890576  1.08756232  1.01278747  1.01494874 -0.25      ]]\n",
            "[[ 0.93747603  1.05890576  1.08756232  1.01278747  1.01494874 -0.25      ]]\n",
            "[[ 0.93747603  1.05890576  1.08756232  1.01278747  1.01494874 -0.25      ]]\n",
            "[[ 0.93747603  1.05890576  1.08756232  1.01278747  1.01494874 -0.25      ]]\n",
            "[[ 0.93747603  1.05890576  1.08756232  1.01278747  1.01494874 -0.25      ]]\n",
            "[[ 0.93747603  1.05890576  1.08756232  1.01278747  1.01494874 -0.25      ]]\n",
            "[[ 0.93747603  1.05890576  1.08756232  1.01278747  1.01494874 -0.25      ]]\n",
            "[[ 0.93747603  1.05890576  1.08756232  1.01278747  1.01494874 -0.25      ]]\n",
            "[[ 0.93747603  1.05890576  1.08756232  1.01278747  1.01494874 -0.25      ]]\n",
            "[[ 0.93747603  1.05890576  1.08756232  1.01278747  1.01494874 -0.25      ]]\n",
            "[[ 0.93747603  1.05890576  1.08756232  1.01278747  1.01494874 -0.25      ]]\n",
            "[[ 0.93747603  1.05890576  1.08756232  1.01278747  1.01494874 -0.25      ]]\n",
            "[[ 0.93747603  1.05890576  1.08756232  1.01278747  1.01494874 -0.25      ]]\n",
            "[[ 0.93747603  1.05890576  1.08756232  1.01278747  1.01494874 -0.25      ]]\n",
            "[[ 0.93747603  1.05890576  1.08756232  1.01278747  1.01494874 -0.25      ]]\n",
            "[[ 0.93747603  1.05890576  1.08756232  1.01278747  1.01494874 -0.25      ]]\n",
            "[[ 0.93747603  1.05890576  1.08756232  1.01278747  1.01494874 -0.25      ]]\n",
            "[[ 0.93747603  1.05890576  1.08756232  1.01278747  1.01494874 -0.25      ]]\n",
            "[[ 0.93747603  1.05890576  1.08756232  1.01278747  1.01494874 -0.25      ]]\n",
            "[[ 0.93747603  1.05890576  1.08756232  1.01278747  1.01494874 -0.25      ]]\n",
            "[[ 0.93747603  1.05890576  1.08756232  1.01278747  1.01494874 -0.25      ]]\n",
            "[[ 0.93747603  1.05890576  1.08756232  1.01278747  1.01494874 -0.25      ]]\n",
            "[[ 0.93747603  1.05890576  1.08756232  1.01278747  1.01494874 -0.25      ]]\n",
            "[[ 0.93747603  1.05890576  1.08756232  1.01278747  1.01494874 -0.25      ]]\n",
            "[[ 0.93747603  1.05890576  1.08756232  1.01278747  1.01494874 -0.25      ]]\n",
            "[[ 0.93747603  1.05890576  1.08756232  1.01278747  1.01494874 -0.25      ]]\n",
            "[[ 0.93747603  1.05890576  1.08756232  1.01278747  1.01494874 -0.25      ]]\n",
            "[[ 0.93747603  1.05890576  1.08756232  1.01278747  1.01494874 -0.25      ]]\n",
            "[[ 0.93747603  1.05890576  1.08756232  1.01278747  1.01494874 -0.25      ]]\n",
            "[[ 0.93747603  1.05890576  1.08756232  1.01278747  1.01494874 -0.25      ]]\n",
            "[[ 0.93747603  1.05890576  1.08756232  1.01278747  1.01494874 -0.25      ]]\n",
            "[[ 0.93747603  1.05890576  1.08756232  1.01278747  1.01494874 -0.25      ]]\n",
            "[[ 0.93747603  1.05890576  1.08756232  1.01278747  1.01494874 -0.25      ]]\n",
            "[[ 0.93747603  1.05890576  1.08756232  1.01278747  1.01494874 -0.25      ]]\n",
            "[[ 0.93747603  1.05890576  1.08756232  1.01278747  1.01494874 -0.25      ]]\n",
            "[[ 0.93747603  1.05890576  1.08756232  1.01278747  1.01494874 -0.25      ]]\n",
            "[[ 0.93747603  1.05890576  1.08756232  1.01278747  1.01494874 -0.25      ]]\n",
            "[[ 0.93747603  1.05890576  1.08756232  1.01278747  1.01494874 -0.25      ]]\n",
            "[[ 0.93747603  1.05890576  1.08756232  1.01278747  1.01494874 -0.25      ]]\n",
            "[[ 0.93747603  1.05890576  1.08756232  1.01278747  1.01494874 -0.25      ]]\n",
            "[[ 0.93747603  1.05890576  1.08756232  1.01278747  1.01494874 -0.25      ]]\n",
            "[[ 0.93747603  1.05890576  1.08756232  1.01278747  1.01494874 -0.25      ]]\n",
            "[[ 0.93747603  1.05890576  1.08756232  1.01278747  1.01494874 -0.25      ]]\n",
            "[[ 0.93747603  1.05890576  1.08756232  1.01278747  1.01494874 -0.25      ]]\n",
            "[[ 0.93747603  1.05890576  1.08756232  1.01278747  1.01494874 -0.25      ]]\n",
            "[[ 0.93747603  1.05890576  1.08756232  1.01278747  1.01494874 -0.25      ]]\n",
            "[[ 0.93747603  1.05890576  1.08756232  1.01278747  1.01494874 -0.25      ]]\n",
            "[[ 0.93747603  1.05890576  1.08756232  1.01278747  1.01494874 -0.25      ]]\n",
            "[[ 0.93747603  1.05890576  1.08756232  1.01278747  1.01494874 -0.25      ]]\n",
            "[[ 0.93747603  1.05890576  1.08756232  1.01278747  1.01494874 -0.25      ]]\n",
            "[[ 0.93747603  1.05890576  1.08756232  1.01278747  1.01494874 -0.25      ]]\n",
            "[[ 0.93747603  1.05890576  1.08756232  1.01278747  1.01494874 -0.25      ]]\n",
            "[[ 0.93747603  1.05890576  1.08756232  1.01278747  1.01494874 -0.25      ]]\n",
            "[[ 0.93747603  1.05890576  1.08756232  1.01278747  1.01494874 -0.25      ]]\n",
            "[[ 0.93747603  1.05890576  1.08756232  1.01278747  1.01494874 -0.25      ]]\n",
            "[[ 0.93747603  1.05890576  1.08756232  1.01278747  1.01494874 -0.25      ]]\n",
            "[[ 0.93747603  1.05890576  1.08756232  1.01278747  1.01494874 -0.25      ]]\n",
            "[[ 0.93747603  1.05890576  1.08756232  1.01278747  1.01494874 -0.25      ]]\n",
            "[[ 0.93747603  1.05890576  1.08756232  1.01278747  1.01494874 -0.25      ]]\n",
            "[[ 0.93747603  1.05890576  1.08756232  1.01278747  1.01494874 -0.25      ]]\n",
            "[[ 0.93747603  1.05890576  1.08756232  1.01278747  1.01494874 -0.25      ]]\n",
            "[[ 0.93747603  1.05890576  1.08756232  1.01278747  1.01494874 -0.25      ]]\n",
            "[[ 0.93747603  1.05890576  1.08756232  1.01278747  1.01494874 -0.25      ]]\n",
            "[[ 0.93747603  1.05890576  1.08756232  1.01278747  1.01494874 -0.25      ]]\n",
            "[[ 0.93747603  1.05890576  1.08756232  1.01278747  1.01494874 -0.25      ]]\n",
            "[[ 0.93747603  1.05890576  1.08756232  1.01278747  1.01494874 -0.25      ]]\n",
            "[[ 0.93747603  1.05890576  1.08756232  1.01278747  1.01494874 -0.25      ]]\n",
            "[[ 0.93747603  1.05890576  1.08756232  1.01278747  1.01494874 -0.25      ]]\n",
            "[[ 0.93747603  1.05890576  1.08756232  1.01278747  1.01494874 -0.25      ]]\n",
            "[[ 0.93747603  1.05890576  1.08756232  1.01278747  1.01494874 -0.25      ]]\n",
            "[[ 0.93747603  1.05890576  1.08756232  1.01278747  1.01494874 -0.25      ]]\n",
            "[[ 0.93747603  1.05890576  1.08756232  1.01278747  1.01494874 -0.25      ]]\n",
            "[[ 0.93747603  1.05890576  1.08756232  1.01278747  1.01494874 -0.25      ]]\n",
            "[[ 0.93747603  1.05890576  1.08756232  1.01278747  1.01494874 -0.25      ]]\n",
            "[[ 0.93747603  1.05890576  1.08756232  1.01278747  1.01494874 -0.25      ]]\n",
            "[[ 0.93747603  1.05890576  1.08756232  1.01278747  1.01494874 -0.25      ]]\n",
            "[[ 0.93747603  1.05890576  1.08756232  1.01278747  1.01494874 -0.25      ]]\n"
          ],
          "name": "stdout"
        },
        {
          "output_type": "execute_result",
          "data": {
            "text/plain": [
              "[<matplotlib.lines.Line2D at 0x7fe410e33240>]"
            ]
          },
          "metadata": {
            "tags": []
          },
          "execution_count": 20
        },
        {
          "output_type": "display_data",
          "data": {
            "image/png": "[encoded data removed]",
            "text/plain": [
              "<Figure size 432x288 with 1 Axes>"
            ]
          },
          "metadata": {
            "tags": []
          }
        }
      ]
    },
    {
      "cell_type": "code",
      "metadata": {
        "id": "MWgptLHouQHU",
        "colab_type": "code",
        "colab": {
          "base_uri": "https://localhost:8080/",
          "height": 282
        },
        "outputId": "55637430-4953-4375-accb-5371568260a5"
      },
      "source": [
        "plt.plot(reward_his) # epoch = 20 trial 2"
      ],
      "execution_count": 26,
      "outputs": [
        {
          "output_type": "execute_result",
          "data": {
            "text/plain": [
              "[<matplotlib.lines.Line2D at 0x7fe4be922f98>]"
            ]
          },
          "metadata": {
            "tags": []
          },
          "execution_count": 26
        },
        {
          "output_type": "display_data",
          "data": {
            "image/png": "[encoded data removed]",
            "text/plain": [
              "<Figure size 432x288 with 1 Axes>"
            ]
          },
          "metadata": {
            "tags": []
          }
        }
      ]
    },
    {
      "cell_type": "code",
      "metadata": {
        "id": "IMpKz8dBvcsN",
        "colab_type": "code",
        "colab": {
          "base_uri": "https://localhost:8080/",
          "height": 282
        },
        "outputId": "56963583-e103-4e4c-815a-bbc47c826770"
      },
      "source": [
        "plt.plot(reward_his) # epoch = 20 trial 4"
      ],
      "execution_count": 46,
      "outputs": [
        {
          "output_type": "execute_result",
          "data": {
            "text/plain": [
              "[<matplotlib.lines.Line2D at 0x7fe4be39e898>]"
            ]
          },
          "metadata": {
            "tags": []
          },
          "execution_count": 46
        },
        {
          "output_type": "display_data",
          "data": {
            "image/png": "[encoded data removed]",
            "text/plain": [
              "<Figure size 432x288 with 1 Axes>"
            ]
          },
          "metadata": {
            "tags": []
          }
        }
      ]
    },
    {
      "cell_type": "code",
      "metadata": {
        "id": "ri0fjCgyC38l",
        "colab_type": "code",
        "colab": {
          "base_uri": "https://localhost:8080/",
          "height": 34
        },
        "outputId": "4382ca5b-18bc-4b3d-c8fb-889d3a97a9a5"
      },
      "source": [
        "scaler_state = MinMaxScaler()\n",
        "scaler_state.fit(np.array(list(state_mem.values())))\n",
        "scaler_state.transform(np.array(list(state_mem.values())))"
      ],
      "execution_count": 64,
      "outputs": [
        {
          "output_type": "execute_result",
          "data": {
            "text/plain": [
              "array([0., 0., 0., 0., 0., 0.])"
            ]
          },
          "metadata": {
            "tags": []
          },
          "execution_count": 64
        }
      ]
    },
    {
      "cell_type": "code",
      "metadata": {
        "id": "7TKNZIf8xBk8",
        "colab_type": "code",
        "colab": {
          "base_uri": "https://localhost:8080/",
          "height": 51
        },
        "outputId": "47d3efeb-0507-44b6-bd43-9004a8bf80fc"
      },
      "source": [
        "scaler_state.transform([cur_state])"
      ],
      "execution_count": 66,
      "outputs": [
        {
          "output_type": "execute_result",
          "data": {
            "text/plain": [
              "array([[0.        , 0.58475177, 0.47644262, 0.92923334, 0.95220097,\n",
              "        0.00505051]])"
            ]
          },
          "metadata": {
            "tags": []
          },
          "execution_count": 66
        }
      ]
    },
    {
      "cell_type": "code",
      "metadata": {
        "id": "dr-55Jr1xBbs",
        "colab_type": "code",
        "colab": {
          "base_uri": "https://localhost:8080/",
          "height": 316
        },
        "outputId": "6a7af86a-c192-4054-de62-4c7c93b2ced2"
      },
      "source": [
        "plt.hist(np.sort(np.array(list(state_mem.values()))[:, 0]))"
      ],
      "execution_count": 84,
      "outputs": [
        {
          "output_type": "execute_result",
          "data": {
            "text/plain": [
              "(array([176.,  33.,  18.,  10., 740.,  52., 109.,  53.,  11.,  12.]),\n",
              " array([0. , 0.1, 0.2, 0.3, 0.4, 0.5, 0.6, 0.7, 0.8, 0.9, 1. ]),\n",
              " <a list of 10 Patch objects>)"
            ]
          },
          "metadata": {
            "tags": []
          },
          "execution_count": 84
        },
        {
          "output_type": "display_data",
          "data": {
            "image/png": "[encoded data removed]",
            "text/plain": [
              "<Figure size 432x288 with 1 Axes>"
            ]
          },
          "metadata": {
            "tags": []
          }
        }
      ]
    }
  ]
}