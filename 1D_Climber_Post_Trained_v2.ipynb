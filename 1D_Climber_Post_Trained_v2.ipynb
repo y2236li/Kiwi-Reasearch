{
  "nbformat": 4,
  "nbformat_minor": 0,
  "metadata": {
    "colab": {
      "name": "1D Climber Post Trained v2.ipynb",
      "provenance": [],
      "authorship_tag": "ABX9TyNk/P9br85xXIg6unSpG2Ue",
      "include_colab_link": true
    },
    "kernelspec": {
      "name": "python3",
      "display_name": "Python 3"
    }
  },
  "cells": [
    {
      "cell_type": "markdown",
      "metadata": {
        "id": "view-in-github",
        "colab_type": "text"
      },
      "source": [
        "<a href=\"https://colab.research.google.com/github/y2236li/Kiwi-Reasearch/blob/master/1D_Climber_Post_Trained_v2.ipynb\" target=\"_parent\"><img src=\"https://colab.research.google.com/assets/colab-badge.svg\" alt=\"Open In Colab\"/></a>"
      ]
    },
    {
      "cell_type": "code",
      "metadata": {
        "id": "0zftw4gTaYV3",
        "colab_type": "code",
        "colab": {}
      },
      "source": [
        "%load_ext autoreload"
      ],
      "execution_count": 0,
      "outputs": []
    },
    {
      "cell_type": "code",
      "metadata": {
        "id": "iHRr2XhMac0C",
        "colab_type": "code",
        "colab": {
          "base_uri": "https://localhost:8080/",
          "height": 122
        },
        "outputId": "15797653-f9df-4259-d969-52e687a8bd51"
      },
      "source": [
        "from google.colab import drive\n",
        "drive.mount('/content/drive')"
      ],
      "execution_count": 2,
      "outputs": [
        {
          "output_type": "stream",
          "text": [
            "Go to this URL in a browser: https://accounts.google.com/o/oauth2/auth?client_id=947318989803-6bn6qk8qdgf4n4g3pfee6491hc0brc4i.apps.googleusercontent.com&redirect_uri=urn%3aietf%3awg%3aoauth%3a2.0%3aoob&response_type=code&scope=email%20https%3a%2f%2fwww.googleapis.com%2fauth%2fdocs.test%20https%3a%2f%2fwww.googleapis.com%2fauth%2fdrive%20https%3a%2f%2fwww.googleapis.com%2fauth%2fdrive.photos.readonly%20https%3a%2f%2fwww.googleapis.com%2fauth%2fpeopleapi.readonly\n",
            "\n",
            "Enter your authorization code:\n",
            "··········\n",
            "Mounted at /content/drive\n"
          ],
          "name": "stdout"
        }
      ]
    },
    {
      "cell_type": "code",
      "metadata": {
        "id": "13_cdN3uafIc",
        "colab_type": "code",
        "colab": {
          "base_uri": "https://localhost:8080/",
          "height": 34
        },
        "outputId": "819476ce-698a-4919-806e-b4d0aebbc65d"
      },
      "source": [
        "cd drive/My\\ Drive/kiwi_research/kiwi_project"
      ],
      "execution_count": 3,
      "outputs": [
        {
          "output_type": "stream",
          "text": [
            "/content/drive/My Drive/kiwi_research/kiwi_project\n"
          ],
          "name": "stdout"
        }
      ]
    },
    {
      "cell_type": "code",
      "metadata": {
        "id": "5Sus3khMa5pc",
        "colab_type": "code",
        "colab": {
          "base_uri": "https://localhost:8080/",
          "height": 80
        },
        "outputId": "35f95a55-814e-4452-a294-23c3530745fe"
      },
      "source": [
        "from sklearn.preprocessing import MinMaxScaler\n",
        "import os\n",
        "import tensorflow as tf\n",
        "import collections\n",
        "import pickle\n",
        "import pandas as pd\n",
        "import numpy as np\n",
        "import matplotlib.pyplot as plt\n",
        "from tqdm import tqdm\n",
        "from sklearn.svm import SVR\n",
        "from sklearn.metrics import r2_score\n",
        "from sklearn.cross_decomposition import PLSRegression\n",
        "from keras.layers import Dense, Activation\n",
        "from keras.models import Sequential, load_model\n",
        "from keras.optimizers import Adam"
      ],
      "execution_count": 4,
      "outputs": [
        {
          "output_type": "display_data",
          "data": {
            "text/html": [
              "<p style=\"color: red;\">\n",
              "The default version of TensorFlow in Colab will soon switch to TensorFlow 2.x.<br>\n",
              "We recommend you <a href=\"https://www.tensorflow.org/guide/migrate\" target=\"_blank\">upgrade</a> now \n",
              "or ensure your notebook will continue to use TensorFlow 1.x via the <code>%tensorflow_version 1.x</code> magic:\n",
              "<a href=\"https://colab.research.google.com/notebooks/tensorflow_version.ipynb\" target=\"_blank\">more info</a>.</p>\n"
            ],
            "text/plain": [
              "<IPython.core.display.HTML object>"
            ]
          },
          "metadata": {
            "tags": []
          }
        },
        {
          "output_type": "stream",
          "text": [
            "Using TensorFlow backend.\n"
          ],
          "name": "stderr"
        }
      ]
    },
    {
      "cell_type": "code",
      "metadata": {
        "id": "-oILQDBoa6xP",
        "colab_type": "code",
        "colab": {}
      },
      "source": [
        "def calAccuracy(x):\n",
        "  \"\"\"\n",
        "  Calculate the accuracy\n",
        "  return: accuracy\n",
        "  \"\"\"\n",
        "  pls2 = PLSRegression(n_components=x)\n",
        "  pls2.fit(X_train, Y_train)\n",
        "  Y_pred = pls2.predict(X_test)\n",
        "  y = r2_score(Y_pred, Y_test)\n",
        "  return y\n",
        "\n",
        "\n",
        "def calReward(x):\n",
        "  return accuracy_lookuptb[x]\n",
        "\n",
        "def detect(detect_range, x):\n",
        "  \"\"\"\n",
        "  return the accuracy of detecting area around the x\n",
        "  \n",
        "  \"\"\"\n",
        "  x_detect_range = np.array(detect_range) + x\n",
        "  return [calReward(pos) if pos in x_range else 0 for pos in x_detect_range]\n",
        "\n",
        "\n",
        "def step(cur_state, action):\n",
        "  next_x = max(min(max(x_range), cur_state[-1] + action), 1)\n",
        "  next_state = detect(detect_range, next_x) + [next_x]\n",
        "  reward = calReward(next_x)\n",
        "  return (next_state, reward)\n",
        "\n",
        "def writeMem(cur_state, next_state, action, reward):\n",
        "  index = mem_ctr % mem_size\n",
        "  state_mem[index] = cur_state\n",
        "  next_state_mem[index] = next_state\n",
        "  tmp_onehot = np.zeros(len(step_options), dtype=np.int64)\n",
        "  tmp_onehot[step_options.index(action)] = 1\n",
        "  onehot_action_mem[index] = tmp_onehot\n",
        "  reward_mem[index] = reward\n",
        "\n",
        "\n",
        "\n",
        "def calAccuracyTest(x):\n",
        "  \"\"\"\n",
        "  Calculate the accuracy\n",
        "  return: accuracy\n",
        "  \"\"\"\n",
        "  pls2 = PLSRegression(n_components=x)\n",
        "  pls2.fit(X_train_test, Y_train_test)\n",
        "  Y_pred = pls2.predict(X_test_test)\n",
        "  y = r2_score(Y_pred, Y_test_test)\n",
        "  return y\n",
        "\n",
        "def calRewardTest(x):\n",
        "  return accuracy_lookuptb_test[x]\n",
        "\n",
        "\n",
        "def detectTest(detect_range, x):\n",
        "  \"\"\"\n",
        "  return the accuracy of detecting area around the x\n",
        "  \"\"\"\n",
        "  x_detect_range = np.array(detect_range, dtype=np.int64) + int(x)\n",
        "  return [calRewardTest(pos) if pos in x_range else 0 for pos in x_detect_range]\n",
        "\n",
        "\n",
        "\n",
        "def stepTest(cur_state, action):\n",
        "  next_x = int(max(min(max(x_range), cur_state[-1] + action), 1))\n",
        "  next_state = detectTest(detect_range, next_x) + [next_x]\n",
        "  reward = calRewardTest(next_x)\n",
        "  return (next_state, reward)\n",
        "\n",
        "def writeMem(cur_state, next_state, action, reward):\n",
        "  index = mem_ctr % mem_size\n",
        "  state_mem[index] = cur_state\n",
        "  next_state_mem[index] = next_state\n",
        "  tmp_onehot = np.zeros(len(step_options), dtype=np.int64)\n",
        "  tmp_onehot[step_options.index(action)] = 1\n",
        "  onehot_action_mem[index] = tmp_onehot\n",
        "  reward_mem[index] = reward\n",
        "\n"
      ],
      "execution_count": 0,
      "outputs": []
    },
    {
      "cell_type": "markdown",
      "metadata": {
        "id": "w1PB-jXTa_Eo",
        "colab_type": "text"
      },
      "source": [
        "## Global Variables"
      ]
    },
    {
      "cell_type": "code",
      "metadata": {
        "id": "bVZHkvofa8KC",
        "colab_type": "code",
        "colab": {}
      },
      "source": [
        "f_xy = open(\"pickles/XYtraintest.pk1\", \"rb\")\n",
        "X_train, X_test, Y_train, Y_test = pickle.load(f_xy)\n",
        "f_xy.close()\n",
        "\n",
        "x_range = range(1, 200)\n",
        "\n",
        "idle_range = 0.001 # if the change of recent steps (idle steps) did not have a change of this range. Game will be over\n",
        "idle_steps = 5\n",
        "\n",
        "detect_range = [-3, -1, 0, 1, 3] # also input dim\n",
        "step_options = [-8, -3, -1, 0, 1, 3, 8] # also action space\n",
        "\n",
        "lr = 0.01 # also alpha\n",
        "one_game_steps = 300\n",
        "\n",
        "\n",
        "gamma = 0.8\n",
        "\n",
        "\n",
        "#memory variables\n",
        "mem_ctr = 0\n",
        "state_mem = {}\n",
        "onehot_action_mem = {}\n",
        "reward_mem = {}\n",
        "next_state_mem = {}\n",
        "terminal_mem = {}"
      ],
      "execution_count": 0,
      "outputs": []
    },
    {
      "cell_type": "markdown",
      "metadata": {
        "id": "-KPveC5ob2ow",
        "colab_type": "text"
      },
      "source": [
        "## Find a accuracy map with relatively wide range of accuracy"
      ]
    },
    {
      "cell_type": "code",
      "metadata": {
        "id": "CAo4tAdmbEgn",
        "colab_type": "code",
        "colab": {
          "base_uri": "https://localhost:8080/",
          "height": 284
        },
        "outputId": "9a55ebd3-c8ab-4ef6-ee60-a0c1aef739f6"
      },
      "source": [
        "X = np.concatenate((X_train, X_test))\n",
        "Y = np.concatenate((Y_train, Y_test))\n",
        "train_indices = np.random.choice(X.shape[0], 300, replace=False)\n",
        "test_indices = np.array([x for x in range(X.shape[0]) if x not in train_indices])\n",
        "X_train = X[train_indices]\n",
        "X_test = X[test_indices]\n",
        "Y_train = Y[train_indices]\n",
        "Y_test = Y[test_indices]\n",
        "accuracy_list = []\n",
        "for x in x_range:\n",
        "  accuracy_list.append(calAccuracy(x))\n",
        "plt.plot(accuracy_list)\n",
        "plt.show()\n",
        "print(np.argmax(accuracy_list))"
      ],
      "execution_count": 105,
      "outputs": [
        {
          "output_type": "display_data",
          "data": {
            "image/png": "[encoded data removed]",
            "text/plain": [
              "<Figure size 432x288 with 1 Axes>"
            ]
          },
          "metadata": {
            "tags": []
          }
        },
        {
          "output_type": "stream",
          "text": [
            "10\n"
          ],
          "name": "stdout"
        }
      ]
    },
    {
      "cell_type": "markdown",
      "metadata": {
        "id": "ALlRs3HdcTHr",
        "colab_type": "text"
      },
      "source": [
        "## Game Initialization"
      ]
    },
    {
      "cell_type": "code",
      "metadata": {
        "id": "iKmdhb-nb4hD",
        "colab_type": "code",
        "colab": {}
      },
      "source": [
        "mem_size = one_game_steps * 4\n",
        "batch_size = int(one_game_steps /64) * 64\n",
        "assert batch_size <= mem_size\n",
        "random_walk_period = batch_size\n",
        "\n",
        "accuracy_lookuptb = dict(zip(*(x_range, accuracy_list)))\n",
        "\n",
        "random_walk_period = batch_size\n",
        "scaler_state = MinMaxScaler()\n",
        "scaler_state.fit([detect(detect_range, x) + [x] for x in x_range if np.prod(detect(detect_range, x)) > 0])\n",
        "\n",
        "x = 190\n",
        "detection = detect(detect_range, x)\n",
        "cur_nor_state = scaler_state.transform([detection + [x]])[0]\n",
        "cur_state = scaler_state.inverse_transform([cur_nor_state])[0]\n",
        "\n",
        "init_state = cur_state\n",
        "init_nor_state = cur_nor_state"
      ],
      "execution_count": 0,
      "outputs": []
    },
    {
      "cell_type": "markdown",
      "metadata": {
        "id": "6Zl3xHapcac6",
        "colab_type": "text"
      },
      "source": [
        "## Make a NN"
      ]
    },
    {
      "cell_type": "code",
      "metadata": {
        "id": "Pkq3RT6dcVnk",
        "colab_type": "code",
        "colab": {}
      },
      "source": [
        "def makeModel():\n",
        "  fc1_dims = 200\n",
        "  fc2_dims = 200\n",
        "  model = Sequential([\n",
        "      Dense(fc1_dims, input_shape=(np.array(cur_state).shape[0],)),\n",
        "      Activation('relu'),\n",
        "      Dense(fc2_dims),\n",
        "      Activation('relu'),\n",
        "      Dense(len(step_options))\n",
        "  ])\n",
        "\n",
        "  model.compile(optimizer=Adam(lr=lr), loss='mse')\n",
        "\n",
        "  return model\n",
        "\n",
        "# with strategy.scope():\n",
        "q_model = makeModel()"
      ],
      "execution_count": 0,
      "outputs": []
    },
    {
      "cell_type": "markdown",
      "metadata": {
        "id": "-JPePGUpeVGx",
        "colab_type": "text"
      },
      "source": [
        "## Main"
      ]
    },
    {
      "cell_type": "code",
      "metadata": {
        "id": "HfIL_MoHcfhb",
        "colab_type": "code",
        "colab": {
          "base_uri": "https://localhost:8080/",
          "height": 629
        },
        "outputId": "b8f4db40-7a62-457f-fa4d-165fa788e15b"
      },
      "source": [
        "mem_ctr = 0\n",
        "state_mem = {}\n",
        "onehot_action_mem = {}\n",
        "reward_mem = {}\n",
        "next_state_mem = {}\n",
        "terminal_mem = {}\n",
        "\n",
        "reward_his = []\n",
        "\n",
        "n_games = 10\n",
        "gamma = 0.5\n",
        "\n",
        "epsilon = 0.1\n",
        "epsilon_dec = 0.8\n",
        "\n",
        "for _ in tqdm(range(n_games)):\n",
        "  for step_ctr in range(one_game_steps):\n",
        "    \n",
        "  # predict action\n",
        "    if mem_ctr < random_walk_period or np.random.uniform() <= epsilon:\n",
        "      action = np.random.choice(step_options)\n",
        "    else:\n",
        "      # once random walk were done, the state in memory will be normalized\n",
        "\n",
        "      indices = np.random.choice(len(state_mem), batch_size, replace=False)\n",
        "\n",
        "      batch_states = np.array(list(state_mem.values()))[indices]\n",
        "      batch_next_states = np.array(list(next_state_mem.values()))[indices]\n",
        "      batch_actions = np.array(list(onehot_action_mem.values()))[indices]\n",
        "      batch_rewards = np.array(list(reward_mem.values()))[indices]\n",
        "\n",
        "      q_matrix = q_model.predict(batch_states)\n",
        "      q_next = q_model.predict(batch_next_states)\n",
        "\n",
        "      actions_indices = np.dot(batch_actions, np.arange(len(step_options), dtype=np.int64))\n",
        "      batch_indices = np.arange(batch_size, dtype=np.int64)\n",
        "\n",
        "      q_matrix[batch_indices, actions_indices] = batch_rewards + gamma*np.max(q_next, axis=1)\n",
        "\n",
        "\n",
        "      q_model.fit(batch_states, q_matrix, verbose=0, epochs = 1)\n",
        "\n",
        "      action = step_options[np.argmax(q_model.predict(cur_nor_state.reshape(1, 6)))]\n",
        "    \n",
        "    next_state, reward = step(cur_state, action)\n",
        "    next_nor_state = scaler_state.transform([next_state])[0]\n",
        "    \n",
        "    writeMem(cur_nor_state, next_nor_state, action, reward)\n",
        "    reward_his.append(reward)\n",
        "\n",
        "    cur_state = next_state\n",
        "    cur_nor_state = next_nor_state\n",
        "\n",
        "    mem_ctr += 1"
      ],
      "execution_count": 108,
      "outputs": [
        {
          "output_type": "stream",
          "text": [
            "\n",
            "\n",
            "\n",
            "  0%|          | 0/10 [00:00<?, ?it/s]\u001b[A\u001b[A\u001b[A\n",
            "\n",
            "\n",
            " 10%|█         | 1/10 [00:01<00:11,  1.33s/it]\u001b[A\u001b[A\u001b[A\n",
            "\n",
            "\n",
            " 20%|██        | 2/10 [00:06<00:20,  2.54s/it]\u001b[A\u001b[A\u001b[A\n",
            "\n",
            "\n",
            " 30%|███       | 3/10 [00:12<00:24,  3.50s/it]\u001b[A\u001b[A\u001b[A\n",
            "\n",
            "\n",
            " 40%|████      | 4/10 [00:18<00:25,  4.18s/it]\u001b[A\u001b[A\u001b[A\n",
            "\n",
            "\n",
            " 50%|█████     | 5/10 [00:23<00:22,  4.59s/it]\u001b[A\u001b[A\u001b[A\n",
            "\n",
            "\n",
            " 60%|██████    | 6/10 [00:29<00:19,  4.94s/it]\u001b[A\u001b[A\u001b[A\n",
            "\n",
            "\n",
            " 70%|███████   | 7/10 [00:35<00:15,  5.16s/it]\u001b[A\u001b[A\u001b[A\n",
            "\n",
            "\n",
            " 80%|████████  | 8/10 [00:40<00:10,  5.32s/it]\u001b[A\u001b[A\u001b[A\n",
            "\n",
            "\n",
            " 90%|█████████ | 9/10 [00:46<00:05,  5.45s/it]\u001b[A\u001b[A\u001b[A\n",
            "\n",
            "\n",
            "100%|██████████| 10/10 [00:52<00:00,  5.47s/it]\u001b[A\u001b[A\u001b[A\n",
            "\n",
            "\n",
            "\u001b[A\u001b[A\u001b[A"
          ],
          "name": "stderr"
        }
      ]
    },
    {
      "cell_type": "code",
      "metadata": {
        "id": "aMkCg3XjeYfU",
        "colab_type": "code",
        "colab": {
          "base_uri": "https://localhost:8080/",
          "height": 284
        },
        "outputId": "3b57d87d-de98-4d12-9c08-f606ed66f327"
      },
      "source": [
        "plt.plot(reward_his)"
      ],
      "execution_count": 109,
      "outputs": [
        {
          "output_type": "execute_result",
          "data": {
            "text/plain": [
              "[<matplotlib.lines.Line2D at 0x7ff1995f7048>]"
            ]
          },
          "metadata": {
            "tags": []
          },
          "execution_count": 109
        },
        {
          "output_type": "display_data",
          "data": {
            "image/png": "[encoded data removed]",
            "text/plain": [
              "<Figure size 432x288 with 1 Axes>"
            ]
          },
          "metadata": {
            "tags": []
          }
        }
      ]
    },
    {
      "cell_type": "code",
      "metadata": {
        "id": "TQol9DKVgVzF",
        "colab_type": "code",
        "colab": {
          "base_uri": "https://localhost:8080/",
          "height": 284
        },
        "outputId": "c6aeb3fe-94c8-4234-b20f-d8925b959359"
      },
      "source": [
        "plt.plot(x_range, accuracy_list)\n",
        "plt.plot(np.array(detect_range) + cur_state[-1], cur_state[:-1])\n",
        "plt.scatter(cur_state[-1], cur_state[2])\n",
        "print(\"The agent stop at: \", (cur_state[-1], cur_state[2]))"
      ],
      "execution_count": 111,
      "outputs": [
        {
          "output_type": "stream",
          "text": [
            "The agent stop at:  (11, 0.8795843718139704)\n"
          ],
          "name": "stdout"
        },
        {
          "output_type": "display_data",
          "data": {
            "image/png": "[encoded data removed]",
            "text/plain": [
              "<Figure size 432x288 with 1 Axes>"
            ]
          },
          "metadata": {
            "tags": []
          }
        }
      ]
    },
    {
      "cell_type": "markdown",
      "metadata": {
        "id": "4W6vQ4QgiLr8",
        "colab_type": "text"
      },
      "source": [
        "## Impact of parameter value in states"
      ]
    },
    {
      "cell_type": "code",
      "metadata": {
        "id": "aO7Q1DAchMtB",
        "colab_type": "code",
        "colab": {
          "base_uri": "https://localhost:8080/",
          "height": 51
        },
        "outputId": "e14a0ef1-35b4-4068-8893-9b99c5a7a91b"
      },
      "source": [
        "cur_state_prediction = q_model.predict(cur_nor_state.reshape(1,6))[0]\n",
        "cur_state_action = step_options[np.argmax(q_model.predict(cur_nor_state.reshape(1,6))[0])]\n",
        "print(\"Current state: \", cur_state)\n",
        "print(\"Action at the current state: \", cur_state_action)"
      ],
      "execution_count": 68,
      "outputs": [
        {
          "output_type": "stream",
          "text": [
            "Current state:  [0.75686994 0.83605527 0.83742158 0.85217968 0.8646609  9.        ]\n",
            "Action at the current state:  3\n"
          ],
          "name": "stdout"
        }
      ]
    },
    {
      "cell_type": "code",
      "metadata": {
        "id": "-5nCiEgJiEde",
        "colab_type": "code",
        "colab": {
          "base_uri": "https://localhost:8080/",
          "height": 282
        },
        "outputId": "de605c25-5c04-4718-b5c7-4bff7d877682"
      },
      "source": [
        "### reverse the accuracy at teh cur_state and normalize it\n",
        "cur_nor_state_reverse = np.append(1 - np.array(cur_nor_state)[:-1], cur_nor_state[-1])\n",
        "cur_state_reverse = scaler_state.inverse_transform([cur_nor_state_reverse])[0]\n",
        "plt.plot(x_range, accuracy_list)\n",
        "plt.plot(np.array(detect_range) + cur_state_reverse[-1], cur_state_reverse[:-1])\n",
        "plt.scatter(cur_state_reverse[-1], cur_state_reverse[2])\n",
        "\n",
        "print(\"After reverse the accuracy, the new action of the reversed state = \", step_options[np.argmax(q_model.predict([cur_nor_state_reverse.reshape(1, 6)])[0])])"
      ],
      "execution_count": 58,
      "outputs": [
        {
          "output_type": "stream",
          "text": [
            "After reverse the accuracy, the new action of the reversed state =  0\n"
          ],
          "name": "stdout"
        },
        {
          "output_type": "display_data",
          "data": {
            "image/png": "[encoded data removed]",
            "text/plain": [
              "<Figure size 432x288 with 1 Axes>"
            ]
          },
          "metadata": {
            "tags": []
          }
        }
      ]
    },
    {
      "cell_type": "code",
      "metadata": {
        "id": "6NmKNvZ7jo34",
        "colab_type": "code",
        "colab": {
          "base_uri": "https://localhost:8080/",
          "height": 1000
        },
        "outputId": "e98e9fcb-c9fd-48c8-9b9b-6923763d8ef4"
      },
      "source": [
        "### Change the value of param from 1 to 200\n",
        "for x in x_range:\n",
        "  cur_state_tmp = cur_state.copy()\n",
        "  cur_state_tmp[-1] = x\n",
        "  cur_nor_state_tmp = scaler_state.transform([cur_state_tmp])[0]\n",
        "  # print(cur_state_tmp)\n",
        "  action_tmp = step_options[np.argmax(q_model.predict([cur_nor_state_tmp.reshape(1, 6)])[0])]\n",
        "  print(x, action_tmp)\n",
        "  "
      ],
      "execution_count": 85,
      "outputs": [
        {
          "output_type": "stream",
          "text": [
            "1 3\n",
            "2 3\n",
            "3 3\n",
            "4 3\n",
            "5 3\n",
            "6 3\n",
            "7 3\n",
            "8 3\n",
            "9 3\n",
            "10 3\n",
            "11 3\n",
            "12 3\n",
            "13 3\n",
            "14 3\n",
            "15 3\n",
            "16 3\n",
            "17 3\n",
            "18 3\n",
            "19 3\n",
            "20 3\n",
            "21 3\n",
            "22 3\n",
            "23 3\n",
            "24 3\n",
            "25 3\n",
            "26 3\n",
            "27 3\n",
            "28 3\n",
            "29 3\n",
            "30 3\n",
            "31 3\n",
            "32 3\n",
            "33 3\n",
            "34 3\n",
            "35 3\n",
            "36 3\n",
            "37 8\n",
            "38 0\n",
            "39 0\n",
            "40 0\n",
            "41 0\n",
            "42 0\n",
            "43 0\n",
            "44 0\n",
            "45 0\n",
            "46 0\n",
            "47 0\n",
            "48 0\n",
            "49 0\n",
            "50 0\n",
            "51 0\n",
            "52 0\n",
            "53 0\n",
            "54 0\n",
            "55 0\n",
            "56 0\n",
            "57 0\n",
            "58 0\n",
            "59 0\n",
            "60 0\n",
            "61 0\n",
            "62 0\n",
            "63 0\n",
            "64 0\n",
            "65 0\n",
            "66 0\n",
            "67 0\n",
            "68 0\n",
            "69 0\n",
            "70 0\n",
            "71 0\n",
            "72 0\n",
            "73 0\n",
            "74 0\n",
            "75 0\n",
            "76 0\n",
            "77 0\n",
            "78 0\n",
            "79 0\n",
            "80 0\n",
            "81 0\n",
            "82 0\n",
            "83 0\n",
            "84 0\n",
            "85 0\n",
            "86 0\n",
            "87 0\n",
            "88 0\n",
            "89 0\n",
            "90 0\n",
            "91 0\n",
            "92 0\n",
            "93 0\n",
            "94 0\n",
            "95 0\n",
            "96 0\n",
            "97 0\n",
            "98 0\n",
            "99 0\n",
            "100 0\n",
            "101 0\n",
            "102 0\n",
            "103 0\n",
            "104 0\n",
            "105 0\n",
            "106 0\n",
            "107 0\n",
            "108 0\n",
            "109 0\n",
            "110 0\n",
            "111 0\n",
            "112 0\n",
            "113 0\n",
            "114 0\n",
            "115 0\n",
            "116 0\n",
            "117 0\n",
            "118 0\n",
            "119 0\n",
            "120 0\n",
            "121 0\n",
            "122 0\n",
            "123 0\n",
            "124 0\n",
            "125 0\n",
            "126 0\n",
            "127 0\n",
            "128 0\n",
            "129 0\n",
            "130 0\n",
            "131 0\n",
            "132 0\n",
            "133 0\n",
            "134 0\n",
            "135 0\n",
            "136 0\n",
            "137 0\n",
            "138 0\n",
            "139 0\n",
            "140 0\n",
            "141 0\n",
            "142 0\n",
            "143 0\n",
            "144 0\n",
            "145 0\n",
            "146 0\n",
            "147 0\n",
            "148 0\n",
            "149 0\n",
            "150 0\n",
            "151 0\n",
            "152 0\n",
            "153 0\n",
            "154 0\n",
            "155 0\n",
            "156 0\n",
            "157 0\n",
            "158 0\n",
            "159 0\n",
            "160 0\n",
            "161 0\n",
            "162 0\n",
            "163 0\n",
            "164 0\n",
            "165 0\n",
            "166 0\n",
            "167 0\n",
            "168 0\n",
            "169 0\n",
            "170 0\n",
            "171 0\n",
            "172 0\n",
            "173 0\n",
            "174 0\n",
            "175 0\n",
            "176 0\n",
            "177 0\n",
            "178 0\n",
            "179 0\n",
            "180 0\n",
            "181 0\n",
            "182 0\n",
            "183 0\n",
            "184 0\n",
            "185 0\n",
            "186 0\n",
            "187 0\n",
            "188 0\n",
            "189 0\n",
            "190 0\n",
            "191 0\n",
            "192 0\n",
            "193 0\n",
            "194 0\n",
            "195 0\n",
            "196 0\n",
            "197 0\n",
            "198 0\n",
            "199 0\n"
          ],
          "name": "stdout"
        }
      ]
    },
    {
      "cell_type": "markdown",
      "metadata": {
        "id": "vC133kGanO6v",
        "colab_type": "text"
      },
      "source": [
        "## Test by Changing Test Set"
      ]
    },
    {
      "cell_type": "code",
      "metadata": {
        "id": "IOtclKdYll3a",
        "colab_type": "code",
        "colab": {
          "base_uri": "https://localhost:8080/",
          "height": 282
        },
        "outputId": "1ca3e93f-0d57-434c-c975-52c226ebbc68"
      },
      "source": [
        "X = np.concatenate((X_train, X_test))\n",
        "Y = np.concatenate((Y_train, Y_test))\n",
        "train_indices = np.random.choice(X.shape[0], 300, replace=False)\n",
        "test_indices = np.array([x for x in range(X.shape[0]) if x not in train_indices])\n",
        "X_train_test = X[train_indices]\n",
        "X_test_test = X[test_indices]\n",
        "Y_train_test = Y[train_indices]\n",
        "Y_test_test = Y[test_indices]\n",
        "accuracy_list_test = []\n",
        "accuracy_lookuptb_test = {}\n",
        "for x in x_range:\n",
        "  accuracy_list_test.append(calAccuracyTest(x))\n",
        "  accuracy_lookuptb_test[x] = accuracy_list_test[-1]\n",
        "plt.plot(accuracy_list_test)\n",
        "plt.show()\n",
        "print(np.argmax(accuracy_list_test))"
      ],
      "execution_count": 93,
      "outputs": [
        {
          "output_type": "display_data",
          "data": {
            "image/png": "[encoded data removed]",
            "text/plain": [
              "<Figure size 432x288 with 1 Axes>"
            ]
          },
          "metadata": {
            "tags": []
          }
        },
        {
          "output_type": "stream",
          "text": [
            "14\n"
          ],
          "name": "stdout"
        }
      ]
    },
    {
      "cell_type": "code",
      "metadata": {
        "id": "3OvUZkaNnRS2",
        "colab_type": "code",
        "colab": {
          "base_uri": "https://localhost:8080/",
          "height": 1000
        },
        "outputId": "bf81ce40-cc96-40b3-f535-392796a262c1"
      },
      "source": [
        "x = 140\n",
        "detection_test = detectTest(detect_range, x)\n",
        "cur_nor_state_test = scaler_state.transform([detection_test + [x]])[0]\n",
        "cur_state_test = scaler_state.inverse_transform([cur_nor_state_test])[0]\n",
        "\n",
        "init_state_test = cur_state_test\n",
        "init_nor_state_test = cur_nor_state_test\n",
        "prediction_test = []\n",
        "cur_state_test = init_state_test\n",
        "max_state_test = cur_state_test\n",
        "for step_ctr in tqdm(range(180)):\n",
        "  action_test = step_options[np.argmax(q_model.predict(cur_nor_state_test.reshape(1, 6)))]\n",
        "  next_state_test, reward_test = stepTest(cur_state_test, action_test)\n",
        "  if reward_test > max_state_test[3]:\n",
        "    max_state_test = next_state_test\n",
        "  next_nor_state_test = scaler_state.transform([next_state_test])[0]\n",
        "  prediction_test.append(reward_test)\n",
        "  cur_state_test = next_state_test\n",
        "  cur_nor_state_test = next_nor_state_test\n",
        "plt.plot(prediction_test)\n",
        "print(cur_state_test)\n",
        "print(max_state_test)"
      ],
      "execution_count": 113,
      "outputs": [
        {
          "output_type": "stream",
          "text": [
            "\r  3%|▎         | 6/180 [00:03<01:26,  2.02it/s]\u001b[A\u001b[A\u001b[A\n",
            "\n",
            "\n",
            "  4%|▍         | 7/180 [00:03<01:23,  2.06it/s]\u001b[A\u001b[A\u001b[A\n",
            "\n",
            "\n",
            "  4%|▍         | 8/180 [00:03<01:21,  2.11it/s]\u001b[A\u001b[A\u001b[A\n",
            "\n",
            "\n",
            "  5%|▌         | 9/180 [00:04<01:18,  2.17it/s]\u001b[A\u001b[A\u001b[A\n",
            "\n",
            "\n",
            "  6%|▌         | 10/180 [00:04<01:15,  2.24it/s]\u001b[A\u001b[A\u001b[A\n",
            "\n",
            "\n",
            "  6%|▌         | 11/180 [00:05<01:13,  2.31it/s]\u001b[A\u001b[A\u001b[A\n",
            "\n",
            "\n",
            "  7%|▋         | 12/180 [00:05<01:11,  2.36it/s]\u001b[A\u001b[A\u001b[A\n",
            "\n",
            "\n",
            "  7%|▋         | 13/180 [00:05<01:08,  2.44it/s]\u001b[A\u001b[A\u001b[A\n",
            "\n",
            "\n",
            "  8%|▊         | 14/180 [00:06<01:06,  2.50it/s]\u001b[A\u001b[A\u001b[A\n",
            "\n",
            "\n",
            "  8%|▊         | 15/180 [00:06<01:04,  2.56it/s]\u001b[A\u001b[A\u001b[A\n",
            "\n",
            "\n",
            "  9%|▉         | 16/180 [00:07<01:02,  2.62it/s]\u001b[A\u001b[A\u001b[A\n",
            "\n",
            "\n",
            "  9%|▉         | 17/180 [00:07<01:00,  2.70it/s]\u001b[A\u001b[A\u001b[A\n",
            "\n",
            "\n",
            " 10%|█         | 18/180 [00:07<00:57,  2.81it/s]\u001b[A\u001b[A\u001b[A\n",
            "\n",
            "\n",
            " 11%|█         | 19/180 [00:08<00:55,  2.91it/s]\u001b[A\u001b[A\u001b[A\n",
            "\n",
            "\n",
            " 11%|█         | 20/180 [00:08<00:53,  3.00it/s]\u001b[A\u001b[A\u001b[A\n",
            "\n",
            "\n",
            " 12%|█▏        | 21/180 [00:08<00:51,  3.09it/s]\u001b[A\u001b[A\u001b[A\n",
            "\n",
            "\n",
            " 12%|█▏        | 22/180 [00:08<00:49,  3.22it/s]\u001b[A\u001b[A\u001b[A\n",
            "\n",
            "\n",
            " 13%|█▎        | 23/180 [00:09<00:47,  3.31it/s]\u001b[A\u001b[A\u001b[A\n",
            "\n",
            "\n",
            " 13%|█▎        | 24/180 [00:09<00:45,  3.44it/s]\u001b[A\u001b[A\u001b[A\n",
            "\n",
            "\n",
            " 14%|█▍        | 25/180 [00:09<00:43,  3.55it/s]\u001b[A\u001b[A\u001b[A\n",
            "\n",
            "\n",
            " 14%|█▍        | 26/180 [00:09<00:41,  3.71it/s]\u001b[A\u001b[A\u001b[A\n",
            "\n",
            "\n",
            " 15%|█▌        | 27/180 [00:10<00:39,  3.87it/s]\u001b[A\u001b[A\u001b[A\n",
            "\n",
            "\n",
            " 16%|█▌        | 28/180 [00:10<00:39,  3.84it/s]\u001b[A\u001b[A\u001b[A\n",
            "\n",
            "\n",
            " 16%|█▌        | 29/180 [00:10<00:37,  4.08it/s]\u001b[A\u001b[A\u001b[A\n",
            "\n",
            "\n",
            " 17%|█▋        | 30/180 [00:10<00:34,  4.34it/s]\u001b[A\u001b[A\u001b[A\n",
            "\n",
            "\n",
            " 17%|█▋        | 31/180 [00:11<00:32,  4.62it/s]\u001b[A\u001b[A\u001b[A\n",
            "\n",
            "\n",
            " 18%|█▊        | 32/180 [00:11<00:30,  4.88it/s]\u001b[A\u001b[A\u001b[A\n",
            "\n",
            "\n",
            " 18%|█▊        | 33/180 [00:11<00:28,  5.20it/s]\u001b[A\u001b[A\u001b[A\n",
            "\n",
            "\n",
            " 19%|█▉        | 34/180 [00:11<00:27,  5.40it/s]\u001b[A\u001b[A\u001b[A\n",
            "\n",
            "\n",
            " 19%|█▉        | 35/180 [00:11<00:25,  5.76it/s]\u001b[A\u001b[A\u001b[A\n",
            "\n",
            "\n",
            " 20%|██        | 36/180 [00:11<00:24,  5.93it/s]\u001b[A\u001b[A\u001b[A\n",
            "\n",
            "\n",
            " 21%|██        | 37/180 [00:12<00:22,  6.46it/s]\u001b[A\u001b[A\u001b[A\n",
            "\n",
            "\n",
            " 21%|██        | 38/180 [00:12<00:20,  6.95it/s]\u001b[A\u001b[A\u001b[A\n",
            "\n",
            "\n",
            " 22%|██▏       | 40/180 [00:12<00:17,  7.85it/s]\u001b[A\u001b[A\u001b[A\n",
            "\n",
            "\n",
            " 23%|██▎       | 42/180 [00:12<00:15,  8.83it/s]\u001b[A\u001b[A\u001b[A\n",
            "\n",
            "\n",
            " 24%|██▍       | 44/180 [00:12<00:13, 10.08it/s]\u001b[A\u001b[A\u001b[A\n",
            "\n",
            "\n",
            " 26%|██▌       | 46/180 [00:12<00:11, 11.45it/s]\u001b[A\u001b[A\u001b[A\n",
            "\n",
            "\n",
            " 27%|██▋       | 48/180 [00:12<00:10, 12.73it/s]\u001b[A\u001b[A\u001b[A\n",
            "\n",
            "\n",
            " 28%|██▊       | 50/180 [00:12<00:09, 13.79it/s]\u001b[A\u001b[A\u001b[A\n",
            "\n",
            "\n",
            " 29%|██▉       | 52/180 [00:13<00:08, 14.68it/s]\u001b[A\u001b[A\u001b[A\n",
            "\n",
            "\n",
            " 30%|███       | 54/180 [00:13<00:08, 15.40it/s]\u001b[A\u001b[A\u001b[A\n",
            "\n",
            "\n",
            " 31%|███       | 56/180 [00:13<00:07, 15.67it/s]\u001b[A\u001b[A\u001b[A\n",
            "\n",
            "\n",
            " 32%|███▏      | 58/180 [00:13<00:07, 16.11it/s]\u001b[A\u001b[A\u001b[A\n",
            "\n",
            "\n",
            " 33%|███▎      | 60/180 [00:13<00:07, 16.51it/s]\u001b[A\u001b[A\u001b[A\n",
            "\n",
            "\n",
            " 34%|███▍      | 62/180 [00:13<00:07, 16.69it/s]\u001b[A\u001b[A\u001b[A\n",
            "\n",
            "\n",
            " 36%|███▌      | 64/180 [00:13<00:06, 16.85it/s]\u001b[A\u001b[A\u001b[A\n",
            "\n",
            "\n",
            " 37%|███▋      | 66/180 [00:13<00:06, 16.97it/s]\u001b[A\u001b[A\u001b[A\n",
            "\n",
            "\n",
            " 38%|███▊      | 68/180 [00:13<00:06, 16.95it/s]\u001b[A\u001b[A\u001b[A\n",
            "\n",
            "\n",
            " 39%|███▉      | 70/180 [00:14<00:06, 17.03it/s]\u001b[A\u001b[A\u001b[A\n",
            "\n",
            "\n",
            " 40%|████      | 72/180 [00:14<00:06, 16.80it/s]\u001b[A\u001b[A\u001b[A\n",
            "\n",
            "\n",
            " 41%|████      | 74/180 [00:14<00:06, 16.88it/s]\u001b[A\u001b[A\u001b[A\n",
            "\n",
            "\n",
            " 42%|████▏     | 76/180 [00:14<00:06, 16.99it/s]\u001b[A\u001b[A\u001b[A\n",
            "\n",
            "\n",
            " 43%|████▎     | 78/180 [00:14<00:05, 17.08it/s]\u001b[A\u001b[A\u001b[A\n",
            "\n",
            "\n",
            " 44%|████▍     | 80/180 [00:14<00:06, 16.54it/s]\u001b[A\u001b[A\u001b[A\n",
            "\n",
            "\n",
            " 46%|████▌     | 82/180 [00:14<00:06, 16.31it/s]\u001b[A\u001b[A\u001b[A\n",
            "\n",
            "\n",
            " 47%|████▋     | 84/180 [00:14<00:05, 16.52it/s]\u001b[A\u001b[A\u001b[A\n",
            "\n",
            "\n",
            " 48%|████▊     | 86/180 [00:15<00:05, 16.59it/s]\u001b[A\u001b[A\u001b[A\n",
            "\n",
            "\n",
            " 49%|████▉     | 88/180 [00:15<00:05, 16.48it/s]\u001b[A\u001b[A\u001b[A\n",
            "\n",
            "\n",
            " 50%|█████     | 90/180 [00:15<00:05, 16.74it/s]\u001b[A\u001b[A\u001b[A\n",
            "\n",
            "\n",
            " 51%|█████     | 92/180 [00:15<00:05, 16.43it/s]\u001b[A\u001b[A\u001b[A\n",
            "\n",
            "\n",
            " 52%|█████▏    | 94/180 [00:15<00:05, 16.58it/s]\u001b[A\u001b[A\u001b[A\n",
            "\n",
            "\n",
            " 53%|█████▎    | 96/180 [00:15<00:05, 16.54it/s]\u001b[A\u001b[A\u001b[A\n",
            "\n",
            "\n",
            " 54%|█████▍    | 98/180 [00:15<00:05, 16.31it/s]\u001b[A\u001b[A\u001b[A\n",
            "\n",
            "\n",
            " 56%|█████▌    | 100/180 [00:15<00:04, 16.14it/s]\u001b[A\u001b[A\u001b[A\n",
            "\n",
            "\n",
            " 57%|█████▋    | 102/180 [00:16<00:04, 16.40it/s]\u001b[A\u001b[A\u001b[A\n",
            "\n",
            "\n",
            " 58%|█████▊    | 104/180 [00:16<00:04, 16.44it/s]\u001b[A\u001b[A\u001b[A\n",
            "\n",
            "\n",
            " 59%|█████▉    | 106/180 [00:16<00:04, 16.08it/s]\u001b[A\u001b[A\u001b[A\n",
            "\n",
            "\n",
            " 60%|██████    | 108/180 [00:16<00:04, 16.11it/s]\u001b[A\u001b[A\u001b[A\n",
            "\n",
            "\n",
            " 61%|██████    | 110/180 [00:16<00:04, 16.40it/s]\u001b[A\u001b[A\u001b[A\n",
            "\n",
            "\n",
            " 62%|██████▏   | 112/180 [00:16<00:04, 16.22it/s]\u001b[A\u001b[A\u001b[A\n",
            "\n",
            "\n",
            " 63%|██████▎   | 114/180 [00:16<00:04, 16.26it/s]\u001b[A\u001b[A\u001b[A\n",
            "\n",
            "\n",
            " 64%|██████▍   | 116/180 [00:16<00:03, 16.21it/s]\u001b[A\u001b[A\u001b[A\n",
            "\n",
            "\n",
            " 66%|██████▌   | 118/180 [00:17<00:03, 16.22it/s]\u001b[A\u001b[A\u001b[A\n",
            "\n",
            "\n",
            " 67%|██████▋   | 120/180 [00:17<00:03, 16.30it/s]\u001b[A\u001b[A\u001b[A\n",
            "\n",
            "\n",
            " 68%|██████▊   | 122/180 [00:17<00:03, 16.34it/s]\u001b[A\u001b[A\u001b[A\n",
            "\n",
            "\n",
            " 69%|██████▉   | 124/180 [00:17<00:03, 15.96it/s]\u001b[A\u001b[A\u001b[A\n",
            "\n",
            "\n",
            " 70%|███████   | 126/180 [00:17<00:03, 16.13it/s]\u001b[A\u001b[A\u001b[A\n",
            "\n",
            "\n",
            " 71%|███████   | 128/180 [00:17<00:03, 16.45it/s]\u001b[A\u001b[A\u001b[A\n",
            "\n",
            "\n",
            " 72%|███████▏  | 130/180 [00:17<00:02, 16.69it/s]\u001b[A\u001b[A\u001b[A\n",
            "\n",
            "\n",
            " 73%|███████▎  | 132/180 [00:17<00:02, 16.88it/s]\u001b[A\u001b[A\u001b[A\n",
            "\n",
            "\n",
            " 74%|███████▍  | 134/180 [00:18<00:02, 16.70it/s]\u001b[A\u001b[A\u001b[A\n",
            "\n",
            "\n",
            " 76%|███████▌  | 136/180 [00:18<00:02, 16.78it/s]\u001b[A\u001b[A\u001b[A\n",
            "\n",
            "\n",
            " 77%|███████▋  | 138/180 [00:18<00:02, 16.93it/s]\u001b[A\u001b[A\u001b[A\n",
            "\n",
            "\n",
            " 78%|███████▊  | 140/180 [00:18<00:02, 16.72it/s]\u001b[A\u001b[A\u001b[A\n",
            "\n",
            "\n",
            " 79%|███████▉  | 142/180 [00:18<00:02, 16.75it/s]\u001b[A\u001b[A\u001b[A\n",
            "\n",
            "\n",
            " 80%|████████  | 144/180 [00:18<00:02, 16.59it/s]\u001b[A\u001b[A\u001b[A\n",
            "\n",
            "\n",
            " 81%|████████  | 146/180 [00:18<00:02, 16.53it/s]\u001b[A\u001b[A\u001b[A\n",
            "\n",
            "\n",
            " 82%|████████▏ | 148/180 [00:18<00:01, 16.29it/s]\u001b[A\u001b[A\u001b[A\n",
            "\n",
            "\n",
            " 83%|████████▎ | 150/180 [00:18<00:01, 16.25it/s]\u001b[A\u001b[A\u001b[A\n",
            "\n",
            "\n",
            " 84%|████████▍ | 152/180 [00:19<00:01, 16.27it/s]\u001b[A\u001b[A\u001b[A\n",
            "\n",
            "\n",
            " 86%|████████▌ | 154/180 [00:19<00:01, 16.14it/s]\u001b[A\u001b[A\u001b[A\n",
            "\n",
            "\n",
            " 87%|████████▋ | 156/180 [00:19<00:01, 16.10it/s]\u001b[A\u001b[A\u001b[A\n",
            "\n",
            "\n",
            " 88%|████████▊ | 158/180 [00:19<00:01, 16.39it/s]\u001b[A\u001b[A\u001b[A\n",
            "\n",
            "\n",
            " 89%|████████▉ | 160/180 [00:19<00:01, 15.98it/s]\u001b[A\u001b[A\u001b[A\n",
            "\n",
            "\n",
            " 90%|█████████ | 162/180 [00:19<00:01, 16.27it/s]\u001b[A\u001b[A\u001b[A\n",
            "\n",
            "\n",
            " 91%|█████████ | 164/180 [00:19<00:00, 16.29it/s]\u001b[A\u001b[A\u001b[A\n",
            "\n",
            "\n",
            " 92%|█████████▏| 166/180 [00:19<00:00, 16.24it/s]\u001b[A\u001b[A\u001b[A\n",
            "\n",
            "\n",
            " 93%|█████████▎| 168/180 [00:20<00:00, 16.36it/s]\u001b[A\u001b[A\u001b[A\n",
            "\n",
            "\n",
            " 94%|█████████▍| 170/180 [00:20<00:00, 16.12it/s]\u001b[A\u001b[A\u001b[A\n",
            "\n",
            "\n",
            " 96%|█████████▌| 172/180 [00:20<00:00, 15.93it/s]\u001b[A\u001b[A\u001b[A\n",
            "\n",
            "\n",
            " 97%|█████████▋| 174/180 [00:20<00:00, 14.80it/s]\u001b[A\u001b[A\u001b[A\n",
            "\n",
            "\n",
            " 98%|█████████▊| 176/180 [00:20<00:00, 15.39it/s]\u001b[A\u001b[A\u001b[A\n",
            "\n",
            "\n",
            " 99%|█████████▉| 178/180 [00:20<00:00, 15.92it/s]\u001b[A\u001b[A\u001b[A\n",
            "\n",
            "\n",
            "100%|██████████| 180/180 [00:20<00:00, 16.34it/s]\u001b[A\u001b[A\u001b[A\n",
            "\n",
            "\n",
            "\u001b[A\u001b[A\u001b[A"
          ],
          "name": "stderr"
        },
        {
          "output_type": "stream",
          "text": [
            "[0.8697007655868235, 0.8821402632654205, 0.8854472890762095, 0.8870146999904113, 0.8948252430858958, 12]\n",
            "[0.8887524754207043, 0.8953659449961926, 0.8948324872345711, 0.8985055508646816, 0.8917126954143653, 17]\n"
          ],
          "name": "stdout"
        },
        {
          "output_type": "display_data",
          "data": {
            "image/png": "[encoded data removed]",
            "text/plain": [
              "<Figure size 432x288 with 1 Axes>"
            ]
          },
          "metadata": {
            "tags": []
          }
        }
      ]
    },
    {
      "cell_type": "markdown",
      "metadata": {
        "id": "vL1ed4xNt7o-",
        "colab_type": "text"
      },
      "source": [
        "##Test by Changing Test Set 2"
      ]
    },
    {
      "cell_type": "code",
      "metadata": {
        "id": "mBIGcDS_naZr",
        "colab_type": "code",
        "colab": {
          "base_uri": "https://localhost:8080/",
          "height": 282
        },
        "outputId": "537c1963-d596-4539-f64e-a275c3414a3c"
      },
      "source": [
        "X = np.concatenate((X_train, X_test))\n",
        "Y = np.concatenate((Y_train, Y_test))\n",
        "train_indices = np.random.choice(X.shape[0], 300, replace=False)\n",
        "test_indices = np.array([x for x in range(X.shape[0]) if x not in train_indices])\n",
        "X_train_test = X[train_indices]\n",
        "X_test_test = X[test_indices]\n",
        "Y_train_test = Y[train_indices]\n",
        "Y_test_test = Y[test_indices]\n",
        "accuracy_list_test = []\n",
        "accuracy_lookuptb_test = {}\n",
        "for x in x_range:\n",
        "  accuracy_list_test.append(calAccuracyTest(x))\n",
        "  accuracy_lookuptb_test[x] = accuracy_list_test[-1]\n",
        "plt.plot(accuracy_list_test)\n",
        "plt.show()\n",
        "print(\"The max value locate at x = \", np.argmax(accuracy_list_test))"
      ],
      "execution_count": 120,
      "outputs": [
        {
          "output_type": "display_data",
          "data": {
            "image/png": "[encoded data removed]",
            "text/plain": [
              "<Figure size 432x288 with 1 Axes>"
            ]
          },
          "metadata": {
            "tags": []
          }
        },
        {
          "output_type": "stream",
          "text": [
            "The max value locate at x =  18\n"
          ],
          "name": "stdout"
        }
      ]
    },
    {
      "cell_type": "code",
      "metadata": {
        "id": "edH0Spbas1EK",
        "colab_type": "code",
        "colab": {
          "base_uri": "https://localhost:8080/",
          "height": 1000
        },
        "outputId": "b6b18f16-4377-4992-8c9b-e626027aab17"
      },
      "source": [
        "x = 140\n",
        "detection_test = detectTest(detect_range, x)\n",
        "cur_nor_state_test = scaler_state.transform([detection_test + [x]])[0]\n",
        "cur_state_test = scaler_state.inverse_transform([cur_nor_state_test])[0]\n",
        "\n",
        "init_state_test = cur_state_test\n",
        "init_nor_state_test = cur_nor_state_test\n",
        "prediction_test = []\n",
        "cur_state_test = init_state_test\n",
        "max_state_test = cur_state_test\n",
        "for step_ctr in tqdm(range(180)):\n",
        "  action_test = step_options[np.argmax(q_model.predict(cur_nor_state_test.reshape(1, 6)))]\n",
        "  while (action_test == 0):\n",
        "    action_test = np.random.choice(step_options)\n",
        "  next_state_test, reward_test = stepTest(cur_state_test, action_test)\n",
        "  print(action_test, reward_test, cur_state_test)\n",
        "  if reward_test > max_state_test[3]:\n",
        "    max_state_test = next_state_test\n",
        "  next_nor_state_test = scaler_state.transform([next_state_test])[0]\n",
        "  prediction_test.append(reward_test)\n",
        "  cur_state_test = next_state_test\n",
        "  cur_nor_state_test = next_nor_state_test\n",
        "plt.plot(prediction_test)\n",
        "print(\"Cur state: \", cur_state_test)\n",
        "print(\"Max state found: \", max_state_test)"
      ],
      "execution_count": 125,
      "outputs": [
        {
          "output_type": "stream",
          "text": [
            "\n",
            "\n",
            "\n",
            "  0%|          | 0/180 [00:00<?, ?it/s]\u001b[A\u001b[A\u001b[A\n",
            "\n",
            "\n",
            "  1%|          | 1/180 [00:00<01:39,  1.80it/s]\u001b[A\u001b[A\u001b[A"
          ],
          "name": "stderr"
        },
        {
          "output_type": "stream",
          "text": [
            "-3 0.6942896945072323 [  0.69428969   0.68903327   0.69356348   0.69548789   0.69413259\n",
            " 140.        ]\n"
          ],
          "name": "stdout"
        },
        {
          "output_type": "stream",
          "text": [
            "\n",
            "\n",
            "\n",
            "  1%|          | 2/180 [00:01<01:38,  1.81it/s]\u001b[A\u001b[A\u001b[A"
          ],
          "name": "stderr"
        },
        {
          "output_type": "stream",
          "text": [
            "-3 0.695431493656228 [0.695431493656228, 0.6956386895036014, 0.6942896945072323, 0.6895186163854903, 0.6935634846862173, 137]\n"
          ],
          "name": "stdout"
        },
        {
          "output_type": "stream",
          "text": [
            "\n",
            "\n",
            "\n",
            "  2%|▏         | 3/180 [00:01<01:38,  1.79it/s]\u001b[A\u001b[A\u001b[A"
          ],
          "name": "stderr"
        },
        {
          "output_type": "stream",
          "text": [
            "-3 0.7034841081960433 [0.7034841081960433, 0.6979620212475219, 0.695431493656228, 0.6965510927217579, 0.6942896945072323, 134]\n"
          ],
          "name": "stdout"
        },
        {
          "output_type": "stream",
          "text": [
            "\n",
            "\n",
            "\n",
            "  2%|▏         | 4/180 [00:02<01:36,  1.83it/s]\u001b[A\u001b[A\u001b[A"
          ],
          "name": "stderr"
        },
        {
          "output_type": "stream",
          "text": [
            "-3 0.70445669095068 [0.70445669095068, 0.7031602054508627, 0.7034841081960433, 0.7011365009304299, 0.695431493656228, 131]\n"
          ],
          "name": "stdout"
        },
        {
          "output_type": "stream",
          "text": [
            "\n",
            "\n",
            "\n",
            "  3%|▎         | 5/180 [00:02<01:33,  1.86it/s]\u001b[A\u001b[A\u001b[A"
          ],
          "name": "stderr"
        },
        {
          "output_type": "stream",
          "text": [
            "-3 0.7150231622344682 [0.7150231622344682, 0.7069490775316598, 0.70445669095068, 0.7045069685188279, 0.7034841081960433, 128]\n"
          ],
          "name": "stdout"
        },
        {
          "output_type": "stream",
          "text": [
            "\n",
            "\n",
            "\n",
            "  3%|▎         | 6/180 [00:03<01:31,  1.89it/s]\u001b[A\u001b[A\u001b[A"
          ],
          "name": "stderr"
        },
        {
          "output_type": "stream",
          "text": [
            "-3 0.7141717952743417 [0.7141717952743417, 0.7133162832146305, 0.7150231622344682, 0.7134483158963654, 0.70445669095068, 125]\n"
          ],
          "name": "stdout"
        },
        {
          "output_type": "stream",
          "text": [
            "\n",
            "\n",
            "\n",
            "  4%|▍         | 7/180 [00:03<01:29,  1.93it/s]\u001b[A\u001b[A\u001b[A"
          ],
          "name": "stderr"
        },
        {
          "output_type": "stream",
          "text": [
            "-3 0.7132445765242241 [0.7132445765242241, 0.7154765793591286, 0.7141717952743417, 0.7174564516876123, 0.7150231622344682, 122]\n"
          ],
          "name": "stdout"
        },
        {
          "output_type": "stream",
          "text": [
            "\n",
            "\n",
            "\n",
            "  4%|▍         | 8/180 [00:04<01:27,  1.97it/s]\u001b[A\u001b[A\u001b[A"
          ],
          "name": "stderr"
        },
        {
          "output_type": "stream",
          "text": [
            "-3 0.7242204373763624 [0.7242204373763624, 0.719783480388792, 0.7132445765242241, 0.7143234791436854, 0.7141717952743417, 119]\n"
          ],
          "name": "stdout"
        },
        {
          "output_type": "stream",
          "text": [
            "\n",
            "\n",
            "\n",
            "  5%|▌         | 9/180 [00:04<01:26,  1.98it/s]\u001b[A\u001b[A\u001b[A"
          ],
          "name": "stderr"
        },
        {
          "output_type": "stream",
          "text": [
            "-3 0.7323487325917541 [0.7323487325917541, 0.7270963075588184, 0.7242204373763624, 0.7201895218946164, 0.7132445765242241, 116]\n"
          ],
          "name": "stdout"
        },
        {
          "output_type": "stream",
          "text": [
            "\n",
            "\n",
            "\n",
            "  6%|▌         | 10/180 [00:05<01:23,  2.04it/s]\u001b[A\u001b[A\u001b[A"
          ],
          "name": "stderr"
        },
        {
          "output_type": "stream",
          "text": [
            "-3 0.744458861756093 [0.744458861756093, 0.7380744306919113, 0.7323487325917541, 0.729291801253611, 0.7242204373763624, 113]\n"
          ],
          "name": "stdout"
        },
        {
          "output_type": "stream",
          "text": [
            "\n",
            "\n",
            "\n",
            "  6%|▌         | 11/180 [00:05<01:19,  2.12it/s]\u001b[A\u001b[A\u001b[A"
          ],
          "name": "stderr"
        },
        {
          "output_type": "stream",
          "text": [
            "-3 0.7606234236966962 [0.7606234236966962, 0.7462143949897486, 0.744458861756093, 0.7405691187688175, 0.7323487325917541, 110]\n"
          ],
          "name": "stdout"
        },
        {
          "output_type": "stream",
          "text": [
            "\n",
            "\n",
            "\n",
            "  7%|▋         | 12/180 [00:06<01:16,  2.18it/s]\u001b[A\u001b[A\u001b[A"
          ],
          "name": "stderr"
        },
        {
          "output_type": "stream",
          "text": [
            "-3 0.7748001130874269 [0.7748001130874269, 0.7673986811781881, 0.7606234236966962, 0.7528771108510863, 0.744458861756093, 107]\n"
          ],
          "name": "stdout"
        },
        {
          "output_type": "stream",
          "text": [
            "\n",
            "\n",
            "\n",
            "  7%|▋         | 13/180 [00:06<01:13,  2.26it/s]\u001b[A\u001b[A\u001b[A"
          ],
          "name": "stderr"
        },
        {
          "output_type": "stream",
          "text": [
            "-3 0.785406108061944 [0.785406108061944, 0.7820574265593723, 0.7748001130874269, 0.7700812951066597, 0.7606234236966962, 104]\n"
          ],
          "name": "stdout"
        },
        {
          "output_type": "stream",
          "text": [
            "\n",
            "\n",
            "\n",
            "  8%|▊         | 14/180 [00:06<01:10,  2.34it/s]\u001b[A\u001b[A\u001b[A"
          ],
          "name": "stderr"
        },
        {
          "output_type": "stream",
          "text": [
            "-3 0.7863903545386065 [0.7863903545386065, 0.7830449053806685, 0.785406108061944, 0.7816775690115046, 0.7748001130874269, 101]\n"
          ],
          "name": "stdout"
        },
        {
          "output_type": "stream",
          "text": [
            "\n",
            "\n",
            "\n",
            "  8%|▊         | 15/180 [00:07<01:08,  2.40it/s]\u001b[A\u001b[A\u001b[A"
          ],
          "name": "stderr"
        },
        {
          "output_type": "stream",
          "text": [
            "-3 0.7902988933064132 [0.7902988933064132, 0.788639435172178, 0.7863903545386065, 0.7844721699604416, 0.785406108061944, 98]\n"
          ],
          "name": "stdout"
        },
        {
          "output_type": "stream",
          "text": [
            "\n",
            "\n",
            "\n",
            "  9%|▉         | 16/180 [00:07<01:06,  2.47it/s]\u001b[A\u001b[A\u001b[A"
          ],
          "name": "stderr"
        },
        {
          "output_type": "stream",
          "text": [
            "-3 0.7934191020155332 [0.7934191020155332, 0.7888841983118777, 0.7902988933064132, 0.7901444937366745, 0.7863903545386065, 95]\n"
          ],
          "name": "stdout"
        },
        {
          "output_type": "stream",
          "text": [
            "\n",
            "\n",
            "\n",
            "  9%|▉         | 17/180 [00:07<01:04,  2.52it/s]\u001b[A\u001b[A\u001b[A"
          ],
          "name": "stderr"
        },
        {
          "output_type": "stream",
          "text": [
            "-3 0.8026824685810284 [0.8026824685810284, 0.7991880709215972, 0.7934191020155332, 0.7880479018670707, 0.7902988933064132, 92]\n"
          ],
          "name": "stdout"
        },
        {
          "output_type": "stream",
          "text": [
            "\n",
            "\n",
            "\n",
            " 10%|█         | 18/180 [00:08<01:02,  2.59it/s]\u001b[A\u001b[A\u001b[A"
          ],
          "name": "stderr"
        },
        {
          "output_type": "stream",
          "text": [
            "-3 0.7963479562180849 [0.7963479562180849, 0.8021010418819375, 0.8026824685810284, 0.8028137504477216, 0.7934191020155332, 89]\n"
          ],
          "name": "stdout"
        },
        {
          "output_type": "stream",
          "text": [
            "\n",
            "\n",
            "\n",
            " 11%|█         | 19/180 [00:08<01:00,  2.64it/s]\u001b[A\u001b[A\u001b[A"
          ],
          "name": "stderr"
        },
        {
          "output_type": "stream",
          "text": [
            "-3 0.7869630889792236 [0.7869630889792236, 0.7973376350452095, 0.7963479562180849, 0.7998891987039966, 0.8026824685810284, 86]\n"
          ],
          "name": "stdout"
        },
        {
          "output_type": "stream",
          "text": [
            "\n",
            "\n",
            "\n",
            " 11%|█         | 20/180 [00:09<00:59,  2.68it/s]\u001b[A\u001b[A\u001b[A"
          ],
          "name": "stderr"
        },
        {
          "output_type": "stream",
          "text": [
            "-3 0.7889899563349478 [0.7889899563349478, 0.7843925975322125, 0.7869630889792236, 0.7959248529713212, 0.7963479562180849, 83]\n"
          ],
          "name": "stdout"
        },
        {
          "output_type": "stream",
          "text": [
            "\n",
            "\n",
            "\n",
            " 12%|█▏        | 21/180 [00:09<00:56,  2.79it/s]\u001b[A\u001b[A\u001b[A"
          ],
          "name": "stderr"
        },
        {
          "output_type": "stream",
          "text": [
            "-3 0.7915483361257466 [0.7915483361257466, 0.7872235838624702, 0.7889899563349478, 0.7868785828941706, 0.7869630889792236, 80]\n"
          ],
          "name": "stdout"
        },
        {
          "output_type": "stream",
          "text": [
            "\n",
            "\n",
            "\n",
            " 12%|█▏        | 22/180 [00:09<00:54,  2.92it/s]\u001b[A\u001b[A\u001b[A"
          ],
          "name": "stderr"
        },
        {
          "output_type": "stream",
          "text": [
            "-3 0.79862917310629 [0.79862917310629, 0.7894609723960234, 0.7915483361257466, 0.7876870504422392, 0.7889899563349478, 77]\n"
          ],
          "name": "stdout"
        },
        {
          "output_type": "stream",
          "text": [
            "\n",
            "\n",
            "\n",
            " 13%|█▎        | 23/180 [00:09<00:52,  3.00it/s]\u001b[A\u001b[A\u001b[A"
          ],
          "name": "stderr"
        },
        {
          "output_type": "stream",
          "text": [
            "-3 0.8027594278054565 [0.8027594278054565, 0.8046395999547677, 0.79862917310629, 0.7938817891969114, 0.7915483361257466, 74]\n"
          ],
          "name": "stdout"
        },
        {
          "output_type": "stream",
          "text": [
            "\n",
            "\n",
            "\n",
            " 13%|█▎        | 24/180 [00:10<00:50,  3.11it/s]\u001b[A\u001b[A\u001b[A"
          ],
          "name": "stderr"
        },
        {
          "output_type": "stream",
          "text": [
            "-3 0.820599592059273 [0.820599592059273, 0.8099807613164604, 0.8027594278054565, 0.8045617603885822, 0.79862917310629, 71]\n"
          ],
          "name": "stdout"
        },
        {
          "output_type": "stream",
          "text": [
            "\n",
            "\n",
            "\n",
            " 14%|█▍        | 25/180 [00:10<00:48,  3.22it/s]\u001b[A\u001b[A\u001b[A"
          ],
          "name": "stderr"
        },
        {
          "output_type": "stream",
          "text": [
            "-3 0.8306259668503083 [0.8306259668503083, 0.8257685198438618, 0.820599592059273, 0.8175310428413243, 0.8027594278054565, 68]\n"
          ],
          "name": "stdout"
        },
        {
          "output_type": "stream",
          "text": [
            "\n",
            "\n",
            "\n",
            " 14%|█▍        | 26/180 [00:10<00:45,  3.38it/s]\u001b[A\u001b[A\u001b[A"
          ],
          "name": "stderr"
        },
        {
          "output_type": "stream",
          "text": [
            "-3 0.8337465533275992 [0.8337465533275992, 0.8279232099589283, 0.8306259668503083, 0.8263627143730854, 0.820599592059273, 65]\n"
          ],
          "name": "stdout"
        },
        {
          "output_type": "stream",
          "text": [
            "\n",
            "\n",
            "\n",
            " 15%|█▌        | 27/180 [00:11<00:43,  3.49it/s]\u001b[A\u001b[A\u001b[A"
          ],
          "name": "stderr"
        },
        {
          "output_type": "stream",
          "text": [
            "-3 0.8431168476357755 [0.8431168476357755, 0.836298471487999, 0.8337465533275992, 0.8300846222391873, 0.8306259668503083, 62]\n"
          ],
          "name": "stdout"
        },
        {
          "output_type": "stream",
          "text": [
            "\n",
            "\n",
            "\n",
            " 16%|█▌        | 28/180 [00:11<00:42,  3.61it/s]\u001b[A\u001b[A\u001b[A"
          ],
          "name": "stderr"
        },
        {
          "output_type": "stream",
          "text": [
            "-3 0.8480951470018314 [0.8480951470018314, 0.8455357434404968, 0.8431168476357755, 0.8400785479504597, 0.8337465533275992, 59]\n"
          ],
          "name": "stdout"
        },
        {
          "output_type": "stream",
          "text": [
            "\n",
            "\n",
            "\n",
            " 16%|█▌        | 29/180 [00:11<00:40,  3.76it/s]\u001b[A\u001b[A\u001b[A"
          ],
          "name": "stderr"
        },
        {
          "output_type": "stream",
          "text": [
            "-3 0.8499730319234378 [0.8499730319234378, 0.8518810820112169, 0.8480951470018314, 0.8458794390150879, 0.8431168476357755, 56]\n"
          ],
          "name": "stdout"
        },
        {
          "output_type": "stream",
          "text": [
            "\n",
            "\n",
            "\n",
            " 17%|█▋        | 30/180 [00:11<00:38,  3.91it/s]\u001b[A\u001b[A\u001b[A"
          ],
          "name": "stderr"
        },
        {
          "output_type": "stream",
          "text": [
            "-3 0.8497166783055884 [0.8497166783055884, 0.8498719504634371, 0.8499730319234378, 0.8515691021564418, 0.8480951470018314, 53]\n"
          ],
          "name": "stdout"
        },
        {
          "output_type": "stream",
          "text": [
            "\n",
            "\n",
            "\n",
            " 17%|█▋        | 31/180 [00:12<00:36,  4.09it/s]\u001b[A\u001b[A\u001b[A\n",
            "\n",
            "\n"
          ],
          "name": "stderr"
        },
        {
          "output_type": "stream",
          "text": [
            "-3 0.8582895989763003 [0.8582895989763003, 0.8532880365047426, 0.8497166783055884, 0.8443484485217579, 0.8499730319234378, 50]\n",
            "-3 0.8713638998197084 [0.8713638998197084, 0.8630523292287651, 0.8582895989763003, 0.8568480712155799, 0.8497166783055884, 47]\n"
          ],
          "name": "stdout"
        },
        {
          "output_type": "stream",
          "text": [
            "\r 18%|█▊        | 32/180 [00:12<00:34,  4.34it/s]\u001b[A\u001b[A\u001b[A\n",
            "\n",
            "\n",
            " 18%|█▊        | 33/180 [00:12<00:32,  4.51it/s]\u001b[A\u001b[A\u001b[A\n",
            "\n",
            "\n",
            " 19%|█▉        | 34/180 [00:12<00:30,  4.85it/s]\u001b[A\u001b[A\u001b[A"
          ],
          "name": "stderr"
        },
        {
          "output_type": "stream",
          "text": [
            "-3 0.8666288396020996 [0.8666288396020996, 0.868983561732904, 0.8713638998197084, 0.8648104243168486, 0.8582895989763003, 44]\n",
            "-3 0.8763513153949638 [0.8763513153949638, 0.8734756687902324, 0.8666288396020996, 0.8681651763699406, 0.8713638998197084, 41]\n"
          ],
          "name": "stdout"
        },
        {
          "output_type": "stream",
          "text": [
            "\n",
            "\n",
            "\n",
            " 19%|█▉        | 35/180 [00:12<00:28,  5.11it/s]\u001b[A\u001b[A\u001b[A\n",
            "\n",
            "\n",
            " 20%|██        | 36/180 [00:12<00:26,  5.38it/s]\u001b[A\u001b[A\u001b[A"
          ],
          "name": "stderr"
        },
        {
          "output_type": "stream",
          "text": [
            "-3 0.8748694312612431 [0.8748694312612431, 0.8777575816906972, 0.8763513153949638, 0.8755288052507463, 0.8666288396020996, 38]\n",
            "-3 0.8823927883332267 [0.8823927883332267, 0.877974422487833, 0.8748694312612431, 0.8768653750563724, 0.8763513153949638, 35]\n"
          ],
          "name": "stdout"
        },
        {
          "output_type": "stream",
          "text": [
            "\n",
            "\n",
            "\n",
            " 21%|██        | 37/180 [00:13<00:25,  5.72it/s]\u001b[A\u001b[A\u001b[A\n",
            "\n",
            "\n",
            " 21%|██        | 38/180 [00:13<00:22,  6.23it/s]\u001b[A\u001b[A\u001b[A"
          ],
          "name": "stderr"
        },
        {
          "output_type": "stream",
          "text": [
            "-3 0.8813221669227073 [0.8813221669227073, 0.884149417181618, 0.8823927883332267, 0.8794247563309687, 0.8748694312612431, 32]\n",
            "-3 0.8898003279483134 [0.8898003279483134, 0.8803904986142209, 0.8813221669227073, 0.8828568411103035, 0.8823927883332267, 29]\n"
          ],
          "name": "stdout"
        },
        {
          "output_type": "stream",
          "text": [
            "\n",
            "\n",
            "\n",
            " 22%|██▏       | 39/180 [00:13<00:21,  6.71it/s]\u001b[A\u001b[A\u001b[A\n",
            "\n",
            "\n",
            " 22%|██▏       | 40/180 [00:13<00:19,  7.34it/s]\u001b[A\u001b[A\u001b[A"
          ],
          "name": "stderr"
        },
        {
          "output_type": "stream",
          "text": [
            "-3 0.8963221005414188 [0.8963221005414188, 0.8920574167310127, 0.8898003279483134, 0.8866806302304435, 0.8813221669227073, 26]\n",
            "-3 0.9002649158478 [0.9002649158478, 0.8974783671356055, 0.8963221005414188, 0.8921605455496697, 0.8898003279483134, 23]\n",
            "-3 0.8980057230274456 [0.8980057230274456, 0.9009172813885657, 0.9002649158478, 0.8996377796368077, 0.8963221005414188, 20]\n"
          ],
          "name": "stdout"
        },
        {
          "output_type": "stream",
          "text": [
            "\n",
            "\n",
            "\n",
            " 23%|██▎       | 42/180 [00:13<00:16,  8.33it/s]\u001b[A\u001b[A\u001b[A\n",
            "\n",
            "\n",
            " 24%|██▍       | 44/180 [00:13<00:14,  9.46it/s]\u001b[A\u001b[A\u001b[A"
          ],
          "name": "stderr"
        },
        {
          "output_type": "stream",
          "text": [
            "-1 0.8941381383226171 [0.9002634168666237, 0.8941381383226171, 0.8980057230274456, 0.8995719398415669, 0.9002649158478, 17]\n",
            "-1 0.8977380898326774 [0.8913961100688778, 0.8977380898326774, 0.8941381383226171, 0.8980057230274456, 0.9009172813885657, 16]\n",
            "-1 0.9002634168666237 [0.8910802865688103, 0.9002634168666237, 0.8977380898326774, 0.8941381383226171, 0.8995719398415669, 15]\n"
          ],
          "name": "stdout"
        },
        {
          "output_type": "stream",
          "text": [
            "\n",
            "\n",
            "\n",
            " 26%|██▌       | 46/180 [00:13<00:12, 10.49it/s]\u001b[A\u001b[A\u001b[A\n",
            "\n",
            "\n"
          ],
          "name": "stderr"
        },
        {
          "output_type": "stream",
          "text": [
            "-1 0.8913961100688778 [0.8886720499310186, 0.8913961100688778, 0.9002634168666237, 0.8977380898326774, 0.8980057230274456, 14]\n",
            "-1 0.8910802865688103 [0.8757967866700117, 0.8910802865688103, 0.8913961100688778, 0.9002634168666237, 0.8941381383226171, 13]\n",
            "1 0.8913961100688778 [0.8612259170334173, 0.8886720499310186, 0.8910802865688103, 0.8913961100688778, 0.8977380898326774, 12]\n",
            "-1 0.8910802865688103 [0.8757967866700117, 0.8910802865688103, 0.8913961100688778, 0.9002634168666237, 0.8941381383226171, 13]\n"
          ],
          "name": "stdout"
        },
        {
          "output_type": "stream",
          "text": [
            "\r 27%|██▋       | 48/180 [00:14<00:11, 11.47it/s]\u001b[A\u001b[A\u001b[A\n",
            "\n",
            "\n",
            " 28%|██▊       | 50/180 [00:14<00:10, 12.26it/s]\u001b[A\u001b[A\u001b[A"
          ],
          "name": "stderr"
        },
        {
          "output_type": "stream",
          "text": [
            "1 0.8913961100688778 [0.8612259170334173, 0.8886720499310186, 0.8910802865688103, 0.8913961100688778, 0.8977380898326774, 12]\n",
            "-1 0.8910802865688103 [0.8757967866700117, 0.8910802865688103, 0.8913961100688778, 0.9002634168666237, 0.8941381383226171, 13]\n",
            "1 0.8913961100688778 [0.8612259170334173, 0.8886720499310186, 0.8910802865688103, 0.8913961100688778, 0.8977380898326774, 12]\n"
          ],
          "name": "stdout"
        },
        {
          "output_type": "stream",
          "text": [
            "\n",
            "\n",
            "\n",
            " 29%|██▉       | 52/180 [00:14<00:10, 12.48it/s]\u001b[A\u001b[A\u001b[A\n",
            "\n",
            "\n",
            " 30%|███       | 54/180 [00:14<00:09, 13.16it/s]\u001b[A\u001b[A\u001b[A"
          ],
          "name": "stderr"
        },
        {
          "output_type": "stream",
          "text": [
            "-1 0.8910802865688103 [0.8757967866700117, 0.8910802865688103, 0.8913961100688778, 0.9002634168666237, 0.8941381383226171, 13]\n",
            "1 0.8913961100688778 [0.8612259170334173, 0.8886720499310186, 0.8910802865688103, 0.8913961100688778, 0.8977380898326774, 12]\n",
            "-1 0.8910802865688103 [0.8757967866700117, 0.8910802865688103, 0.8913961100688778, 0.9002634168666237, 0.8941381383226171, 13]\n"
          ],
          "name": "stdout"
        },
        {
          "output_type": "stream",
          "text": [
            "\n",
            "\n",
            "\n",
            " 31%|███       | 56/180 [00:14<00:09, 13.13it/s]\u001b[A\u001b[A\u001b[A"
          ],
          "name": "stderr"
        },
        {
          "output_type": "stream",
          "text": [
            "1 0.8913961100688778 [0.8612259170334173, 0.8886720499310186, 0.8910802865688103, 0.8913961100688778, 0.8977380898326774, 12]\n",
            "-1 0.8910802865688103 [0.8757967866700117, 0.8910802865688103, 0.8913961100688778, 0.9002634168666237, 0.8941381383226171, 13]\n",
            "1 0.8913961100688778 [0.8612259170334173, 0.8886720499310186, 0.8910802865688103, 0.8913961100688778, 0.8977380898326774, 12]\n",
            "-1 0.8910802865688103 "
          ],
          "name": "stdout"
        },
        {
          "output_type": "stream",
          "text": [
            "\n",
            "\n",
            "\n",
            " 32%|███▏      | 58/180 [00:14<00:09, 13.48it/s]\u001b[A\u001b[A\u001b[A\n",
            "\n",
            "\n",
            " 33%|███▎      | 60/180 [00:14<00:09, 12.95it/s]\u001b[A\u001b[A\u001b[A"
          ],
          "name": "stderr"
        },
        {
          "output_type": "stream",
          "text": [
            "[0.8757967866700117, 0.8910802865688103, 0.8913961100688778, 0.9002634168666237, 0.8941381383226171, 13]\n",
            "1 0.8913961100688778 [0.8612259170334173, 0.8886720499310186, 0.8910802865688103, 0.8913961100688778, 0.8977380898326774, 12]\n",
            "-1 0.8910802865688103 [0.8757967866700117, 0.8910802865688103, 0.8913961100688778, 0.9002634168666237, 0.8941381383226171, 13]\n"
          ],
          "name": "stdout"
        },
        {
          "output_type": "stream",
          "text": [
            "\n",
            "\n",
            "\n",
            " 34%|███▍      | 62/180 [00:15<00:08, 13.31it/s]\u001b[A\u001b[A\u001b[A"
          ],
          "name": "stderr"
        },
        {
          "output_type": "stream",
          "text": [
            "1 0.8913961100688778 [0.8612259170334173, 0.8886720499310186, 0.8910802865688103, 0.8913961100688778, 0.8977380898326774, 12]\n",
            "-1 0.8910802865688103 [0.8757967866700117, 0.8910802865688103, 0.8913961100688778, 0.9002634168666237, 0.8941381383226171, 13]\n",
            "1 0.8913961100688778 [0.8612259170334173, 0.8886720499310186, 0.8910802865688103, 0.8913961100688778, 0.8977380898326774, 12]\n"
          ],
          "name": "stdout"
        },
        {
          "output_type": "stream",
          "text": [
            "\n",
            "\n",
            "\n",
            " 36%|███▌      | 64/180 [00:15<00:08, 13.50it/s]\u001b[A\u001b[A\u001b[A\n",
            "\n",
            "\n",
            " 37%|███▋      | 66/180 [00:15<00:08, 13.67it/s]\u001b[A\u001b[A\u001b[A"
          ],
          "name": "stderr"
        },
        {
          "output_type": "stream",
          "text": [
            "-1 0.8910802865688103 [0.8757967866700117, 0.8910802865688103, 0.8913961100688778, 0.9002634168666237, 0.8941381383226171, 13]\n",
            "1 0.8913961100688778 [0.8612259170334173, 0.8886720499310186, 0.8910802865688103, 0.8913961100688778, 0.8977380898326774, 12]\n",
            "-1 0.8910802865688103 [0.8757967866700117, 0.8910802865688103, 0.8913961100688778, 0.9002634168666237, 0.8941381383226171, 13]\n"
          ],
          "name": "stdout"
        },
        {
          "output_type": "stream",
          "text": [
            "\n",
            "\n",
            "\n",
            " 38%|███▊      | 68/180 [00:15<00:08, 13.57it/s]\u001b[A\u001b[A\u001b[A\n",
            "\n",
            "\n"
          ],
          "name": "stderr"
        },
        {
          "output_type": "stream",
          "text": [
            "1 0.8913961100688778 [0.8612259170334173, 0.8886720499310186, 0.8910802865688103, 0.8913961100688778, 0.8977380898326774, 12]\n",
            "-1 0.8910802865688103 [0.8757967866700117, 0.8910802865688103, 0.8913961100688778, 0.9002634168666237, 0.8941381383226171, 13]\n",
            "1 0.8913961100688778 [0.8612259170334173, 0.8886720499310186, 0.8910802865688103, 0.8913961100688778, 0.8977380898326774, 12]\n",
            "-1 0.8910802865688103 [0.8757967866700117, 0.8910802865688103, 0.8913961100688778, 0.9002634168666237, 0.8941381383226171, 13]\n"
          ],
          "name": "stdout"
        },
        {
          "output_type": "stream",
          "text": [
            "\r 39%|███▉      | 70/180 [00:15<00:07, 14.00it/s]\u001b[A\u001b[A\u001b[A\n",
            "\n",
            "\n",
            " 40%|████      | 72/180 [00:15<00:07, 14.17it/s]\u001b[A\u001b[A\u001b[A"
          ],
          "name": "stderr"
        },
        {
          "output_type": "stream",
          "text": [
            "1 0.8913961100688778 [0.8612259170334173, 0.8886720499310186, 0.8910802865688103, 0.8913961100688778, 0.8977380898326774, 12]\n",
            "-1 0.8910802865688103 [0.8757967866700117, 0.8910802865688103, 0.8913961100688778, 0.9002634168666237, 0.8941381383226171, 13]\n",
            "1 0.8913961100688778 [0.8612259170334173, 0.8886720499310186, 0.8910802865688103, 0.8913961100688778, 0.8977380898326774, 12]\n"
          ],
          "name": "stdout"
        },
        {
          "output_type": "stream",
          "text": [
            "\n",
            "\n",
            "\n",
            " 41%|████      | 74/180 [00:15<00:07, 13.83it/s]\u001b[A\u001b[A\u001b[A\n",
            "\n",
            "\n",
            " 42%|████▏     | 76/180 [00:16<00:07, 13.52it/s]\u001b[A\u001b[A\u001b[A"
          ],
          "name": "stderr"
        },
        {
          "output_type": "stream",
          "text": [
            "-1 0.8910802865688103 [0.8757967866700117, 0.8910802865688103, 0.8913961100688778, 0.9002634168666237, 0.8941381383226171, 13]\n",
            "1 0.8913961100688778 [0.8612259170334173, 0.8886720499310186, 0.8910802865688103, 0.8913961100688778, 0.8977380898326774, 12]\n",
            "-1 0.8910802865688103 [0.8757967866700117, 0.8910802865688103, 0.8913961100688778, 0.9002634168666237, 0.8941381383226171, 13]\n"
          ],
          "name": "stdout"
        },
        {
          "output_type": "stream",
          "text": [
            "\n",
            "\n",
            "\n",
            " 43%|████▎     | 78/180 [00:16<00:07, 13.81it/s]\u001b[A\u001b[A\u001b[A\n",
            "\n",
            "\n",
            " 44%|████▍     | 80/180 [00:16<00:07, 14.22it/s]\u001b[A\u001b[A\u001b[A"
          ],
          "name": "stderr"
        },
        {
          "output_type": "stream",
          "text": [
            "1 0.8913961100688778 [0.8612259170334173, 0.8886720499310186, 0.8910802865688103, 0.8913961100688778, 0.8977380898326774, 12]\n",
            "-1 0.8910802865688103 [0.8757967866700117, 0.8910802865688103, 0.8913961100688778, 0.9002634168666237, 0.8941381383226171, 13]\n",
            "1 0.8913961100688778 [0.8612259170334173, 0.8886720499310186, 0.8910802865688103, 0.8913961100688778, 0.8977380898326774, 12]\n",
            "-1 0.8910802865688103 [0.8757967866700117, 0.8910802865688103, 0.8913961100688778, 0.9002634168666237, 0.8941381383226171, 13]\n"
          ],
          "name": "stdout"
        },
        {
          "output_type": "stream",
          "text": [
            "\n",
            "\n",
            "\n",
            " 46%|████▌     | 82/180 [00:16<00:06, 14.52it/s]\u001b[A\u001b[A\u001b[A\n",
            "\n",
            "\n"
          ],
          "name": "stderr"
        },
        {
          "output_type": "stream",
          "text": [
            "1 0.8913961100688778 [0.8612259170334173, 0.8886720499310186, 0.8910802865688103, 0.8913961100688778, 0.8977380898326774, 12]\n",
            "-1 0.8910802865688103 [0.8757967866700117, 0.8910802865688103, 0.8913961100688778, 0.9002634168666237, 0.8941381383226171, 13]\n",
            "1 0.8913961100688778 [0.8612259170334173, 0.8886720499310186, 0.8910802865688103, 0.8913961100688778, 0.8977380898326774, 12]\n",
            "-1 0.8910802865688103 [0.8757967866700117, 0.8910802865688103, 0.8913961100688778, 0.9002634168666237, 0.8941381383226171, 13]\n"
          ],
          "name": "stdout"
        },
        {
          "output_type": "stream",
          "text": [
            "\r 47%|████▋     | 84/180 [00:16<00:06, 14.48it/s]\u001b[A\u001b[A\u001b[A\n",
            "\n",
            "\n",
            " 48%|████▊     | 86/180 [00:16<00:06, 14.48it/s]\u001b[A\u001b[A\u001b[A\n",
            "\n",
            "\n",
            " 49%|████▉     | 88/180 [00:16<00:06, 14.63it/s]\u001b[A\u001b[A\u001b[A"
          ],
          "name": "stderr"
        },
        {
          "output_type": "stream",
          "text": [
            "1 0.8913961100688778 [0.8612259170334173, 0.8886720499310186, 0.8910802865688103, 0.8913961100688778, 0.8977380898326774, 12]\n",
            "-1 0.8910802865688103 [0.8757967866700117, 0.8910802865688103, 0.8913961100688778, 0.9002634168666237, 0.8941381383226171, 13]\n",
            "1 0.8913961100688778 [0.8612259170334173, 0.8886720499310186, 0.8910802865688103, 0.8913961100688778, 0.8977380898326774, 12]\n",
            "-1 0.8910802865688103 [0.8757967866700117, 0.8910802865688103, 0.8913961100688778, 0.9002634168666237, 0.8941381383226171, 13]\n"
          ],
          "name": "stdout"
        },
        {
          "output_type": "stream",
          "text": [
            "\n",
            "\n",
            "\n",
            " 50%|█████     | 90/180 [00:17<00:06, 14.64it/s]\u001b[A\u001b[A\u001b[A\n",
            "\n",
            "\n",
            " 51%|█████     | 92/180 [00:17<00:05, 14.76it/s]"
          ],
          "name": "stderr"
        },
        {
          "output_type": "stream",
          "text": [
            "1 0.8913961100688778 [0.8612259170334173, 0.8886720499310186, 0.8910802865688103, 0.8913961100688778, 0.8977380898326774, 12]\n",
            "-1 0.8910802865688103 [0.8757967866700117, 0.8910802865688103, 0.8913961100688778, 0.9002634168666237, 0.8941381383226171, 13]\n",
            "1 0.8913961100688778 [0.8612259170334173, 0.8886720499310186, 0.8910802865688103, 0.8913961100688778, 0.8977380898326774, 12]\n",
            "-1 0.8910802865688103 [0.8757967866700117, 0.8910802865688103, 0.8913961100688778, 0.9002634168666237, 0.8941381383226171, 13]\n"
          ],
          "name": "stdout"
        },
        {
          "output_type": "stream",
          "text": [
            "\u001b[A\u001b[A\u001b[A\n",
            "\n",
            "\n",
            " 52%|█████▏    | 94/180 [00:17<00:05, 14.68it/s]\u001b[A\u001b[A\u001b[A"
          ],
          "name": "stderr"
        },
        {
          "output_type": "stream",
          "text": [
            "1 0.8913961100688778 [0.8612259170334173, 0.8886720499310186, 0.8910802865688103, 0.8913961100688778, 0.8977380898326774, 12]\n",
            "-1 0.8910802865688103 [0.8757967866700117, 0.8910802865688103, 0.8913961100688778, 0.9002634168666237, 0.8941381383226171, 13]\n",
            "1 0.8913961100688778 [0.8612259170334173, 0.8886720499310186, 0.8910802865688103, 0.8913961100688778, 0.8977380898326774, 12]\n"
          ],
          "name": "stdout"
        },
        {
          "output_type": "stream",
          "text": [
            "\n",
            "\n",
            "\n",
            " 53%|█████▎    | 96/180 [00:17<00:06, 13.80it/s]\u001b[A\u001b[A\u001b[A\n",
            "\n",
            "\n",
            " 54%|█████▍    | 98/180 [00:17<00:05, 14.08it/s]\u001b[A\u001b[A\u001b[A"
          ],
          "name": "stderr"
        },
        {
          "output_type": "stream",
          "text": [
            "-1 0.8910802865688103 [0.8757967866700117, 0.8910802865688103, 0.8913961100688778, 0.9002634168666237, 0.8941381383226171, 13]\n",
            "1 0.8913961100688778 [0.8612259170334173, 0.8886720499310186, 0.8910802865688103, 0.8913961100688778, 0.8977380898326774, 12]\n",
            "-1 0.8910802865688103 [0.8757967866700117, 0.8910802865688103, 0.8913961100688778, 0.9002634168666237, 0.8941381383226171, 13]\n"
          ],
          "name": "stdout"
        },
        {
          "output_type": "stream",
          "text": [
            "\n",
            "\n",
            "\n",
            " 56%|█████▌    | 100/180 [00:17<00:05, 14.20it/s]\u001b[A\u001b[A\u001b[A\n",
            "\n",
            "\n",
            " 57%|█████▋    | 102/180 [00:17<00:05, 14.40it/s]"
          ],
          "name": "stderr"
        },
        {
          "output_type": "stream",
          "text": [
            "1 0.8913961100688778 [0.8612259170334173, 0.8886720499310186, 0.8910802865688103, 0.8913961100688778, 0.8977380898326774, 12]\n",
            "-1 0.8910802865688103 [0.8757967866700117, 0.8910802865688103, 0.8913961100688778, 0.9002634168666237, 0.8941381383226171, 13]\n",
            "1 0.8913961100688778 [0.8612259170334173, 0.8886720499310186, 0.8910802865688103, 0.8913961100688778, 0.8977380898326774, 12]\n",
            "-1 0.8910802865688103 [0.8757967866700117, 0.8910802865688103, 0.8913961100688778, 0.9002634168666237, 0.8941381383226171, 13]\n"
          ],
          "name": "stdout"
        },
        {
          "output_type": "stream",
          "text": [
            "\u001b[A\u001b[A\u001b[A\n",
            "\n",
            "\n",
            " 58%|█████▊    | 104/180 [00:17<00:05, 14.38it/s]\u001b[A\u001b[A\u001b[A"
          ],
          "name": "stderr"
        },
        {
          "output_type": "stream",
          "text": [
            "1 0.8913961100688778 [0.8612259170334173, 0.8886720499310186, 0.8910802865688103, 0.8913961100688778, 0.8977380898326774, 12]\n",
            "-1 0.8910802865688103 [0.8757967866700117, 0.8910802865688103, 0.8913961100688778, 0.9002634168666237, 0.8941381383226171, 13]\n",
            "1 0.8913961100688778 [0.8612259170334173, 0.8886720499310186, 0.8910802865688103, 0.8913961100688778, 0.8977380898326774, 12]\n"
          ],
          "name": "stdout"
        },
        {
          "output_type": "stream",
          "text": [
            "\n",
            "\n",
            "\n",
            " 59%|█████▉    | 106/180 [00:18<00:05, 13.99it/s]\u001b[A\u001b[A\u001b[A\n",
            "\n",
            "\n",
            " 60%|██████    | 108/180 [00:18<00:05, 14.09it/s]\u001b[A\u001b[A\u001b[A"
          ],
          "name": "stderr"
        },
        {
          "output_type": "stream",
          "text": [
            "-1 0.8910802865688103 [0.8757967866700117, 0.8910802865688103, 0.8913961100688778, 0.9002634168666237, 0.8941381383226171, 13]\n",
            "1 0.8913961100688778 [0.8612259170334173, 0.8886720499310186, 0.8910802865688103, 0.8913961100688778, 0.8977380898326774, 12]\n",
            "-1 0.8910802865688103 [0.8757967866700117, 0.8910802865688103, 0.8913961100688778, 0.9002634168666237, 0.8941381383226171, 13]\n"
          ],
          "name": "stdout"
        },
        {
          "output_type": "stream",
          "text": [
            "\n",
            "\n",
            "\n",
            " 61%|██████    | 110/180 [00:18<00:04, 14.06it/s]\u001b[A\u001b[A\u001b[A\n",
            "\n",
            "\n"
          ],
          "name": "stderr"
        },
        {
          "output_type": "stream",
          "text": [
            "1 0.8913961100688778 [0.8612259170334173, 0.8886720499310186, 0.8910802865688103, 0.8913961100688778, 0.8977380898326774, 12]\n",
            "-1 0.8910802865688103 [0.8757967866700117, 0.8910802865688103, 0.8913961100688778, 0.9002634168666237, 0.8941381383226171, 13]\n",
            "1 0.8913961100688778 [0.8612259170334173, 0.8886720499310186, 0.8910802865688103, 0.8913961100688778, 0.8977380898326774, 12]\n",
            "-1 0.8910802865688103 [0.8757967866700117, 0.8910802865688103, 0.8913961100688778, 0.9002634168666237, 0.8941381383226171, 13]\n"
          ],
          "name": "stdout"
        },
        {
          "output_type": "stream",
          "text": [
            "\r 62%|██████▏   | 112/180 [00:18<00:04, 14.16it/s]\u001b[A\u001b[A\u001b[A\n",
            "\n",
            "\n",
            " 63%|██████▎   | 114/180 [00:18<00:04, 14.13it/s]\u001b[A\u001b[A\u001b[A\n",
            "\n",
            "\n",
            " 64%|██████▍   | 116/180 [00:18<00:04, 14.51it/s]\u001b[A\u001b[A\u001b[A"
          ],
          "name": "stderr"
        },
        {
          "output_type": "stream",
          "text": [
            "1 0.8913961100688778 [0.8612259170334173, 0.8886720499310186, 0.8910802865688103, 0.8913961100688778, 0.8977380898326774, 12]\n",
            "-1 0.8910802865688103 [0.8757967866700117, 0.8910802865688103, 0.8913961100688778, 0.9002634168666237, 0.8941381383226171, 13]\n",
            "1 0.8913961100688778 [0.8612259170334173, 0.8886720499310186, 0.8910802865688103, 0.8913961100688778, 0.8977380898326774, 12]\n",
            "-1 0.8910802865688103 [0.8757967866700117, 0.8910802865688103, 0.8913961100688778, 0.9002634168666237, 0.8941381383226171, 13]\n"
          ],
          "name": "stdout"
        },
        {
          "output_type": "stream",
          "text": [
            "\n",
            "\n",
            "\n",
            " 66%|██████▌   | 118/180 [00:18<00:04, 14.57it/s]\u001b[A\u001b[A\u001b[A\n",
            "\n",
            "\n"
          ],
          "name": "stderr"
        },
        {
          "output_type": "stream",
          "text": [
            "1 0.8913961100688778 [0.8612259170334173, 0.8886720499310186, 0.8910802865688103, 0.8913961100688778, 0.8977380898326774, 12]\n",
            "-1 0.8910802865688103 [0.8757967866700117, 0.8910802865688103, 0.8913961100688778, 0.9002634168666237, 0.8941381383226171, 13]\n",
            "1 0.8913961100688778 [0.8612259170334173, 0.8886720499310186, 0.8910802865688103, 0.8913961100688778, 0.8977380898326774, 12]\n",
            "-1 0.8910802865688103 [0.8757967866700117, 0.8910802865688103, 0.8913961100688778, 0.9002634168666237, 0.8941381383226171, 13]\n"
          ],
          "name": "stdout"
        },
        {
          "output_type": "stream",
          "text": [
            "\r 67%|██████▋   | 120/180 [00:19<00:04, 14.69it/s]\u001b[A\u001b[A\u001b[A\n",
            "\n",
            "\n",
            " 68%|██████▊   | 122/180 [00:19<00:03, 14.51it/s]\u001b[A\u001b[A\u001b[A\n",
            "\n",
            "\n"
          ],
          "name": "stderr"
        },
        {
          "output_type": "stream",
          "text": [
            "1 0.8913961100688778 [0.8612259170334173, 0.8886720499310186, 0.8910802865688103, 0.8913961100688778, 0.8977380898326774, 12]\n",
            "-1 0.8910802865688103 [0.8757967866700117, 0.8910802865688103, 0.8913961100688778, 0.9002634168666237, 0.8941381383226171, 13]\n",
            "1 0.8913961100688778 [0.8612259170334173, 0.8886720499310186, 0.8910802865688103, 0.8913961100688778, 0.8977380898326774, 12]\n",
            "-1 0.8910802865688103 [0.8757967866700117, 0.8910802865688103, 0.8913961100688778, 0.9002634168666237, 0.8941381383226171, 13]\n"
          ],
          "name": "stdout"
        },
        {
          "output_type": "stream",
          "text": [
            "\r 69%|██████▉   | 124/180 [00:19<00:03, 14.50it/s]\u001b[A\u001b[A\u001b[A\n",
            "\n",
            "\n",
            " 70%|███████   | 126/180 [00:19<00:03, 14.53it/s]\u001b[A\u001b[A\u001b[A\n",
            "\n",
            "\n",
            " 71%|███████   | 128/180 [00:19<00:03, 14.52it/s]"
          ],
          "name": "stderr"
        },
        {
          "output_type": "stream",
          "text": [
            "1 0.8913961100688778 [0.8612259170334173, 0.8886720499310186, 0.8910802865688103, 0.8913961100688778, 0.8977380898326774, 12]\n",
            "-1 0.8910802865688103 [0.8757967866700117, 0.8910802865688103, 0.8913961100688778, 0.9002634168666237, 0.8941381383226171, 13]\n",
            "1 0.8913961100688778 [0.8612259170334173, 0.8886720499310186, 0.8910802865688103, 0.8913961100688778, 0.8977380898326774, 12]\n",
            "-1 0.8910802865688103 [0.8757967866700117, 0.8910802865688103, 0.8913961100688778, 0.9002634168666237, 0.8941381383226171, 13]\n"
          ],
          "name": "stdout"
        },
        {
          "output_type": "stream",
          "text": [
            "\u001b[A\u001b[A\u001b[A\n",
            "\n",
            "\n",
            " 72%|███████▏  | 130/180 [00:19<00:03, 14.08it/s]\u001b[A\u001b[A\u001b[A"
          ],
          "name": "stderr"
        },
        {
          "output_type": "stream",
          "text": [
            "1 0.8913961100688778 [0.8612259170334173, 0.8886720499310186, 0.8910802865688103, 0.8913961100688778, 0.8977380898326774, 12]\n",
            "-1 0.8910802865688103 [0.8757967866700117, 0.8910802865688103, 0.8913961100688778, 0.9002634168666237, 0.8941381383226171, 13]\n",
            "1 0.8913961100688778 [0.8612259170334173, 0.8886720499310186, 0.8910802865688103, 0.8913961100688778, 0.8977380898326774, 12]\n",
            "-1 0.8910802865688103 "
          ],
          "name": "stdout"
        },
        {
          "output_type": "stream",
          "text": [
            "\n",
            "\n",
            "\n",
            " 73%|███████▎  | 132/180 [00:19<00:03, 13.89it/s]\u001b[A\u001b[A\u001b[A\n",
            "\n",
            "\n",
            " 74%|███████▍  | 134/180 [00:20<00:03, 13.94it/s]\u001b[A\u001b[A\u001b[A"
          ],
          "name": "stderr"
        },
        {
          "output_type": "stream",
          "text": [
            "[0.8757967866700117, 0.8910802865688103, 0.8913961100688778, 0.9002634168666237, 0.8941381383226171, 13]\n",
            "1 0.8913961100688778 [0.8612259170334173, 0.8886720499310186, 0.8910802865688103, 0.8913961100688778, 0.8977380898326774, 12]\n",
            "-1 0.8910802865688103 [0.8757967866700117, 0.8910802865688103, 0.8913961100688778, 0.9002634168666237, 0.8941381383226171, 13]\n"
          ],
          "name": "stdout"
        },
        {
          "output_type": "stream",
          "text": [
            "\n",
            "\n",
            "\n",
            " 76%|███████▌  | 136/180 [00:20<00:03, 14.02it/s]\u001b[A\u001b[A\u001b[A"
          ],
          "name": "stderr"
        },
        {
          "output_type": "stream",
          "text": [
            "1 0.8913961100688778 [0.8612259170334173, 0.8886720499310186, 0.8910802865688103, 0.8913961100688778, 0.8977380898326774, 12]\n",
            "-1 0.8910802865688103 [0.8757967866700117, 0.8910802865688103, 0.8913961100688778, 0.9002634168666237, 0.8941381383226171, 13]\n",
            "1 0.8913961100688778 [0.8612259170334173, 0.8886720499310186, 0.8910802865688103, 0.8913961100688778, 0.8977380898326774, 12]\n"
          ],
          "name": "stdout"
        },
        {
          "output_type": "stream",
          "text": [
            "\n",
            "\n",
            "\n",
            " 77%|███████▋  | 138/180 [00:20<00:03, 13.72it/s]\u001b[A\u001b[A\u001b[A\n",
            "\n",
            "\n",
            " 78%|███████▊  | 140/180 [00:20<00:02, 13.77it/s]\u001b[A\u001b[A\u001b[A"
          ],
          "name": "stderr"
        },
        {
          "output_type": "stream",
          "text": [
            "-1 0.8910802865688103 [0.8757967866700117, 0.8910802865688103, 0.8913961100688778, 0.9002634168666237, 0.8941381383226171, 13]\n",
            "1 0.8913961100688778 [0.8612259170334173, 0.8886720499310186, 0.8910802865688103, 0.8913961100688778, 0.8977380898326774, 12]\n",
            "-1 0.8910802865688103 [0.8757967866700117, 0.8910802865688103, 0.8913961100688778, 0.9002634168666237, 0.8941381383226171, 13]\n"
          ],
          "name": "stdout"
        },
        {
          "output_type": "stream",
          "text": [
            "\n",
            "\n",
            "\n",
            " 79%|███████▉  | 142/180 [00:20<00:02, 13.94it/s]\u001b[A\u001b[A\u001b[A\n",
            "\n",
            "\n"
          ],
          "name": "stderr"
        },
        {
          "output_type": "stream",
          "text": [
            "1 0.8913961100688778 [0.8612259170334173, 0.8886720499310186, 0.8910802865688103, 0.8913961100688778, 0.8977380898326774, 12]\n",
            "-1 0.8910802865688103 [0.8757967866700117, 0.8910802865688103, 0.8913961100688778, 0.9002634168666237, 0.8941381383226171, 13]\n",
            "1 0.8913961100688778 [0.8612259170334173, 0.8886720499310186, 0.8910802865688103, 0.8913961100688778, 0.8977380898326774, 12]\n",
            "-1 0.8910802865688103 [0.8757967866700117, 0.8910802865688103, 0.8913961100688778, 0.9002634168666237, 0.8941381383226171, 13]\n"
          ],
          "name": "stdout"
        },
        {
          "output_type": "stream",
          "text": [
            "\r 80%|████████  | 144/180 [00:20<00:02, 14.12it/s]\u001b[A\u001b[A\u001b[A\n",
            "\n",
            "\n",
            " 81%|████████  | 146/180 [00:20<00:02, 13.89it/s]\u001b[A\u001b[A\u001b[A"
          ],
          "name": "stderr"
        },
        {
          "output_type": "stream",
          "text": [
            "1 0.8913961100688778 [0.8612259170334173, 0.8886720499310186, 0.8910802865688103, 0.8913961100688778, 0.8977380898326774, 12]\n",
            "-1 0.8910802865688103 [0.8757967866700117, 0.8910802865688103, 0.8913961100688778, 0.9002634168666237, 0.8941381383226171, 13]\n",
            "1 0.8913961100688778 [0.8612259170334173, 0.8886720499310186, 0.8910802865688103, 0.8913961100688778, 0.8977380898326774, 12]\n"
          ],
          "name": "stdout"
        },
        {
          "output_type": "stream",
          "text": [
            "\n",
            "\n",
            "\n",
            " 82%|████████▏ | 148/180 [00:21<00:02, 13.90it/s]\u001b[A\u001b[A\u001b[A\n",
            "\n",
            "\n",
            " 83%|████████▎ | 150/180 [00:21<00:02, 14.34it/s]\u001b[A\u001b[A\u001b[A"
          ],
          "name": "stderr"
        },
        {
          "output_type": "stream",
          "text": [
            "-1 0.8910802865688103 [0.8757967866700117, 0.8910802865688103, 0.8913961100688778, 0.9002634168666237, 0.8941381383226171, 13]\n",
            "1 0.8913961100688778 [0.8612259170334173, 0.8886720499310186, 0.8910802865688103, 0.8913961100688778, 0.8977380898326774, 12]\n",
            "-1 0.8910802865688103 [0.8757967866700117, 0.8910802865688103, 0.8913961100688778, 0.9002634168666237, 0.8941381383226171, 13]\n"
          ],
          "name": "stdout"
        },
        {
          "output_type": "stream",
          "text": [
            "\n",
            "\n",
            "\n",
            " 84%|████████▍ | 152/180 [00:21<00:01, 14.51it/s]\u001b[A\u001b[A\u001b[A\n",
            "\n",
            "\n",
            " 86%|████████▌ | 154/180 [00:21<00:01, 14.78it/s]\u001b[A\u001b[A\u001b[A"
          ],
          "name": "stderr"
        },
        {
          "output_type": "stream",
          "text": [
            "1 0.8913961100688778 [0.8612259170334173, 0.8886720499310186, 0.8910802865688103, 0.8913961100688778, 0.8977380898326774, 12]\n",
            "-1 0.8910802865688103 [0.8757967866700117, 0.8910802865688103, 0.8913961100688778, 0.9002634168666237, 0.8941381383226171, 13]\n",
            "1 0.8913961100688778 [0.8612259170334173, 0.8886720499310186, 0.8910802865688103, 0.8913961100688778, 0.8977380898326774, 12]\n",
            "-1 0.8910802865688103 [0.8757967866700117, 0.8910802865688103, 0.8913961100688778, 0.9002634168666237, 0.8941381383226171, 13]\n"
          ],
          "name": "stdout"
        },
        {
          "output_type": "stream",
          "text": [
            "\n",
            "\n",
            "\n",
            " 87%|████████▋ | 156/180 [00:21<00:01, 14.69it/s]\u001b[A\u001b[A\u001b[A\n",
            "\n",
            "\n"
          ],
          "name": "stderr"
        },
        {
          "output_type": "stream",
          "text": [
            "1 0.8913961100688778 [0.8612259170334173, 0.8886720499310186, 0.8910802865688103, 0.8913961100688778, 0.8977380898326774, 12]\n",
            "-1 0.8910802865688103 [0.8757967866700117, 0.8910802865688103, 0.8913961100688778, 0.9002634168666237, 0.8941381383226171, 13]\n",
            "1 0.8913961100688778 [0.8612259170334173, 0.8886720499310186, 0.8910802865688103, 0.8913961100688778, 0.8977380898326774, 12]\n",
            "-1 0.8910802865688103 [0.8757967866700117, 0.8910802865688103, 0.8913961100688778, 0.9002634168666237, 0.8941381383226171, 13]\n"
          ],
          "name": "stdout"
        },
        {
          "output_type": "stream",
          "text": [
            "\r 88%|████████▊ | 158/180 [00:21<00:01, 14.65it/s]\u001b[A\u001b[A\u001b[A\n",
            "\n",
            "\n",
            " 89%|████████▉ | 160/180 [00:21<00:01, 14.51it/s]\u001b[A\u001b[A\u001b[A\n",
            "\n",
            "\n"
          ],
          "name": "stderr"
        },
        {
          "output_type": "stream",
          "text": [
            "1 0.8913961100688778 [0.8612259170334173, 0.8886720499310186, 0.8910802865688103, 0.8913961100688778, 0.8977380898326774, 12]\n",
            "-1 0.8910802865688103 [0.8757967866700117, 0.8910802865688103, 0.8913961100688778, 0.9002634168666237, 0.8941381383226171, 13]\n",
            "1 0.8913961100688778 [0.8612259170334173, 0.8886720499310186, 0.8910802865688103, 0.8913961100688778, 0.8977380898326774, 12]\n",
            "-1 0.8910802865688103 [0.8757967866700117, 0.8910802865688103, 0.8913961100688778, 0.9002634168666237, 0.8941381383226171, 13]\n"
          ],
          "name": "stdout"
        },
        {
          "output_type": "stream",
          "text": [
            "\r 90%|█████████ | 162/180 [00:22<00:01, 14.47it/s]\u001b[A\u001b[A\u001b[A\n",
            "\n",
            "\n",
            " 91%|█████████ | 164/180 [00:22<00:01, 14.17it/s]\u001b[A\u001b[A\u001b[A"
          ],
          "name": "stderr"
        },
        {
          "output_type": "stream",
          "text": [
            "1 0.8913961100688778 [0.8612259170334173, 0.8886720499310186, 0.8910802865688103, 0.8913961100688778, 0.8977380898326774, 12]\n",
            "-1 0.8910802865688103 [0.8757967866700117, 0.8910802865688103, 0.8913961100688778, 0.9002634168666237, 0.8941381383226171, 13]\n",
            "1 0.8913961100688778 [0.8612259170334173, 0.8886720499310186, 0.8910802865688103, 0.8913961100688778, 0.8977380898326774, 12]\n"
          ],
          "name": "stdout"
        },
        {
          "output_type": "stream",
          "text": [
            "\n",
            "\n",
            "\n",
            " 92%|█████████▏| 166/180 [00:22<00:01, 13.90it/s]\u001b[A\u001b[A\u001b[A\n",
            "\n",
            "\n",
            " 93%|█████████▎| 168/180 [00:22<00:00, 13.87it/s]\u001b[A\u001b[A\u001b[A"
          ],
          "name": "stderr"
        },
        {
          "output_type": "stream",
          "text": [
            "-1 0.8910802865688103 [0.8757967866700117, 0.8910802865688103, 0.8913961100688778, 0.9002634168666237, 0.8941381383226171, 13]\n",
            "1 0.8913961100688778 [0.8612259170334173, 0.8886720499310186, 0.8910802865688103, 0.8913961100688778, 0.8977380898326774, 12]\n",
            "-1 0.8910802865688103 [0.8757967866700117, 0.8910802865688103, 0.8913961100688778, 0.9002634168666237, 0.8941381383226171, 13]\n"
          ],
          "name": "stdout"
        },
        {
          "output_type": "stream",
          "text": [
            "\n",
            "\n",
            "\n",
            " 94%|█████████▍| 170/180 [00:22<00:00, 13.78it/s]\u001b[A\u001b[A\u001b[A\n",
            "\n",
            "\n"
          ],
          "name": "stderr"
        },
        {
          "output_type": "stream",
          "text": [
            "1 0.8913961100688778 [0.8612259170334173, 0.8886720499310186, 0.8910802865688103, 0.8913961100688778, 0.8977380898326774, 12]\n",
            "-1 0.8910802865688103 [0.8757967866700117, 0.8910802865688103, 0.8913961100688778, 0.9002634168666237, 0.8941381383226171, 13]\n",
            "1 0.8913961100688778 [0.8612259170334173, 0.8886720499310186, 0.8910802865688103, 0.8913961100688778, 0.8977380898326774, 12]\n",
            "-1 0.8910802865688103 [0.8757967866700117, 0.8910802865688103, 0.8913961100688778, 0.9002634168666237, 0.8941381383226171, 13]\n"
          ],
          "name": "stdout"
        },
        {
          "output_type": "stream",
          "text": [
            "\r 96%|█████████▌| 172/180 [00:22<00:00, 13.98it/s]\u001b[A\u001b[A\u001b[A\n",
            "\n",
            "\n",
            " 97%|█████████▋| 174/180 [00:22<00:00, 14.00it/s]\u001b[A\u001b[A\u001b[A"
          ],
          "name": "stderr"
        },
        {
          "output_type": "stream",
          "text": [
            "1 0.8913961100688778 [0.8612259170334173, 0.8886720499310186, 0.8910802865688103, 0.8913961100688778, 0.8977380898326774, 12]\n",
            "-1 0.8910802865688103 [0.8757967866700117, 0.8910802865688103, 0.8913961100688778, 0.9002634168666237, 0.8941381383226171, 13]\n",
            "1 0.8913961100688778 [0.8612259170334173, 0.8886720499310186, 0.8910802865688103, 0.8913961100688778, 0.8977380898326774, 12]\n"
          ],
          "name": "stdout"
        },
        {
          "output_type": "stream",
          "text": [
            "\n",
            "\n",
            "\n",
            " 98%|█████████▊| 176/180 [00:23<00:00, 13.60it/s]\u001b[A\u001b[A\u001b[A\n",
            "\n",
            "\n",
            " 99%|█████████▉| 178/180 [00:23<00:00, 13.83it/s]\u001b[A\u001b[A\u001b[A"
          ],
          "name": "stderr"
        },
        {
          "output_type": "stream",
          "text": [
            "-1 0.8910802865688103 [0.8757967866700117, 0.8910802865688103, 0.8913961100688778, 0.9002634168666237, 0.8941381383226171, 13]\n",
            "1 0.8913961100688778 [0.8612259170334173, 0.8886720499310186, 0.8910802865688103, 0.8913961100688778, 0.8977380898326774, 12]\n",
            "-1 0.8910802865688103 [0.8757967866700117, 0.8910802865688103, 0.8913961100688778, 0.9002634168666237, 0.8941381383226171, 13]\n"
          ],
          "name": "stdout"
        },
        {
          "output_type": "stream",
          "text": [
            "\n",
            "\n",
            "\n",
            "100%|██████████| 180/180 [00:23<00:00, 13.69it/s]\u001b[A\u001b[A\u001b[A\n",
            "\n",
            "\n",
            "\u001b[A\u001b[A\u001b[A"
          ],
          "name": "stderr"
        },
        {
          "output_type": "stream",
          "text": [
            "1 0.8913961100688778 [0.8612259170334173, 0.8886720499310186, 0.8910802865688103, 0.8913961100688778, 0.8977380898326774, 12]\n",
            "-1 0.8910802865688103 [0.8757967866700117, 0.8910802865688103, 0.8913961100688778, 0.9002634168666237, 0.8941381383226171, 13]\n",
            "Cur state:  [0.8612259170334173, 0.8886720499310186, 0.8910802865688103, 0.8913961100688778, 0.8977380898326774, 12]\n",
            "Max state found:  [0.8886720499310186, 0.8913961100688778, 0.9002634168666237, 0.8977380898326774, 0.8980057230274456, 14]\n"
          ],
          "name": "stdout"
        },
        {
          "output_type": "display_data",
          "data": {
            "image/png": "[encoded data removed]",
            "text/plain": [
              "<Figure size 432x288 with 1 Axes>"
            ]
          },
          "metadata": {
            "tags": []
          }
        }
      ]
    },
    {
      "cell_type": "markdown",
      "metadata": {
        "id": "U8h_mxesxQd6",
        "colab_type": "text"
      },
      "source": [
        "##Test by Changing Test Set with random variable"
      ]
    },
    {
      "cell_type": "code",
      "metadata": {
        "id": "jEbOxAm2xXRq",
        "colab_type": "code",
        "colab": {
          "base_uri": "https://localhost:8080/",
          "height": 282
        },
        "outputId": "d22f51db-f3e2-45e3-9c9f-f30567b23874"
      },
      "source": [
        "X = np.concatenate((X_train, X_test))\n",
        "Y = np.concatenate((Y_train, Y_test))\n",
        "train_indices = np.random.choice(X.shape[0], 300, replace=False)\n",
        "test_indices = np.array([x for x in range(X.shape[0]) if x not in train_indices])\n",
        "X_train_test = X[train_indices]\n",
        "X_test_test = X[test_indices]\n",
        "Y_train_test = Y[train_indices]\n",
        "Y_test_test = Y[test_indices]\n",
        "accuracy_list_test = []\n",
        "accuracy_lookuptb_test = {}\n",
        "for x in x_range:\n",
        "  if np.random.uniform() > 0.1:\n",
        "    accuracy_list_test.append(calAccuracyTest(x))\n",
        "  else:\n",
        "    accuracy_list_test.append(np.random.uniform())\n",
        "  accuracy_lookuptb_test[x] = accuracy_list_test[-1]\n",
        "plt.plot(accuracy_list_test)\n",
        "plt.show()\n",
        "print(\"The max value locate at x = \", np.argmax(accuracy_list_test))"
      ],
      "execution_count": 126,
      "outputs": [
        {
          "output_type": "display_data",
          "data": {
            "image/png": "[encoded data removed]",
            "text/plain": [
              "<Figure size 432x288 with 1 Axes>"
            ]
          },
          "metadata": {
            "tags": []
          }
        },
        {
          "output_type": "stream",
          "text": [
            "The max value locate at x =  134\n"
          ],
          "name": "stdout"
        }
      ]
    },
    {
      "cell_type": "code",
      "metadata": {
        "id": "Owha6kl_xnaB",
        "colab_type": "code",
        "colab": {
          "base_uri": "https://localhost:8080/",
          "height": 1000
        },
        "outputId": "75ee460e-98ac-45f5-8e04-0c67867f6d06"
      },
      "source": [
        "x = 140\n",
        "detection_test = detectTest(detect_range, x)\n",
        "cur_nor_state_test = scaler_state.transform([detection_test + [x]])[0]\n",
        "cur_state_test = scaler_state.inverse_transform([cur_nor_state_test])[0]\n",
        "\n",
        "init_state_test = cur_state_test\n",
        "init_nor_state_test = cur_nor_state_test\n",
        "prediction_test = []\n",
        "cur_state_test = init_state_test\n",
        "max_state_test = cur_state_test\n",
        "for step_ctr in tqdm(range(180)):\n",
        "  action_test = step_options[np.argmax(q_model.predict(cur_nor_state_test.reshape(1, 6)))]\n",
        "  while (action_test == 0):\n",
        "    action_test = np.random.choice(step_options)\n",
        "  next_state_test, reward_test = stepTest(cur_state_test, action_test)\n",
        "  plt.scatter([next_state_test[-1]], [reward_test])\n",
        "  if reward_test > max_state_test[3]:\n",
        "    max_state_test = next_state_test\n",
        "  next_nor_state_test = scaler_state.transform([next_state_test])[0]\n",
        "  prediction_test.append(reward_test)\n",
        "  cur_state_test = next_state_test\n",
        "  cur_nor_state_test = next_nor_state_test\n",
        "# plt.plot(prediction_test)\n",
        "plt.plot(accuracy_list_test)\n",
        "plt.show()\n",
        "print(\"Cur state: \", cur_state_test)\n",
        "print(\"Max state found: \", max_state_test)"
      ],
      "execution_count": 131,
      "outputs": [
        {
          "output_type": "stream",
          "text": [
            "\n",
            "\n",
            "\n",
            "  0%|          | 0/180 [00:00<?, ?it/s]\u001b[A\u001b[A\u001b[A\n",
            "\n",
            "\n",
            "  1%|          | 1/180 [00:00<01:46,  1.68it/s]\u001b[A\u001b[A\u001b[A\n",
            "\n",
            "\n",
            "  1%|          | 2/180 [00:01<01:41,  1.75it/s]\u001b[A\u001b[A\u001b[A\n",
            "\n",
            "\n",
            "  2%|▏         | 3/180 [00:01<01:36,  1.84it/s]\u001b[A\u001b[A\u001b[A\n",
            "\n",
            "\n",
            "  2%|▏         | 4/180 [00:02<01:30,  1.94it/s]\u001b[A\u001b[A\u001b[A\n",
            "\n",
            "\n",
            "  3%|▎         | 5/180 [00:02<01:25,  2.04it/s]\u001b[A\u001b[A\u001b[A\n",
            "\n",
            "\n",
            "  3%|▎         | 6/180 [00:02<01:22,  2.11it/s]\u001b[A\u001b[A\u001b[A\n",
            "\n",
            "\n",
            "  4%|▍         | 7/180 [00:03<01:17,  2.23it/s]\u001b[A\u001b[A\u001b[A\n",
            "\n",
            "\n",
            "  4%|▍         | 8/180 [00:03<01:13,  2.33it/s]\u001b[A\u001b[A\u001b[A\n",
            "\n",
            "\n",
            "  5%|▌         | 9/180 [00:04<01:10,  2.44it/s]\u001b[A\u001b[A\u001b[A\n",
            "\n",
            "\n",
            "  6%|▌         | 10/180 [00:04<01:07,  2.53it/s]\u001b[A\u001b[A\u001b[A\n",
            "\n",
            "\n",
            "  6%|▌         | 11/180 [00:04<01:03,  2.65it/s]\u001b[A\u001b[A\u001b[A\n",
            "\n",
            "\n",
            "  7%|▋         | 12/180 [00:05<01:01,  2.75it/s]\u001b[A\u001b[A\u001b[A\n",
            "\n",
            "\n",
            "  7%|▋         | 13/180 [00:05<00:57,  2.92it/s]\u001b[A\u001b[A\u001b[A\n",
            "\n",
            "\n",
            "  8%|▊         | 14/180 [00:05<00:52,  3.16it/s]\u001b[A\u001b[A\u001b[A\n",
            "\n",
            "\n",
            "  8%|▊         | 15/180 [00:05<00:48,  3.38it/s]\u001b[A\u001b[A\u001b[A\n",
            "\n",
            "\n",
            "  9%|▉         | 16/180 [00:06<00:43,  3.77it/s]\u001b[A\u001b[A\u001b[A\n",
            "\n",
            "\n",
            "  9%|▉         | 17/180 [00:06<00:38,  4.26it/s]\u001b[A\u001b[A\u001b[A\n",
            "\n",
            "\n",
            " 10%|█         | 18/180 [00:06<00:33,  4.87it/s]\u001b[A\u001b[A\u001b[A\n",
            "\n",
            "\n",
            " 11%|█         | 19/180 [00:06<00:28,  5.61it/s]\u001b[A\u001b[A\u001b[A\n",
            "\n",
            "\n",
            " 12%|█▏        | 21/180 [00:06<00:22,  6.99it/s]\u001b[A\u001b[A\u001b[A\n",
            "\n",
            "\n",
            " 13%|█▎        | 23/180 [00:06<00:18,  8.49it/s]\u001b[A\u001b[A\u001b[A\n",
            "\n",
            "\n",
            " 14%|█▍        | 25/180 [00:06<00:15,  9.85it/s]\u001b[A\u001b[A\u001b[A\n",
            "\n",
            "\n",
            " 15%|█▌        | 27/180 [00:07<00:14, 10.50it/s]\u001b[A\u001b[A\u001b[A\n",
            "\n",
            "\n",
            " 16%|█▌        | 29/180 [00:07<00:12, 12.01it/s]\u001b[A\u001b[A\u001b[A\n",
            "\n",
            "\n",
            " 17%|█▋        | 31/180 [00:07<00:11, 13.19it/s]\u001b[A\u001b[A\u001b[A\n",
            "\n",
            "\n",
            " 18%|█▊        | 33/180 [00:07<00:10, 14.33it/s]\u001b[A\u001b[A\u001b[A\n",
            "\n",
            "\n",
            " 19%|█▉        | 35/180 [00:07<00:09, 15.47it/s]\u001b[A\u001b[A\u001b[A\n",
            "\n",
            "\n",
            " 21%|██        | 37/180 [00:07<00:08, 16.43it/s]\u001b[A\u001b[A\u001b[A\n",
            "\n",
            "\n",
            " 22%|██▏       | 39/180 [00:07<00:08, 17.32it/s]\u001b[A\u001b[A\u001b[A\n",
            "\n",
            "\n",
            " 23%|██▎       | 41/180 [00:07<00:07, 17.43it/s]\u001b[A\u001b[A\u001b[A\n",
            "\n",
            "\n",
            " 24%|██▍       | 43/180 [00:07<00:07, 17.34it/s]\u001b[A\u001b[A\u001b[A\n",
            "\n",
            "\n",
            " 25%|██▌       | 45/180 [00:08<00:07, 17.44it/s]\u001b[A\u001b[A\u001b[A\n",
            "\n",
            "\n",
            " 26%|██▌       | 47/180 [00:08<00:07, 17.94it/s]\u001b[A\u001b[A\u001b[A\n",
            "\n",
            "\n",
            " 27%|██▋       | 49/180 [00:08<00:07, 18.11it/s]\u001b[A\u001b[A\u001b[A\n",
            "\n",
            "\n",
            " 28%|██▊       | 51/180 [00:08<00:07, 18.33it/s]\u001b[A\u001b[A\u001b[A\n",
            "\n",
            "\n",
            " 29%|██▉       | 53/180 [00:08<00:06, 18.46it/s]\u001b[A\u001b[A\u001b[A\n",
            "\n",
            "\n",
            " 31%|███       | 55/180 [00:08<00:06, 18.65it/s]\u001b[A\u001b[A\u001b[A\n",
            "\n",
            "\n",
            " 32%|███▏      | 57/180 [00:08<00:06, 18.38it/s]\u001b[A\u001b[A\u001b[A\n",
            "\n",
            "\n",
            " 33%|███▎      | 59/180 [00:08<00:06, 18.43it/s]\u001b[A\u001b[A\u001b[A\n",
            "\n",
            "\n",
            " 34%|███▍      | 61/180 [00:08<00:06, 17.99it/s]\u001b[A\u001b[A\u001b[A\n",
            "\n",
            "\n",
            " 35%|███▌      | 63/180 [00:08<00:06, 18.08it/s]\u001b[A\u001b[A\u001b[A\n",
            "\n",
            "\n",
            " 36%|███▌      | 65/180 [00:09<00:10, 10.59it/s]\u001b[A\u001b[A\u001b[A\n",
            "\n",
            "\n",
            " 37%|███▋      | 67/180 [00:09<00:09, 12.00it/s]\u001b[A\u001b[A\u001b[A\n",
            "\n",
            "\n",
            " 38%|███▊      | 69/180 [00:09<00:08, 13.38it/s]\u001b[A\u001b[A\u001b[A\n",
            "\n",
            "\n",
            " 39%|███▉      | 71/180 [00:09<00:07, 14.46it/s]\u001b[A\u001b[A\u001b[A\n",
            "\n",
            "\n",
            " 41%|████      | 73/180 [00:09<00:06, 15.47it/s]\u001b[A\u001b[A\u001b[A\n",
            "\n",
            "\n",
            " 42%|████▏     | 75/180 [00:09<00:06, 16.12it/s]\u001b[A\u001b[A\u001b[A\n",
            "\n",
            "\n",
            " 43%|████▎     | 77/180 [00:10<00:06, 16.61it/s]\u001b[A\u001b[A\u001b[A\n",
            "\n",
            "\n",
            " 44%|████▍     | 79/180 [00:10<00:05, 17.09it/s]\u001b[A\u001b[A\u001b[A\n",
            "\n",
            "\n",
            " 45%|████▌     | 81/180 [00:10<00:05, 17.16it/s]\u001b[A\u001b[A\u001b[A\n",
            "\n",
            "\n",
            " 46%|████▌     | 83/180 [00:10<00:05, 17.52it/s]\u001b[A\u001b[A\u001b[A\n",
            "\n",
            "\n",
            " 47%|████▋     | 85/180 [00:10<00:05, 17.03it/s]\u001b[A\u001b[A\u001b[A\n",
            "\n",
            "\n",
            " 48%|████▊     | 87/180 [00:10<00:06, 15.31it/s]\u001b[A\u001b[A\u001b[A\n",
            "\n",
            "\n",
            " 49%|████▉     | 89/180 [00:10<00:05, 15.96it/s]\u001b[A\u001b[A\u001b[A\n",
            "\n",
            "\n",
            " 51%|█████     | 91/180 [00:10<00:05, 16.28it/s]\u001b[A\u001b[A\u001b[A\n",
            "\n",
            "\n",
            " 52%|█████▏    | 93/180 [00:10<00:05, 16.78it/s]\u001b[A\u001b[A\u001b[A\n",
            "\n",
            "\n",
            " 53%|█████▎    | 95/180 [00:11<00:04, 17.33it/s]\u001b[A\u001b[A\u001b[A\n",
            "\n",
            "\n",
            " 54%|█████▍    | 97/180 [00:11<00:04, 16.63it/s]\u001b[A\u001b[A\u001b[A\n",
            "\n",
            "\n",
            " 55%|█████▌    | 99/180 [00:11<00:04, 17.02it/s]\u001b[A\u001b[A\u001b[A\n",
            "\n",
            "\n",
            " 56%|█████▌    | 101/180 [00:11<00:04, 17.34it/s]\u001b[A\u001b[A\u001b[A\n",
            "\n",
            "\n",
            " 57%|█████▋    | 103/180 [00:11<00:04, 17.03it/s]\u001b[A\u001b[A\u001b[A\n",
            "\n",
            "\n",
            " 58%|█████▊    | 105/180 [00:11<00:04, 17.24it/s]\u001b[A\u001b[A\u001b[A\n",
            "\n",
            "\n",
            " 59%|█████▉    | 107/180 [00:11<00:04, 17.39it/s]\u001b[A\u001b[A\u001b[A\n",
            "\n",
            "\n",
            " 61%|██████    | 109/180 [00:11<00:04, 17.43it/s]\u001b[A\u001b[A\u001b[A\n",
            "\n",
            "\n",
            " 62%|██████▏   | 111/180 [00:12<00:03, 17.85it/s]\u001b[A\u001b[A\u001b[A\n",
            "\n",
            "\n",
            " 63%|██████▎   | 113/180 [00:12<00:03, 18.15it/s]\u001b[A\u001b[A\u001b[A\n",
            "\n",
            "\n",
            " 64%|██████▍   | 115/180 [00:12<00:03, 18.14it/s]\u001b[A\u001b[A\u001b[A\n",
            "\n",
            "\n",
            " 65%|██████▌   | 117/180 [00:12<00:03, 18.07it/s]\u001b[A\u001b[A\u001b[A\n",
            "\n",
            "\n",
            " 66%|██████▌   | 119/180 [00:12<00:03, 18.33it/s]\u001b[A\u001b[A\u001b[A\n",
            "\n",
            "\n",
            " 67%|██████▋   | 121/180 [00:12<00:03, 18.04it/s]\u001b[A\u001b[A\u001b[A\n",
            "\n",
            "\n",
            " 68%|██████▊   | 123/180 [00:12<00:03, 18.12it/s]\u001b[A\u001b[A\u001b[A\n",
            "\n",
            "\n",
            " 69%|██████▉   | 125/180 [00:12<00:03, 18.16it/s]\u001b[A\u001b[A\u001b[A\n",
            "\n",
            "\n",
            " 71%|███████   | 127/180 [00:12<00:02, 18.03it/s]\u001b[A\u001b[A\u001b[A\n",
            "\n",
            "\n",
            " 72%|███████▏  | 129/180 [00:12<00:02, 18.29it/s]\u001b[A\u001b[A\u001b[A\n",
            "\n",
            "\n",
            " 73%|███████▎  | 131/180 [00:13<00:02, 17.99it/s]\u001b[A\u001b[A\u001b[A\n",
            "\n",
            "\n",
            " 74%|███████▍  | 133/180 [00:13<00:02, 18.31it/s]\u001b[A\u001b[A\u001b[A\n",
            "\n",
            "\n",
            " 75%|███████▌  | 135/180 [00:13<00:02, 18.33it/s]\u001b[A\u001b[A\u001b[A\n",
            "\n",
            "\n",
            " 76%|███████▌  | 137/180 [00:13<00:02, 18.21it/s]\u001b[A\u001b[A\u001b[A\n",
            "\n",
            "\n",
            " 77%|███████▋  | 139/180 [00:13<00:02, 18.45it/s]\u001b[A\u001b[A\u001b[A\n",
            "\n",
            "\n",
            " 78%|███████▊  | 141/180 [00:13<00:02, 18.27it/s]\u001b[A\u001b[A\u001b[A\n",
            "\n",
            "\n",
            " 79%|███████▉  | 143/180 [00:13<00:02, 18.40it/s]\u001b[A\u001b[A\u001b[A\n",
            "\n",
            "\n",
            " 81%|████████  | 145/180 [00:13<00:01, 18.53it/s]\u001b[A\u001b[A\u001b[A\n",
            "\n",
            "\n",
            " 82%|████████▏ | 147/180 [00:13<00:01, 17.77it/s]\u001b[A\u001b[A\u001b[A\n",
            "\n",
            "\n",
            " 83%|████████▎ | 149/180 [00:14<00:01, 17.99it/s]\u001b[A\u001b[A\u001b[A\n",
            "\n",
            "\n",
            " 84%|████████▍ | 151/180 [00:14<00:01, 18.35it/s]\u001b[A\u001b[A\u001b[A\n",
            "\n",
            "\n",
            " 85%|████████▌ | 153/180 [00:14<00:01, 18.67it/s]\u001b[A\u001b[A\u001b[A\n",
            "\n",
            "\n",
            " 86%|████████▌ | 155/180 [00:14<00:01, 18.92it/s]\u001b[A\u001b[A\u001b[A\n",
            "\n",
            "\n",
            " 87%|████████▋ | 157/180 [00:14<00:01, 18.84it/s]\u001b[A\u001b[A\u001b[A\n",
            "\n",
            "\n",
            " 88%|████████▊ | 159/180 [00:14<00:01, 18.85it/s]\u001b[A\u001b[A\u001b[A\n",
            "\n",
            "\n",
            " 89%|████████▉ | 161/180 [00:14<00:00, 19.01it/s]\u001b[A\u001b[A\u001b[A\n",
            "\n",
            "\n",
            " 91%|█████████ | 163/180 [00:14<00:00, 18.38it/s]\u001b[A\u001b[A\u001b[A\n",
            "\n",
            "\n",
            " 92%|█████████▏| 165/180 [00:14<00:00, 18.34it/s]\u001b[A\u001b[A\u001b[A\n",
            "\n",
            "\n",
            " 93%|█████████▎| 167/180 [00:15<00:00, 18.51it/s]\u001b[A\u001b[A\u001b[A\n",
            "\n",
            "\n",
            " 94%|█████████▍| 169/180 [00:15<00:00, 18.56it/s]\u001b[A\u001b[A\u001b[A\n",
            "\n",
            "\n",
            " 95%|█████████▌| 171/180 [00:15<00:00, 18.72it/s]\u001b[A\u001b[A\u001b[A\n",
            "\n",
            "\n",
            " 96%|█████████▌| 173/180 [00:15<00:00, 18.76it/s]\u001b[A\u001b[A\u001b[A\n",
            "\n",
            "\n",
            " 97%|█████████▋| 175/180 [00:15<00:00, 18.64it/s]\u001b[A\u001b[A\u001b[A\n",
            "\n",
            "\n",
            " 99%|█████████▉| 178/180 [00:15<00:00, 18.66it/s]\u001b[A\u001b[A\u001b[A\n",
            "\n",
            "\n",
            "100%|██████████| 180/180 [00:15<00:00, 18.53it/s]\u001b[A\u001b[A\u001b[A\n",
            "\n",
            "\n",
            "\u001b[A\u001b[A\u001b[A"
          ],
          "name": "stderr"
        },
        {
          "output_type": "display_data",
          "data": {
            "image/png": "[encoded data removed]",
            "text/plain": [
              "<Figure size 432x288 with 1 Axes>"
            ]
          },
          "metadata": {
            "tags": []
          }
        },
        {
          "output_type": "stream",
          "text": [
            "Cur state:  [0.8157031921056532, 0.8276210002776859, 0.8239320842473363, 0.8250754375572018, 0.8232339162639802, 12]\n",
            "Max state found:  [0.7984912941626591, 0.8157031921056532, 0.8221839012115699, 0.8276210002776859, 0.8250754375572018, 10]\n"
          ],
          "name": "stdout"
        }
      ]
    },
    {
      "cell_type": "markdown",
      "metadata": {
        "id": "I1kuRd0XzLm0",
        "colab_type": "text"
      },
      "source": [
        "## Test by Changing Test Set with random variable 2"
      ]
    },
    {
      "cell_type": "code",
      "metadata": {
        "id": "WDiF-RzqzMbQ",
        "colab_type": "code",
        "colab": {
          "base_uri": "https://localhost:8080/",
          "height": 282
        },
        "outputId": "f4004796-9a1c-4b29-ec7b-c360e5d5079a"
      },
      "source": [
        "X = np.concatenate((X_train, X_test))\n",
        "Y = np.concatenate((Y_train, Y_test))\n",
        "train_indices = np.random.choice(X.shape[0], 300, replace=False)\n",
        "test_indices = np.array([x for x in range(X.shape[0]) if x not in train_indices])\n",
        "X_train_test = X[train_indices]\n",
        "X_test_test = X[test_indices]\n",
        "Y_train_test = Y[train_indices]\n",
        "Y_test_test = Y[test_indices]\n",
        "accuracy_list_test = []\n",
        "accuracy_lookuptb_test = {}\n",
        "for x in x_range:\n",
        "  if np.random.uniform() > 0.1:\n",
        "    accuracy_list_test.append(calAccuracyTest(x))\n",
        "  else:\n",
        "    accuracy_list_test.append(np.random.uniform())\n",
        "  accuracy_lookuptb_test[x] = accuracy_list_test[-1]\n",
        "plt.plot(accuracy_list_test)\n",
        "plt.show()\n",
        "print(\"The max value locate at x = \", np.argmax(accuracy_list_test))"
      ],
      "execution_count": 147,
      "outputs": [
        {
          "output_type": "display_data",
          "data": {
            "image/png": "[encoded data removed]",
            "text/plain": [
              "<Figure size 432x288 with 1 Axes>"
            ]
          },
          "metadata": {
            "tags": []
          }
        },
        {
          "output_type": "stream",
          "text": [
            "The max value locate at x =  9\n"
          ],
          "name": "stdout"
        }
      ]
    },
    {
      "cell_type": "code",
      "metadata": {
        "id": "M-QTqoMAzU5z",
        "colab_type": "code",
        "colab": {
          "base_uri": "https://localhost:8080/",
          "height": 1000
        },
        "outputId": "fefd73c3-c154-428d-d076-da1405445a04"
      },
      "source": [
        "x = 140\n",
        "detection_test = detectTest(detect_range, x)\n",
        "cur_nor_state_test = scaler_state.transform([detection_test + [x]])[0]\n",
        "cur_state_test = scaler_state.inverse_transform([cur_nor_state_test])[0]\n",
        "\n",
        "init_state_test = cur_state_test\n",
        "init_nor_state_test = cur_nor_state_test\n",
        "prediction_test = []\n",
        "cur_state_test = init_state_test\n",
        "max_state_test = cur_state_test\n",
        "for step_ctr in tqdm(range(180)):\n",
        "  action_test = step_options[np.argmax(q_model.predict(cur_nor_state_test.reshape(1, 6)))]\n",
        "  while (action_test == 0):\n",
        "    action_test = np.random.choice([1, -1])\n",
        "  next_state_test, reward_test = stepTest(cur_state_test, action_test)\n",
        "  plt.scatter([next_state_test[-1]], [reward_test])\n",
        "  print(reward_test, cur_state_test[-1], action_test)\n",
        "  if reward_test > max_state_test[3]:\n",
        "    max_state_test = next_state_test\n",
        "  next_nor_state_test = scaler_state.transform([next_state_test])[0]\n",
        "  prediction_test.append(reward_test)\n",
        "  cur_state_test = next_state_test\n",
        "  cur_nor_state_test = next_nor_state_test\n",
        "# plt.plot(prediction_test)\n",
        "plt.plot(x_range, accuracy_list_test)\n",
        "plt.show()\n",
        "print(\"Cur state: \", cur_state_test)\n",
        "print(\"Max state found: \", max_state_test)"
      ],
      "execution_count": 148,
      "outputs": [
        {
          "output_type": "stream",
          "text": [
            "\n",
            "\n",
            "\n",
            "  0%|          | 0/180 [00:00<?, ?it/s]\u001b[A\u001b[A\u001b[A\n",
            "\n",
            "\n",
            " 10%|█         | 18/180 [00:00<00:00, 176.13it/s]\u001b[A\u001b[A\u001b[A\n",
            "\n",
            "\n",
            " 21%|██        | 37/180 [00:00<00:00, 179.34it/s]\u001b[A\u001b[A\u001b[A"
          ],
          "name": "stderr"
        },
        {
          "output_type": "stream",
          "text": [
            "0.6728914631213061 140.0 8\n",
            "0.6736564996698409 148 -3\n",
            "0.6728621888219822 145 -1\n",
            "0.6853938955492207 144 -3\n",
            "0.6905499841859755 141 -8\n",
            "0.6915498144921806 133 -3\n",
            "0.6901065723347051 130 -1\n",
            "0.6905592450816677 129 -3\n",
            "0.6994097100959482 126 -3\n",
            "0.697953214954208 123 -3\n",
            "0.7033151147860157 120 -3\n",
            "0.7186820421882364 117 -3\n",
            "0.7324070800731705 114 -3\n",
            "0.7446304084721989 111 -3\n",
            "0.7562750838130117 108 -3\n",
            "0.7560788299873639 105 -3\n",
            "0.7567800083600627 102 -3\n",
            "0.7477333457779722 99 -3\n",
            "0.7454356132250874 96 -3\n",
            "0.7440242831439972 93 -3\n",
            "0.7435465352371055 90 -3\n",
            "0.7470173246701168 87 -3\n",
            "0.7393978123815976 84 -3\n",
            "0.7424979797274458 81 -8\n",
            "0.7393978123815976 73 8\n",
            "0.7424979797274458 81 -8\n",
            "0.7393978123815976 73 8\n",
            "0.7424979797274458 81 -8\n",
            "0.7393978123815976 73 8\n",
            "0.7424979797274458 81 -8\n",
            "0.7393978123815976 73 8\n",
            "0.7424979797274458 81 -8\n",
            "0.7393978123815976 73 8\n",
            "0.7424979797274458 81 -8\n",
            "0.7393978123815976 73 8\n",
            "0.7424979797274458 81 -8\n",
            "0.7393978123815976 73 8\n",
            "0.7424979797274458 81 -8\n"
          ],
          "name": "stdout"
        },
        {
          "output_type": "stream",
          "text": [
            "\n",
            "\n",
            "\n",
            " 31%|███       | 56/180 [00:00<00:00, 181.26it/s]\u001b[A\u001b[A\u001b[A\n",
            "\n",
            "\n",
            " 42%|████▏     | 75/180 [00:00<00:00, 183.68it/s]\u001b[A\u001b[A\u001b[A"
          ],
          "name": "stderr"
        },
        {
          "output_type": "stream",
          "text": [
            "0.7393978123815976 73 8\n",
            "0.7424979797274458 81 -8\n",
            "0.7393978123815976 73 8\n",
            "0.7424979797274458 81 -8\n",
            "0.7393978123815976 73 8\n",
            "0.7424979797274458 81 -8\n",
            "0.7393978123815976 73 8\n",
            "0.7424979797274458 81 -8\n",
            "0.7393978123815976 73 8\n",
            "0.7424979797274458 81 -8\n",
            "0.7393978123815976 73 8\n",
            "0.7424979797274458 81 -8\n",
            "0.7393978123815976 73 8\n",
            "0.7424979797274458 81 -8\n",
            "0.7393978123815976 73 8\n",
            "0.7424979797274458 81 -8\n",
            "0.7393978123815976 73 8\n",
            "0.7424979797274458 81 -8\n",
            "0.7393978123815976 73 8\n",
            "0.7424979797274458 81 -8\n",
            "0.7393978123815976 73 8\n",
            "0.7424979797274458 81 -8\n",
            "0.7393978123815976 73 8\n",
            "0.7424979797274458 81 -8\n",
            "0.7393978123815976 73 8\n",
            "0.7424979797274458 81 -8\n",
            "0.7393978123815976 73 8\n",
            "0.7424979797274458 81 -8\n",
            "0.7393978123815976 73 8\n",
            "0.7424979797274458 81 -8\n",
            "0.7393978123815976 73 8\n",
            "0.7424979797274458 81 -8\n",
            "0.7393978123815976 73 8\n",
            "0.7424979797274458 81 -8\n",
            "0.7393978123815976 73 8\n",
            "0.7424979797274458 81 -8\n",
            "0.7393978123815976 73 8\n",
            "0.7424979797274458 81 -8\n",
            "0.7393978123815976"
          ],
          "name": "stdout"
        },
        {
          "output_type": "stream",
          "text": [
            "\n",
            "\n",
            "\n",
            " 53%|█████▎    | 95/180 [00:00<00:00, 185.87it/s]\u001b[A\u001b[A\u001b[A\n",
            "\n",
            "\n",
            " 63%|██████▎   | 114/180 [00:00<00:00, 187.01it/s]\u001b[A\u001b[A\u001b[A"
          ],
          "name": "stderr"
        },
        {
          "output_type": "stream",
          "text": [
            " 73 8\n",
            "0.7424979797274458 81 -8\n",
            "0.7393978123815976 73 8\n",
            "0.7424979797274458 81 -8\n",
            "0.7393978123815976 73 8\n",
            "0.7424979797274458 81 -8\n",
            "0.7393978123815976 73 8\n",
            "0.7424979797274458 81 -8\n",
            "0.7393978123815976 73 8\n",
            "0.7424979797274458 81 -8\n",
            "0.7393978123815976 73 8\n",
            "0.7424979797274458 81 -8\n",
            "0.7393978123815976 73 8\n",
            "0.7424979797274458 81 -8\n",
            "0.7393978123815976 73 8\n",
            "0.7424979797274458 81 -8\n",
            "0.7393978123815976 73 8\n",
            "0.7424979797274458 81 -8\n",
            "0.7393978123815976 73 8\n",
            "0.7424979797274458 81 -8\n",
            "0.7393978123815976 73 8\n",
            "0.7424979797274458 81 -8\n",
            "0.7393978123815976 73 8\n",
            "0.7424979797274458 81 -8\n",
            "0.7393978123815976 73 8\n",
            "0.7424979797274458 81 -8\n",
            "0.7393978123815976 73 8\n",
            "0.7424979797274458 81 -8\n",
            "0.7393978123815976 73 8\n",
            "0.7424979797274458 81 -8\n",
            "0.7393978123815976 73 8\n",
            "0.7424979797274458 81 -8\n",
            "0.7393978123815976 73 8\n",
            "0.7424979797274458 81 -8\n",
            "0.7393978123815976 73 8\n",
            "0.7424979797274458 81 -8\n",
            "0.7393978123815976 73 8\n",
            "0.7424979797274458 81 -8\n",
            "0.7393978123815976 73 8\n"
          ],
          "name": "stdout"
        },
        {
          "output_type": "stream",
          "text": [
            "\n",
            "\n",
            "\n",
            " 74%|███████▍  | 133/180 [00:00<00:00, 187.02it/s]\u001b[A\u001b[A\u001b[A\n",
            "\n",
            "\n",
            " 84%|████████▍ | 152/180 [00:00<00:00, 186.98it/s]\u001b[A\u001b[A\u001b[A"
          ],
          "name": "stderr"
        },
        {
          "output_type": "stream",
          "text": [
            "0.7424979797274458 81 -8\n",
            "0.7393978123815976 73 8\n",
            "0.7424979797274458 81 -8\n",
            "0.7393978123815976 73 8\n",
            "0.7424979797274458 81 -8\n",
            "0.7393978123815976 73 8\n",
            "0.7424979797274458 81 -8\n",
            "0.7393978123815976 73 8\n",
            "0.7424979797274458 81 -8\n",
            "0.7393978123815976 73 8\n",
            "0.7424979797274458 81 -8\n",
            "0.7393978123815976 73 8\n",
            "0.7424979797274458 81 -8\n",
            "0.7393978123815976 73 8\n",
            "0.7424979797274458 81 -8\n",
            "0.7393978123815976 73 8\n",
            "0.7424979797274458 81 -8\n",
            "0.7393978123815976 73 8\n",
            "0.7424979797274458 81 -8\n",
            "0.7393978123815976 73 8\n",
            "0.7424979797274458 81 -8\n",
            "0.7393978123815976 73 8\n",
            "0.7424979797274458 81 -8\n",
            "0.7393978123815976 73 8\n",
            "0.7424979797274458 81 -8\n",
            "0.7393978123815976 73 8\n",
            "0.7424979797274458 81 -8\n",
            "0.7393978123815976 73 8\n",
            "0.7424979797274458 81 -8\n",
            "0.7393978123815976 73 8\n",
            "0.7424979797274458 81 -8\n",
            "0.7393978123815976 73 8\n",
            "0.7424979797274458 81 -8\n",
            "0.7393978123815976 73 8\n",
            "0.7424979797274458 81 -8\n",
            "0.7393978123815976 73 8\n",
            "0.7424979797274458 81 -8\n",
            "0.7393978123815976"
          ],
          "name": "stdout"
        },
        {
          "output_type": "stream",
          "text": [
            "\n",
            "\n",
            "\n",
            " 94%|█████████▍| 170/180 [00:00<00:00, 182.28it/s]\u001b[A\u001b[A\u001b[A\n",
            "\n",
            "\n",
            "100%|██████████| 180/180 [00:00<00:00, 184.16it/s]\u001b[A\u001b[A\u001b[A"
          ],
          "name": "stderr"
        },
        {
          "output_type": "stream",
          "text": [
            " 73 8\n",
            "0.7424979797274458 81 -8\n",
            "0.7393978123815976 73 8\n",
            "0.7424979797274458 81 -8\n",
            "0.7393978123815976 73 8\n",
            "0.7424979797274458 81 -8\n",
            "0.7393978123815976 73 8\n",
            "0.7424979797274458 81 -8\n",
            "0.7393978123815976 73 8\n",
            "0.7424979797274458 81 -8\n",
            "0.7393978123815976 73 8\n",
            "0.7424979797274458 81 -8\n",
            "0.7393978123815976 73 8\n",
            "0.7424979797274458 81 -8\n",
            "0.7393978123815976 73 8\n",
            "0.7424979797274458 81 -8\n",
            "0.7393978123815976 73 8\n",
            "0.7424979797274458 81 -8\n",
            "0.7393978123815976 73 8\n",
            "0.7424979797274458 81 -8\n",
            "0.7393978123815976 73 8\n",
            "0.7424979797274458 81 -8\n",
            "0.7393978123815976 73 8\n",
            "0.7424979797274458 81 -8\n",
            "0.7393978123815976 73 8\n",
            "0.7424979797274458 81 -8\n",
            "0.7393978123815976 73 8\n",
            "0.7424979797274458 81 -8\n"
          ],
          "name": "stdout"
        },
        {
          "output_type": "display_data",
          "data": {
            "image/png": "[encoded data removed]",
            "text/plain": [
              "<Figure size 432x288 with 1 Axes>"
            ]
          },
          "metadata": {
            "tags": []
          }
        },
        {
          "output_type": "stream",
          "text": [
            "Cur state:  [0.12086261479215177, 0.7450027336704494, 0.7424979797274458, 0.7393290623985922, 0.7397732505179639, 73]\n",
            "Max state found:  [0.6872366021261636, 0.6901065723347051, 0.6915498144921806, 0.798144863577895, 0.6905499841859755, 130]\n"
          ],
          "name": "stdout"
        }
      ]
    },
    {
      "cell_type": "markdown",
      "metadata": {
        "id": "VguGWTm61-Z5",
        "colab_type": "text"
      },
      "source": [
        "## Test by non-relevant function"
      ]
    },
    {
      "cell_type": "code",
      "metadata": {
        "id": "hWD7xIRHzYyA",
        "colab_type": "code",
        "colab": {
          "base_uri": "https://localhost:8080/",
          "height": 282
        },
        "outputId": "8201576f-3117-4674-d662-b2e14246b3d5"
      },
      "source": [
        "X = np.concatenate((X_train, X_test))\n",
        "Y = np.concatenate((Y_train, Y_test))\n",
        "train_indices = np.random.choice(X.shape[0], 300, replace=False)\n",
        "test_indices = np.array([x for x in range(X.shape[0]) if x not in train_indices])\n",
        "X_train_test = X[train_indices]\n",
        "X_test_test = X[test_indices]\n",
        "Y_train_test = Y[train_indices]\n",
        "Y_test_test = Y[test_indices]\n",
        "accuracy_list_test = []\n",
        "accuracy_lookuptb_test = {}\n",
        "for x in x_range:\n",
        "  if np.random.uniform() > 0:\n",
        "    accuracy_list_test.append(np.sin(x/10))\n",
        "  else:\n",
        "    accuracy_list_test.append(np.random.uniform())\n",
        "  accuracy_lookuptb_test[x] = accuracy_list_test[-1]\n",
        "plt.plot(accuracy_list_test)\n",
        "plt.show()\n",
        "print(\"The max value locate at x = \", np.argmax(accuracy_list_test))"
      ],
      "execution_count": 157,
      "outputs": [
        {
          "output_type": "display_data",
          "data": {
            "image/png": "[encoded data removed]",
            "text/plain": [
              "<Figure size 432x288 with 1 Axes>"
            ]
          },
          "metadata": {
            "tags": []
          }
        },
        {
          "output_type": "stream",
          "text": [
            "The max value locate at x =  15\n"
          ],
          "name": "stdout"
        }
      ]
    },
    {
      "cell_type": "code",
      "metadata": {
        "id": "ZiItriWR2Pzo",
        "colab_type": "code",
        "colab": {
          "base_uri": "https://localhost:8080/",
          "height": 1000
        },
        "outputId": "3969c62f-5302-487c-f1cd-04357a5d3867"
      },
      "source": [
        "x = 121\n",
        "detection_test = detectTest(detect_range, x)\n",
        "cur_nor_state_test = scaler_state.transform([detection_test + [x]])[0]\n",
        "cur_state_test = scaler_state.inverse_transform([cur_nor_state_test])[0]\n",
        "\n",
        "init_state_test = cur_state_test\n",
        "init_nor_state_test = cur_nor_state_test\n",
        "prediction_test = []\n",
        "cur_state_test = init_state_test\n",
        "max_state_test = cur_state_test\n",
        "for step_ctr in tqdm(range(180)):\n",
        "  action_test = step_options[np.argmax(q_model.predict(cur_nor_state_test.reshape(1, 6)))]\n",
        "  while (action_test == 0):\n",
        "    action_test = np.random.choice([1, -1])\n",
        "  next_state_test, reward_test = stepTest(cur_state_test, action_test)\n",
        "  plt.scatter([next_state_test[-1]], [reward_test])\n",
        "  print(reward_test, cur_state_test[-1], action_test)\n",
        "  if reward_test > max_state_test[3]:\n",
        "    max_state_test = next_state_test\n",
        "  next_nor_state_test = scaler_state.transform([next_state_test])[0]\n",
        "  prediction_test.append(reward_test)\n",
        "  cur_state_test = next_state_test\n",
        "  cur_nor_state_test = next_nor_state_test\n",
        "# plt.plot(prediction_test)\n",
        "plt.plot(x_range, accuracy_list_test)\n",
        "plt.show()\n",
        "print(\"Cur state: \", cur_state_test)\n",
        "print(\"Max state found: \", max_state_test)"
      ],
      "execution_count": 163,
      "outputs": [
        {
          "output_type": "stream",
          "text": [
            "\n",
            "\n",
            "\n",
            "  0%|          | 0/180 [00:00<?, ?it/s]\u001b[A\u001b[A\u001b[A\n",
            "\n",
            "\n",
            "  9%|▉         | 17/180 [00:00<00:00, 168.01it/s]\u001b[A\u001b[A\u001b[A\n",
            "\n",
            "\n",
            " 21%|██        | 38/180 [00:00<00:00, 177.20it/s]\u001b[A\u001b[A\u001b[A"
          ],
          "name": "stderr"
        },
        {
          "output_type": "stream",
          "text": [
            "0.32747443913769303 120.99999999999999 8\n",
            "-0.44964746453460147 129 -8\n",
            "0.32747443913769303 121 8\n",
            "-0.44964746453460147 129 -8\n",
            "0.32747443913769303 121 8\n",
            "-0.44964746453460147 129 -8\n",
            "0.32747443913769303 121 8\n",
            "-0.44964746453460147 129 -8\n",
            "0.32747443913769303 121 8\n",
            "-0.44964746453460147 129 -8\n",
            "0.32747443913769303 121 8\n",
            "-0.44964746453460147 129 -8\n",
            "0.32747443913769303 121 8\n",
            "-0.44964746453460147 129 -8\n",
            "0.32747443913769303 121 8\n",
            "-0.44964746453460147 129 -8\n",
            "0.32747443913769303 121 8\n",
            "-0.44964746453460147 129 -8\n",
            "0.32747443913769303 121 8\n",
            "-0.44964746453460147 129 -8\n",
            "0.32747443913769303 121 8\n",
            "-0.44964746453460147 129 -8\n",
            "0.32747443913769303 121 8\n",
            "-0.44964746453460147 129 -8\n",
            "0.32747443913769303 121 8\n",
            "-0.44964746453460147 129 -8\n",
            "0.32747443913769303 121 8\n",
            "-0.44964746453460147 129 -8\n",
            "0.32747443913769303 121 8\n",
            "-0.44964746453460147 129 -8\n",
            "0.32747443913769303 121 8\n",
            "-0.44964746453460147 129 -8\n",
            "0.32747443913769303 121 8\n",
            "-0.44964746453460147 129 -8\n",
            "0.32747443913769303 121 8\n",
            "-0.44964746453460147 129 -8\n",
            "0.32747443913769303 121 8\n",
            "-0.44964746453460147 129 -8\n",
            "0.32747443913769303 121 8\n",
            "-0.44964746453460147 "
          ],
          "name": "stdout"
        },
        {
          "output_type": "stream",
          "text": [
            "\n",
            "\n",
            "\n",
            " 31%|███       | 56/180 [00:00<00:00, 176.58it/s]\u001b[A\u001b[A\u001b[A\n",
            "\n",
            "\n",
            " 42%|████▏     | 75/180 [00:00<00:00, 180.20it/s]\u001b[A\u001b[A\u001b[A"
          ],
          "name": "stderr"
        },
        {
          "output_type": "stream",
          "text": [
            "129 -8\n",
            "0.32747443913769303 121 8\n",
            "-0.44964746453460147 129 -8\n",
            "0.32747443913769303 121 8\n",
            "-0.44964746453460147 129 -8\n",
            "0.32747443913769303 121 8\n",
            "-0.44964746453460147 129 -8\n",
            "0.32747443913769303 121 8\n",
            "-0.44964746453460147 129 -8\n",
            "0.32747443913769303 121 8\n",
            "-0.44964746453460147 129 -8\n",
            "0.32747443913769303 121 8\n",
            "-0.44964746453460147 129 -8\n",
            "0.32747443913769303 121 8\n",
            "-0.44964746453460147 129 -8\n",
            "0.32747443913769303 121 8\n",
            "-0.44964746453460147 129 -8\n",
            "0.32747443913769303 121 8\n",
            "-0.44964746453460147 129 -8\n",
            "0.32747443913769303 121 8\n",
            "-0.44964746453460147 129 -8\n",
            "0.32747443913769303 121 8\n",
            "-0.44964746453460147 129 -8\n",
            "0.32747443913769303 121 8\n",
            "-0.44964746453460147 129 -8\n",
            "0.32747443913769303 121 8\n",
            "-0.44964746453460147 129 -8\n",
            "0.32747443913769303 121 8\n",
            "-0.44964746453460147 129 -8\n",
            "0.32747443913769303 121 8\n",
            "-0.44964746453460147 129 -8\n",
            "0.32747443913769303 121 8\n",
            "-0.44964746453460147 129 -8\n",
            "0.32747443913769303 121 8\n",
            "-0.44964746453460147 129 -8\n",
            "0.32747443913769303 121 8\n",
            "-0.44964746453460147 129 -8\n",
            "0.32747443913769303 121 8\n",
            "-0.44964746453460147 129 -8\n"
          ],
          "name": "stdout"
        },
        {
          "output_type": "stream",
          "text": [
            "\n",
            "\n",
            "\n",
            " 52%|█████▏    | 94/180 [00:00<00:00, 181.22it/s]\u001b[A\u001b[A\u001b[A\n",
            "\n",
            "\n",
            " 63%|██████▎   | 113/180 [00:00<00:00, 181.36it/s]\u001b[A\u001b[A\u001b[A"
          ],
          "name": "stderr"
        },
        {
          "output_type": "stream",
          "text": [
            "0.32747443913769303 121 8\n",
            "-0.44964746453460147 129 -8\n",
            "0.32747443913769303 121 8\n",
            "-0.44964746453460147 129 -8\n",
            "0.32747443913769303 121 8\n",
            "-0.44964746453460147 129 -8\n",
            "0.32747443913769303 121 8\n",
            "-0.44964746453460147 129 -8\n",
            "0.32747443913769303 121 8\n",
            "-0.44964746453460147 129 -8\n",
            "0.32747443913769303 121 8\n",
            "-0.44964746453460147 129 -8\n",
            "0.32747443913769303 121 8\n",
            "-0.44964746453460147 129 -8\n",
            "0.32747443913769303 121 8\n",
            "-0.44964746453460147 129 -8\n",
            "0.32747443913769303 121 8\n",
            "-0.44964746453460147 129 -8\n",
            "0.32747443913769303 121 8\n",
            "-0.44964746453460147 129 -8\n",
            "0.32747443913769303 121 8\n",
            "-0.44964746453460147 129 -8\n",
            "0.32747443913769303 121 8\n",
            "-0.44964746453460147 129 -8\n",
            "0.32747443913769303 121 8\n",
            "-0.44964746453460147 129 -8\n",
            "0.32747443913769303 121 8\n",
            "-0.44964746453460147 129 -8\n",
            "0.32747443913769303 121 8\n",
            "-0.44964746453460147 129 -8\n",
            "0.32747443913769303 121 8\n",
            "-0.44964746453460147 129 -8\n",
            "0.32747443913769303 121 8\n",
            "-0.44964746453460147 129 -8\n",
            "0.32747443913769303 121 8\n",
            "-0.44964746453460147 129 -8\n",
            "0.32747443913769303 121 8\n"
          ],
          "name": "stdout"
        },
        {
          "output_type": "stream",
          "text": [
            "\n",
            "\n",
            "\n",
            " 73%|███████▎  | 131/180 [00:00<00:00, 178.30it/s]\u001b[A\u001b[A\u001b[A\n",
            "\n",
            "\n",
            " 83%|████████▎ | 149/180 [00:00<00:00, 176.14it/s]\u001b[A\u001b[A\u001b[A"
          ],
          "name": "stderr"
        },
        {
          "output_type": "stream",
          "text": [
            "-0.44964746453460147 129 -8\n",
            "0.32747443913769303 121 8\n",
            "-0.44964746453460147 129 -8\n",
            "0.32747443913769303 121 8\n",
            "-0.44964746453460147 129 -8\n",
            "0.32747443913769303 121 8\n",
            "-0.44964746453460147 129 -8\n",
            "0.32747443913769303 121 8\n",
            "-0.44964746453460147 129 -8\n",
            "0.32747443913769303 121 8\n",
            "-0.44964746453460147 129 -8\n",
            "0.32747443913769303 121 8\n",
            "-0.44964746453460147 129 -8\n",
            "0.32747443913769303 121 8\n",
            "-0.44964746453460147 129 -8\n",
            "0.32747443913769303 121 8\n",
            "-0.44964746453460147 129 -8\n",
            "0.32747443913769303 121 8\n",
            "-0.44964746453460147 129 -8\n",
            "0.32747443913769303 121 8\n",
            "-0.44964746453460147 129 -8\n",
            "0.32747443913769303 121 8\n",
            "-0.44964746453460147 129 -8\n",
            "0.32747443913769303 121 8\n",
            "-0.44964746453460147 129 -8\n",
            "0.32747443913769303 121 8\n",
            "-0.44964746453460147 129 -8\n",
            "0.32747443913769303 121 8\n",
            "-0.44964746453460147 129 -8\n",
            "0.32747443913769303 121 8\n",
            "-0.44964746453460147 129 -8\n",
            "0.32747443913769303 121 8\n",
            "-0.44964746453460147 129 -8\n",
            "0.32747443913769303 121 8\n",
            "-0.44964746453460147 129 -8\n"
          ],
          "name": "stdout"
        },
        {
          "output_type": "stream",
          "text": [
            "\n",
            "\n",
            "\n",
            " 93%|█████████▎| 167/180 [00:00<00:00, 175.06it/s]\u001b[A\u001b[A\u001b[A\n",
            "\n",
            "\n",
            "100%|██████████| 180/180 [00:01<00:00, 177.94it/s]\u001b[A\u001b[A\u001b[A"
          ],
          "name": "stderr"
        },
        {
          "output_type": "stream",
          "text": [
            "0.32747443913769303 121 8\n",
            "-0.44964746453460147 129 -8\n",
            "0.32747443913769303 121 8\n",
            "-0.44964746453460147 129 -8\n",
            "0.32747443913769303 121 8\n",
            "-0.44964746453460147 129 -8\n",
            "0.32747443913769303 121 8\n",
            "-0.44964746453460147 129 -8\n",
            "0.32747443913769303 121 8\n",
            "-0.44964746453460147 129 -8\n",
            "0.32747443913769303 121 8\n",
            "-0.44964746453460147 129 -8\n",
            "0.32747443913769303 121 8\n",
            "-0.44964746453460147 129 -8\n",
            "0.32747443913769303 121 8\n",
            "-0.44964746453460147 129 -8\n",
            "0.32747443913769303 121 8\n",
            "-0.44964746453460147 129 -8\n",
            "0.32747443913769303 121 8\n",
            "-0.44964746453460147 129 -8\n",
            "0.32747443913769303 121 8\n",
            "-0.44964746453460147 129 -8\n",
            "0.32747443913769303 121 8\n",
            "-0.44964746453460147 129 -8\n",
            "0.32747443913769303 121 8\n",
            "-0.44964746453460147 129 -8\n",
            "0.32747443913769303 121 8\n",
            "-0.44964746453460147 129 -8\n",
            "0.32747443913769303 121 8\n",
            "-0.44964746453460147 129 -8\n"
          ],
          "name": "stdout"
        },
        {
          "output_type": "display_data",
          "data": {
            "image/png": "[encoded data removed]",
            "text/plain": [
              "<Figure size 432x288 with 1 Axes>"
            ]
          },
          "metadata": {
            "tags": []
          }
        },
        {
          "output_type": "stream",
          "text": [
            "Cur state:  [-0.6935250847771224, -0.5365729180004349, -0.44964746453460147, -0.3582292822368287, -0.1656041754483094, 121]\n",
            "Max state found:  [0.033623047221136695, 0.23150982510153895, 0.32747443913769303, 0.4201670368266409, 0.592073514707223, 129]\n"
          ],
          "name": "stdout"
        }
      ]
    },
    {
      "cell_type": "markdown",
      "metadata": {
        "id": "HxCXoIou4U5r",
        "colab_type": "text"
      },
      "source": [
        "## Generate 1000 graphs"
      ]
    },
    {
      "cell_type": "code",
      "metadata": {
        "id": "DtPGXbq52QHp",
        "colab_type": "code",
        "colab": {
          "base_uri": "https://localhost:8080/",
          "height": 1000
        },
        "outputId": "ce07c113-39b7-4e6f-f449-f875a3a5b699"
      },
      "source": [
        "max_x_list = []\n",
        "converge_x_list = []\n",
        "\n",
        "for _ in tqdm(range(30)):\n",
        "  X = np.concatenate((X_train, X_test))\n",
        "  Y = np.concatenate((Y_train, Y_test))\n",
        "  train_indices = np.random.choice(X.shape[0], 300, replace=False)\n",
        "  test_indices = np.array([x for x in range(X.shape[0]) if x not in train_indices])\n",
        "  X_train_test = X[train_indices]\n",
        "  X_test_test = X[test_indices]\n",
        "  Y_train_test = Y[train_indices]\n",
        "  Y_test_test = Y[test_indices]\n",
        "  accuracy_list_test = []\n",
        "  accuracy_lookuptb_test = {}\n",
        "  for x in x_range:\n",
        "    if np.random.uniform() > 0:\n",
        "      accuracy_list_test.append(calAccuracyTest(x))\n",
        "    else:\n",
        "      accuracy_list_test.append(np.random.uniform())\n",
        "    accuracy_lookuptb_test[x] = accuracy_list_test[-1]\n",
        "  max_x_list.append(np.argmax(accuracy_list_test))\n",
        "\n",
        "\n",
        "  x = 121\n",
        "  detection_test = detectTest(detect_range, x)\n",
        "  cur_nor_state_test = scaler_state.transform([detection_test + [x]])[0]\n",
        "  cur_state_test = scaler_state.inverse_transform([cur_nor_state_test])[0]\n",
        "\n",
        "  init_state_test = cur_state_test\n",
        "  init_nor_state_test = cur_nor_state_test\n",
        "  prediction_test = []\n",
        "  cur_state_test = init_state_test\n",
        "  max_state_test = cur_state_test\n",
        "  for step_ctr in range(180):\n",
        "    action_test = step_options[np.argmax(q_model.predict(cur_nor_state_test.reshape(1, 6)))]\n",
        "    while (action_test == 0):\n",
        "      action_test = np.random.choice([1, -1])\n",
        "    next_state_test, reward_test = stepTest(cur_state_test, action_test)\n",
        "    # plt.scatter([next_state_test[-1]], [reward_test])\n",
        "    # print(reward_test, cur_state_test[-1], action_test)\n",
        "    if reward_test > max_state_test[3]:\n",
        "      max_state_test = next_state_test\n",
        "    next_nor_state_test = scaler_state.transform([next_state_test])[0]\n",
        "    prediction_test.append(reward_test)\n",
        "    cur_state_test = next_state_test\n",
        "    cur_nor_state_test = next_nor_state_test\n",
        "  # plt.plot(prediction_test)\n",
        "\n",
        "  converge_x_list.append(cur_state_test[-1])\n",
        "  # print(\"Cur state: \", cur_state_test)\n",
        "  # print(\"Max state found: \", max_state_test)\n",
        "\n",
        "plt.plot(range(30), max_x_list)\n",
        "plt.scatter(range(30), converge_x_list)"
      ],
      "execution_count": 175,
      "outputs": [
        {
          "output_type": "stream",
          "text": [
            "\n",
            "\n",
            "\n",
            "\n",
            "\n",
            "\n",
            "  0%|          | 0/30 [00:00<?, ?it/s]\u001b[A\u001b[A\u001b[A\u001b[A\u001b[A\u001b[A\n",
            "\n",
            "\n",
            "\n",
            "\n",
            "\n",
            "  3%|▎         | 1/30 [00:13<06:31, 13.51s/it]\u001b[A\u001b[A\u001b[A\u001b[A\u001b[A\u001b[A\n",
            "\n",
            "\n",
            "\n",
            "\n",
            "\n",
            "  7%|▋         | 2/30 [00:26<06:16, 13.43s/it]\u001b[A\u001b[A\u001b[A\u001b[A\u001b[A\u001b[A\n",
            "\n",
            "\n",
            "\n",
            "\n",
            "\n",
            " 10%|█         | 3/30 [00:40<06:04, 13.50s/it]\u001b[A\u001b[A\u001b[A\u001b[A\u001b[A\u001b[A\n",
            "\n",
            "\n",
            "\n",
            "\n",
            "\n",
            " 13%|█▎        | 4/30 [00:54<05:52, 13.54s/it]\u001b[A\u001b[A\u001b[A\u001b[A\u001b[A\u001b[A\n",
            "\n",
            "\n",
            "\n",
            "\n",
            "\n",
            " 17%|█▋        | 5/30 [01:07<05:39, 13.57s/it]\u001b[A\u001b[A\u001b[A\u001b[A\u001b[A\u001b[A\n",
            "\n",
            "\n",
            "\n",
            "\n",
            "\n",
            " 20%|██        | 6/30 [01:21<05:24, 13.51s/it]\u001b[A\u001b[A\u001b[A\u001b[A\u001b[A\u001b[A\n",
            "\n",
            "\n",
            "\n",
            "\n",
            "\n",
            " 23%|██▎       | 7/30 [01:34<05:09, 13.47s/it]\u001b[A\u001b[A\u001b[A\u001b[A\u001b[A\u001b[A\n",
            "\n",
            "\n",
            "\n",
            "\n",
            "\n",
            " 27%|██▋       | 8/30 [01:47<04:54, 13.37s/it]\u001b[A\u001b[A\u001b[A\u001b[A\u001b[A\u001b[A\n",
            "\n",
            "\n",
            "\n",
            "\n",
            "\n",
            " 30%|███       | 9/30 [02:01<04:41, 13.41s/it]\u001b[A\u001b[A\u001b[A\u001b[A\u001b[A\u001b[A\n",
            "\n",
            "\n",
            "\n",
            "\n",
            "\n",
            " 33%|███▎      | 10/30 [02:14<04:26, 13.34s/it]\u001b[A\u001b[A\u001b[A\u001b[A\u001b[A\u001b[A\n",
            "\n",
            "\n",
            "\n",
            "\n",
            "\n",
            " 37%|███▋      | 11/30 [02:27<04:13, 13.36s/it]\u001b[A\u001b[A\u001b[A\u001b[A\u001b[A\u001b[A\n",
            "\n",
            "\n",
            "\n",
            "\n",
            "\n",
            " 40%|████      | 12/30 [02:40<03:58, 13.27s/it]\u001b[A\u001b[A\u001b[A\u001b[A\u001b[A\u001b[A\n",
            "\n",
            "\n",
            "\n",
            "\n",
            "\n",
            " 43%|████▎     | 13/30 [02:54<03:46, 13.31s/it]\u001b[A\u001b[A\u001b[A\u001b[A\u001b[A\u001b[A\n",
            "\n",
            "\n",
            "\n",
            "\n",
            "\n",
            " 47%|████▋     | 14/30 [03:07<03:31, 13.23s/it]\u001b[A\u001b[A\u001b[A\u001b[A\u001b[A\u001b[A\n",
            "\n",
            "\n",
            "\n",
            "\n",
            "\n",
            " 50%|█████     | 15/30 [03:20<03:18, 13.25s/it]\u001b[A\u001b[A\u001b[A\u001b[A\u001b[A\u001b[A\n",
            "\n",
            "\n",
            "\n",
            "\n",
            "\n",
            " 53%|█████▎    | 16/30 [03:33<03:04, 13.20s/it]\u001b[A\u001b[A\u001b[A\u001b[A\u001b[A\u001b[A\n",
            "\n",
            "\n",
            "\n",
            "\n",
            "\n",
            " 57%|█████▋    | 17/30 [03:46<02:51, 13.18s/it]\u001b[A\u001b[A\u001b[A\u001b[A\u001b[A\u001b[A\n",
            "\n",
            "\n",
            "\n",
            "\n",
            "\n",
            " 60%|██████    | 18/30 [03:59<02:37, 13.11s/it]\u001b[A\u001b[A\u001b[A\u001b[A\u001b[A\u001b[A\n",
            "\n",
            "\n",
            "\n",
            "\n",
            "\n",
            " 63%|██████▎   | 19/30 [04:12<02:24, 13.13s/it]\u001b[A\u001b[A\u001b[A\u001b[A\u001b[A\u001b[A\n",
            "\n",
            "\n",
            "\n",
            "\n",
            "\n",
            " 67%|██████▋   | 20/30 [04:25<02:10, 13.04s/it]\u001b[A\u001b[A\u001b[A\u001b[A\u001b[A\u001b[A\n",
            "\n",
            "\n",
            "\n",
            "\n",
            "\n",
            " 70%|███████   | 21/30 [04:38<01:57, 13.05s/it]\u001b[A\u001b[A\u001b[A\u001b[A\u001b[A\u001b[A\n",
            "\n",
            "\n",
            "\n",
            "\n",
            "\n",
            " 73%|███████▎  | 22/30 [04:51<01:44, 13.06s/it]\u001b[A\u001b[A\u001b[A\u001b[A\u001b[A\u001b[A\n",
            "\n",
            "\n",
            "\n",
            "\n",
            "\n",
            " 77%|███████▋  | 23/30 [05:05<01:32, 13.19s/it]\u001b[A\u001b[A\u001b[A\u001b[A\u001b[A\u001b[A\n",
            "\n",
            "\n",
            "\n",
            "\n",
            "\n",
            " 80%|████████  | 24/30 [05:18<01:18, 13.14s/it]\u001b[A\u001b[A\u001b[A\u001b[A\u001b[A\u001b[A\n",
            "\n",
            "\n",
            "\n",
            "\n",
            "\n",
            " 83%|████████▎ | 25/30 [05:31<01:05, 13.18s/it]\u001b[A\u001b[A\u001b[A\u001b[A\u001b[A\u001b[A\n",
            "\n",
            "\n",
            "\n",
            "\n",
            "\n",
            " 87%|████████▋ | 26/30 [05:44<00:52, 13.11s/it]\u001b[A\u001b[A\u001b[A\u001b[A\u001b[A\u001b[A\n",
            "\n",
            "\n",
            "\n",
            "\n",
            "\n",
            " 90%|█████████ | 27/30 [05:57<00:39, 13.18s/it]\u001b[A\u001b[A\u001b[A\u001b[A\u001b[A\u001b[A\n",
            "\n",
            "\n",
            "\n",
            "\n",
            "\n",
            " 93%|█████████▎| 28/30 [06:10<00:26, 13.13s/it]\u001b[A\u001b[A\u001b[A\u001b[A\u001b[A\u001b[A\n",
            "\n",
            "\n",
            "\n",
            "\n",
            "\n",
            " 97%|█████████▋| 29/30 [06:24<00:13, 13.19s/it]\u001b[A\u001b[A\u001b[A\u001b[A\u001b[A\u001b[A\n",
            "\n",
            "\n",
            "\n",
            "\n",
            "\n",
            "100%|██████████| 30/30 [06:37<00:00, 13.14s/it]\u001b[A\u001b[A\u001b[A\u001b[A\u001b[A\u001b[A\n",
            "\n",
            "\n",
            "\n",
            "\n",
            "\n",
            "\u001b[A\u001b[A\u001b[A\u001b[A\u001b[A\u001b[A"
          ],
          "name": "stderr"
        },
        {
          "output_type": "error",
          "ename": "ValueError",
          "evalue": "ignored",
          "traceback": [
            "\u001b[0;31m---------------------------------------------------------------------------\u001b[0m",
            "\u001b[0;31mValueError\u001b[0m                                Traceback (most recent call last)",
            "\u001b[0;32m<ipython-input-175-de201d33ec0e>\u001b[0m in \u001b[0;36m<module>\u001b[0;34m()\u001b[0m\n\u001b[1;32m     51\u001b[0m   \u001b[0;31m# print(\"Max state found: \", max_state_test)\u001b[0m\u001b[0;34m\u001b[0m\u001b[0;34m\u001b[0m\u001b[0;34m\u001b[0m\u001b[0m\n\u001b[1;32m     52\u001b[0m \u001b[0;34m\u001b[0m\u001b[0m\n\u001b[0;32m---> 53\u001b[0;31m \u001b[0mplt\u001b[0m\u001b[0;34m.\u001b[0m\u001b[0mplot\u001b[0m\u001b[0;34m(\u001b[0m\u001b[0mrange\u001b[0m\u001b[0;34m(\u001b[0m\u001b[0;36m5\u001b[0m\u001b[0;34m)\u001b[0m\u001b[0;34m,\u001b[0m \u001b[0mmax_x_list\u001b[0m\u001b[0;34m)\u001b[0m\u001b[0;34m\u001b[0m\u001b[0;34m\u001b[0m\u001b[0m\n\u001b[0m\u001b[1;32m     54\u001b[0m \u001b[0mplt\u001b[0m\u001b[0;34m.\u001b[0m\u001b[0mscatter\u001b[0m\u001b[0;34m(\u001b[0m\u001b[0mrange\u001b[0m\u001b[0;34m(\u001b[0m\u001b[0;36m5\u001b[0m\u001b[0;34m)\u001b[0m\u001b[0;34m,\u001b[0m \u001b[0mconverge_x_list\u001b[0m\u001b[0;34m)\u001b[0m\u001b[0;34m\u001b[0m\u001b[0;34m\u001b[0m\u001b[0m\n",
            "\u001b[0;32m/usr/local/lib/python3.6/dist-packages/matplotlib/pyplot.py\u001b[0m in \u001b[0;36mplot\u001b[0;34m(scalex, scaley, data, *args, **kwargs)\u001b[0m\n\u001b[1;32m   2761\u001b[0m     return gca().plot(\n\u001b[1;32m   2762\u001b[0m         *args, scalex=scalex, scaley=scaley, **({\"data\": data} if data\n\u001b[0;32m-> 2763\u001b[0;31m         is not None else {}), **kwargs)\n\u001b[0m\u001b[1;32m   2764\u001b[0m \u001b[0;34m\u001b[0m\u001b[0m\n\u001b[1;32m   2765\u001b[0m \u001b[0;34m\u001b[0m\u001b[0m\n",
            "\u001b[0;32m/usr/local/lib/python3.6/dist-packages/matplotlib/axes/_axes.py\u001b[0m in \u001b[0;36mplot\u001b[0;34m(self, scalex, scaley, data, *args, **kwargs)\u001b[0m\n\u001b[1;32m   1644\u001b[0m         \"\"\"\n\u001b[1;32m   1645\u001b[0m         \u001b[0mkwargs\u001b[0m \u001b[0;34m=\u001b[0m \u001b[0mcbook\u001b[0m\u001b[0;34m.\u001b[0m\u001b[0mnormalize_kwargs\u001b[0m\u001b[0;34m(\u001b[0m\u001b[0mkwargs\u001b[0m\u001b[0;34m,\u001b[0m \u001b[0mmlines\u001b[0m\u001b[0;34m.\u001b[0m\u001b[0mLine2D\u001b[0m\u001b[0;34m)\u001b[0m\u001b[0;34m\u001b[0m\u001b[0;34m\u001b[0m\u001b[0m\n\u001b[0;32m-> 1646\u001b[0;31m         \u001b[0mlines\u001b[0m \u001b[0;34m=\u001b[0m \u001b[0;34m[\u001b[0m\u001b[0;34m*\u001b[0m\u001b[0mself\u001b[0m\u001b[0;34m.\u001b[0m\u001b[0m_get_lines\u001b[0m\u001b[0;34m(\u001b[0m\u001b[0;34m*\u001b[0m\u001b[0margs\u001b[0m\u001b[0;34m,\u001b[0m \u001b[0mdata\u001b[0m\u001b[0;34m=\u001b[0m\u001b[0mdata\u001b[0m\u001b[0;34m,\u001b[0m \u001b[0;34m**\u001b[0m\u001b[0mkwargs\u001b[0m\u001b[0;34m)\u001b[0m\u001b[0;34m]\u001b[0m\u001b[0;34m\u001b[0m\u001b[0;34m\u001b[0m\u001b[0m\n\u001b[0m\u001b[1;32m   1647\u001b[0m         \u001b[0;32mfor\u001b[0m \u001b[0mline\u001b[0m \u001b[0;32min\u001b[0m \u001b[0mlines\u001b[0m\u001b[0;34m:\u001b[0m\u001b[0;34m\u001b[0m\u001b[0;34m\u001b[0m\u001b[0m\n\u001b[1;32m   1648\u001b[0m             \u001b[0mself\u001b[0m\u001b[0;34m.\u001b[0m\u001b[0madd_line\u001b[0m\u001b[0;34m(\u001b[0m\u001b[0mline\u001b[0m\u001b[0;34m)\u001b[0m\u001b[0;34m\u001b[0m\u001b[0;34m\u001b[0m\u001b[0m\n",
            "\u001b[0;32m/usr/local/lib/python3.6/dist-packages/matplotlib/axes/_base.py\u001b[0m in \u001b[0;36m__call__\u001b[0;34m(self, *args, **kwargs)\u001b[0m\n\u001b[1;32m    214\u001b[0m                 \u001b[0mthis\u001b[0m \u001b[0;34m+=\u001b[0m \u001b[0margs\u001b[0m\u001b[0;34m[\u001b[0m\u001b[0;36m0\u001b[0m\u001b[0;34m]\u001b[0m\u001b[0;34m,\u001b[0m\u001b[0;34m\u001b[0m\u001b[0;34m\u001b[0m\u001b[0m\n\u001b[1;32m    215\u001b[0m                 \u001b[0margs\u001b[0m \u001b[0;34m=\u001b[0m \u001b[0margs\u001b[0m\u001b[0;34m[\u001b[0m\u001b[0;36m1\u001b[0m\u001b[0;34m:\u001b[0m\u001b[0;34m]\u001b[0m\u001b[0;34m\u001b[0m\u001b[0;34m\u001b[0m\u001b[0m\n\u001b[0;32m--> 216\u001b[0;31m             \u001b[0;32myield\u001b[0m \u001b[0;32mfrom\u001b[0m \u001b[0mself\u001b[0m\u001b[0;34m.\u001b[0m\u001b[0m_plot_args\u001b[0m\u001b[0;34m(\u001b[0m\u001b[0mthis\u001b[0m\u001b[0;34m,\u001b[0m \u001b[0mkwargs\u001b[0m\u001b[0;34m)\u001b[0m\u001b[0;34m\u001b[0m\u001b[0;34m\u001b[0m\u001b[0m\n\u001b[0m\u001b[1;32m    217\u001b[0m \u001b[0;34m\u001b[0m\u001b[0m\n\u001b[1;32m    218\u001b[0m     \u001b[0;32mdef\u001b[0m \u001b[0mget_next_color\u001b[0m\u001b[0;34m(\u001b[0m\u001b[0mself\u001b[0m\u001b[0;34m)\u001b[0m\u001b[0;34m:\u001b[0m\u001b[0;34m\u001b[0m\u001b[0;34m\u001b[0m\u001b[0m\n",
            "\u001b[0;32m/usr/local/lib/python3.6/dist-packages/matplotlib/axes/_base.py\u001b[0m in \u001b[0;36m_plot_args\u001b[0;34m(self, tup, kwargs)\u001b[0m\n\u001b[1;32m    340\u001b[0m \u001b[0;34m\u001b[0m\u001b[0m\n\u001b[1;32m    341\u001b[0m         \u001b[0;32mif\u001b[0m \u001b[0mx\u001b[0m\u001b[0;34m.\u001b[0m\u001b[0mshape\u001b[0m\u001b[0;34m[\u001b[0m\u001b[0;36m0\u001b[0m\u001b[0;34m]\u001b[0m \u001b[0;34m!=\u001b[0m \u001b[0my\u001b[0m\u001b[0;34m.\u001b[0m\u001b[0mshape\u001b[0m\u001b[0;34m[\u001b[0m\u001b[0;36m0\u001b[0m\u001b[0;34m]\u001b[0m\u001b[0;34m:\u001b[0m\u001b[0;34m\u001b[0m\u001b[0;34m\u001b[0m\u001b[0m\n\u001b[0;32m--> 342\u001b[0;31m             raise ValueError(f\"x and y must have same first dimension, but \"\n\u001b[0m\u001b[1;32m    343\u001b[0m                              f\"have shapes {x.shape} and {y.shape}\")\n\u001b[1;32m    344\u001b[0m         \u001b[0;32mif\u001b[0m \u001b[0mx\u001b[0m\u001b[0;34m.\u001b[0m\u001b[0mndim\u001b[0m \u001b[0;34m>\u001b[0m \u001b[0;36m2\u001b[0m \u001b[0;32mor\u001b[0m \u001b[0my\u001b[0m\u001b[0;34m.\u001b[0m\u001b[0mndim\u001b[0m \u001b[0;34m>\u001b[0m \u001b[0;36m2\u001b[0m\u001b[0;34m:\u001b[0m\u001b[0;34m\u001b[0m\u001b[0;34m\u001b[0m\u001b[0m\n",
            "\u001b[0;31mValueError\u001b[0m: x and y must have same first dimension, but have shapes (5,) and (30,)"
          ]
        },
        {
          "output_type": "display_data",
          "data": {
            "image/png": "[encoded data removed]",
            "text/plain": [
              "<Figure size 432x288 with 1 Axes>"
            ]
          },
          "metadata": {
            "tags": []
          }
        }
      ]
    },
    {
      "cell_type": "code",
      "metadata": {
        "id": "uP4eSB1v_E09",
        "colab_type": "code",
        "colab": {
          "base_uri": "https://localhost:8080/",
          "height": 282
        },
        "outputId": "cfdd2000-92cd-4883-870c-f22d81c1602b"
      },
      "source": [
        "plt.plot(np.array(max_x_list) - np.array(converge_x_list))"
      ],
      "execution_count": 178,
      "outputs": [
        {
          "output_type": "execute_result",
          "data": {
            "text/plain": [
              "[<matplotlib.lines.Line2D at 0x7ff199304780>]"
            ]
          },
          "metadata": {
            "tags": []
          },
          "execution_count": 178
        },
        {
          "output_type": "display_data",
          "data": {
            "image/png": "[encoded data removed]",
            "text/plain": [
              "<Figure size 432x288 with 1 Axes>"
            ]
          },
          "metadata": {
            "tags": []
          }
        }
      ]
    },
    {
      "cell_type": "code",
      "metadata": {
        "id": "SiScqOvF5WH7",
        "colab_type": "code",
        "colab": {
          "base_uri": "https://localhost:8080/",
          "height": 282
        },
        "outputId": "8544a7b3-7f9d-4ad0-82cd-51512c9ba185"
      },
      "source": [
        "plt.plot(range(30), max_x_list)\n",
        "plt.scatter(range(30), converge_x_list)"
      ],
      "execution_count": 176,
      "outputs": [
        {
          "output_type": "execute_result",
          "data": {
            "text/plain": [
              "<matplotlib.collections.PathCollection at 0x7ff1995106d8>"
            ]
          },
          "metadata": {
            "tags": []
          },
          "execution_count": 176
        },
        {
          "output_type": "display_data",
          "data": {
            "image/png": "[encoded data removed]",
            "text/plain": [
              "<Figure size 432x288 with 1 Axes>"
            ]
          },
          "metadata": {
            "tags": []
          }
        }
      ]
    }
  ]
}